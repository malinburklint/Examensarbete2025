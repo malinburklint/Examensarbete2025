{
 "cells": [
  {
   "cell_type": "markdown",
   "id": "71aa8fe5",
   "metadata": {},
   "source": [
    "# Examensarbete"
   ]
  },
  {
   "cell_type": "markdown",
   "id": "de846baa",
   "metadata": {},
   "source": [
    "Kod använd i examensarbetet \"Livscykelanlys på miljöpåverkan av saneringsmetoder för förorenad mark - En fallstudie för Norra Djurgårdsstaden\"\n",
    "\n",
    "av\n",
    "\n",
    "Burklint, Malin"
   ]
  },
  {
   "cell_type": "markdown",
   "id": "262ca4b6",
   "metadata": {},
   "source": [
    "## Set-up"
   ]
  },
  {
   "cell_type": "code",
   "execution_count": 1,
   "id": "b9d45509",
   "metadata": {},
   "outputs": [],
   "source": [
    "import pandas as pd\n",
    "import time\n",
    "import matplotlib.pyplot as plt\n",
    "import matplotlib as mpl\n",
    "from matplotlib import style\n",
    "style.available\n",
    "style.use('seaborn-v0_8')\n",
    "\n",
    "import numpy as np\n",
    "import sympy as sp\n",
    "from sympy.parsing.sympy_parser import parse_expr\n",
    "from collections import defaultdict, OrderedDict\n",
    "import brightway2 as bw2\n",
    "from bw2data.parameters import ActivityParameter, ProjectParameter, DatabaseParameter, Group\n",
    "import itertools\n",
    "\n",
    "from IPython.display import display, Math\n",
    "\n",
    "# Custom utils defined for inter-acv\n",
    "from lca_algebraic import *\n",
    "from lca_algebraic.stats import * \n",
    "import lca_algebraic as la\n",
    "import re\n",
    "\n",
    "from copy import deepcopy\n",
    "from os.path import isfile"
   ]
  },
  {
   "cell_type": "code",
   "execution_count": 2,
   "id": "70d36937",
   "metadata": {},
   "outputs": [],
   "source": [
    "fg = bw2.Database('Schakt Deponi')"
   ]
  },
  {
   "cell_type": "code",
   "execution_count": 3,
   "id": "daaac294",
   "metadata": {},
   "outputs": [],
   "source": [
    "project = 'ei-3.11'\n",
    "bw2.projects.set_current(project)\n",
    "USER_DB = 'Schakt Deponi'"
   ]
  },
  {
   "cell_type": "code",
   "execution_count": 4,
   "id": "4ff14b9c",
   "metadata": {
    "scrolled": true
   },
   "outputs": [],
   "source": [
    "IPCC = [method for method in bw2.methods if \"IPCC 2021\" in str(method) \n",
    "        and \"excl. biogenic CO2\" in str(method) \n",
    "        and \"GWP100\" in str(method)\n",
    "        and \"LT\" not in str(method)\n",
    "        and \"incl. SLCFs\" not in str(method)]\n",
    "IPCC_unit = [r'kg $CO_2$-eq']\n",
    "acid = [method for method in bw2.methods if \"terrestrial acidification potential (TAP)\" in str(method)\n",
    "       and \"midpoint (H) no LT\" in str(method)]\n",
    "acid_unit = [r'kg $SO_2$-eq']\n",
    "eutrofresh = [method for method in bw2.methods if \"freshwater eutrophication potential (FEP)\" in str(method)\n",
    "       and \"midpoint (H) no LT\" in str(method)]\n",
    "eutrofresh_unit = ['kg P-eq']\n",
    "eutromarine = [method for method in bw2.methods if \"marine eutrophication potential (MEP)\" in str(method)\n",
    "       and \"midpoint (H) no LT\" in str(method)]\n",
    "eutromarine_unit = ['kg N-eq']\n",
    "material = [method for method in bw2.methods if \"surplus ore potential (SOP)\" in str(method)\n",
    "       and \"midpoint (H) no LT\" in str(method)]\n",
    "material_unit = ['kg Cu-eq']\n",
    "water = [method for method in bw2.methods if \"water consumption potential (WCP)\" in str(method)\n",
    "        and \"midpoint (H) no LT\" in str(method)]\n",
    "water_unit = [r'm $^{3}$']"
   ]
  },
  {
   "cell_type": "code",
   "execution_count": 5,
   "id": "50359f00",
   "metadata": {},
   "outputs": [],
   "source": [
    "all_methods = IPCC + acid + eutrofresh + eutromarine + material + water\n",
    "all_methods_units = IPCC_unit + acid_unit + eutrofresh_unit + eutromarine_unit + material_unit + water_unit"
   ]
  },
  {
   "cell_type": "code",
   "execution_count": 6,
   "id": "4cc08ac0",
   "metadata": {},
   "outputs": [],
   "source": [
    "c_string = 'climate change - global warming potential (GWP100)'\n",
    "acid_string = 'terrestrial acidification potential (TAP)'\n",
    "eutrofresh_string = 'freshwater eutrophication potential (FEP)'\n",
    "eutromarine_string = 'marine eutrophication potential (MEP)'\n",
    "material_string = 'surplus ore potential (SOP)'\n",
    "water_string = 'water consumption potential (WCP)'"
   ]
  },
  {
   "cell_type": "code",
   "execution_count": 7,
   "id": "f5ace442",
   "metadata": {
    "scrolled": false
   },
   "outputs": [
    {
     "name": "stdout",
     "output_type": "stream",
     "text": [
      "3\n",
      "sikt_switch_param\n",
      "oxid_switch_param\n",
      "diesel_switch_param\n"
     ]
    }
   ],
   "source": [
    "# If you get Value Error: 0 -> There's a parameter with Unknown uncertainty \n",
    "# change it to No uncertainty\n",
    "loadParams()"
   ]
  },
  {
   "cell_type": "code",
   "execution_count": 8,
   "id": "f31c5308",
   "metadata": {},
   "outputs": [],
   "source": [
    "# define helping functions\n",
    "def calcError(median, min_value, max_value):\n",
    "    '''\n",
    "    Calculates error margin based on min and max value - used later in plotting\n",
    "    Input: median, min and max\n",
    "    Output: an array with the differences between median and min and max values, respectively\n",
    "    '''\n",
    "    return np.array([median-min_value, max_value-median]).reshape((2,1))"
   ]
  },
  {
   "cell_type": "code",
   "execution_count": 9,
   "id": "3bb5d506",
   "metadata": {},
   "outputs": [],
   "source": [
    "def calcMinMaxMedianError(Y, column):\n",
    "    '''\n",
    "    Input: The dataframe and column heading\n",
    "    Return min, max, median and error values in a column in a dataframe\n",
    "    '''\n",
    "    min_value = Y[column].min()\n",
    "    max_value = Y[column].max()\n",
    "    median = Y[column].median()\n",
    "    error = calcError(median, min_value, max_value)\n",
    "    return min_value, max_value, median, error"
   ]
  },
  {
   "cell_type": "code",
   "execution_count": 10,
   "id": "7e6b90ff",
   "metadata": {},
   "outputs": [],
   "source": [
    "def calc_perc(col1, col2):\n",
    "    '''\n",
    "    Input: two df columns\n",
    "    Returns: percentage of how many times col2 was lower (100% = 100 etc)\n",
    "    '''    \n",
    "    delta = col1 - col2\n",
    "    alt1 = 0\n",
    "    alt2 = 0\n",
    "    for row in delta:\n",
    "        if row > 0:\n",
    "            alt2 += 1\n",
    "        elif row < 0:\n",
    "            alt1 += 1\n",
    "    perc = alt2 / (alt1+alt2)\n",
    "    return perc*100"
   ]
  },
  {
   "cell_type": "code",
   "execution_count": 60,
   "id": "94e1da61",
   "metadata": {},
   "outputs": [],
   "source": [
    "for act in fg:\n",
    "\n",
    "    #print(act['name'])\n",
    "\n",
    "    for e in act.exchanges():\n",
    "\n",
    "        #print(e.input['name'])\n",
    "\n",
    "        #print(e.amount)\n",
    "\n",
    "        if(e.amount == None):\n",
    "\n",
    "            print('This is the one: ' + act['name'] + ', ' + e.input['name'])"
   ]
  },
  {
   "cell_type": "code",
   "execution_count": 17,
   "id": "c621a860",
   "metadata": {
    "scrolled": true
   },
   "outputs": [],
   "source": [
    "for act in fg2:\n",
    "\n",
    "    #print(act['name'])\n",
    "\n",
    "    for e in act.exchanges():\n",
    "\n",
    "        #print(e.input['name'])\n",
    "\n",
    "        #print(e.amount)\n",
    "\n",
    "        if(e.amount == None):\n",
    "\n",
    "            e['amount']=1\n",
    "\n",
    "            e.save() # if we don't save it, nothing happens"
   ]
  },
  {
   "cell_type": "markdown",
   "id": "169edf21",
   "metadata": {},
   "source": [
    "### generate y:s and data"
   ]
  },
  {
   "cell_type": "code",
   "execution_count": 14,
   "id": "cafc2ea3",
   "metadata": {},
   "outputs": [
    {
     "data": {
      "text/plain": [
       "\"\\n# remove #AsTech from biosphere, if needed, sometimes they appear out of nowhere\\nbiosphere = bw2.Database('biosphere3')\\nfor a in biosphere:\\n    if '#asTech' in a.key[1]:\\n        a.delete()\\n\""
      ]
     },
     "execution_count": 14,
     "metadata": {},
     "output_type": "execute_result"
    }
   ],
   "source": [
    "'''\n",
    "# remove #AsTech from biosphere, if needed, sometimes they appear out of nowhere\n",
    "biosphere = bw2.Database('biosphere3')\n",
    "for a in biosphere:\n",
    "    if '#asTech' in a.key[1]:\n",
    "        a.delete()\n",
    "'''"
   ]
  },
  {
   "cell_type": "code",
   "execution_count": 11,
   "id": "fe6bda62",
   "metadata": {},
   "outputs": [],
   "source": [
    "from lca_algebraic.stats import _stochastics\n",
    "from lca_algebraic.stats import _compute_stochastics"
   ]
  },
  {
   "cell_type": "code",
   "execution_count": 12,
   "id": "1baad0e5",
   "metadata": {},
   "outputs": [],
   "source": [
    "Ei_akt = findActivity(\"ALLA\", db_name=USER_DB)"
   ]
  },
  {
   "cell_type": "code",
   "execution_count": 13,
   "id": "51f8f173",
   "metadata": {
    "scrolled": true
   },
   "outputs": [
    {
     "name": "stdout",
     "output_type": "stream",
     "text": [
      "Generating samples ...\n"
     ]
    },
    {
     "name": "stderr",
     "output_type": "stream",
     "text": [
      "C:\\Users\\liza-\\anaconda3\\envs\\brightway\\Lib\\site-packages\\SALib\\sample\\saltelli.py:110: UserWarning: \n",
      "        Convergence properties of the Sobol' sequence is only valid if\n",
      "        `N` (5000) is equal to `2^n`.\n",
      "        \n",
      "  warnings.warn(msg)\n"
     ]
    },
    {
     "name": "stdout",
     "output_type": "stream",
     "text": [
      "Transforming samples ...\n"
     ]
    },
    {
     "name": "stderr",
     "output_type": "stream",
     "text": [
      "Error while parsing formula '' : backing to amount\n",
      "Error while parsing formula '' : backing to amount\n",
      "Error while parsing formula '' : backing to amount\n",
      "Error while parsing formula '' : backing to amount\n",
      "Error while parsing formula '' : backing to amount\n",
      "Error while parsing formula '' : backing to amount\n",
      "Error while parsing formula '' : backing to amount\n",
      "Error while parsing formula '' : backing to amount\n",
      "Error while parsing formula '' : backing to amount\n",
      "Error while parsing formula '' : backing to amount\n",
      "Error while parsing formula '' : backing to amount\n",
      "Error while parsing formula '' : backing to amount\n",
      "Error while parsing formula '' : backing to amount\n",
      "Error while parsing formula '' : backing to amount\n",
      "Error while parsing formula '' : backing to amount\n",
      "Error while parsing formula '' : backing to amount\n",
      "Error while parsing formula '' : backing to amount\n",
      "Error while parsing formula '' : backing to amount\n",
      "Error while parsing formula '' : backing to amount\n",
      "Error while parsing formula '' : backing to amount\n",
      "Error while parsing formula '' : backing to amount\n",
      "Error while parsing formula '' : backing to amount\n",
      "Error while parsing formula '' : backing to amount\n",
      "Error while parsing formula '' : backing to amount\n",
      "Error while parsing formula '' : backing to amount\n",
      "Error while parsing formula '' : backing to amount\n",
      "Error while parsing formula '' : backing to amount\n",
      "Error while parsing formula '' : backing to amount\n",
      "Error while parsing formula '' : backing to amount\n",
      "Error while parsing formula '' : backing to amount\n",
      "Error while parsing formula '' : backing to amount\n",
      "Error while parsing formula '' : backing to amount\n",
      "Error while parsing formula '' : backing to amount\n",
      "Error while parsing formula '' : backing to amount\n",
      "Error while parsing formula '' : backing to amount\n",
      "Error while parsing formula '' : backing to amount\n"
     ]
    }
   ],
   "source": [
    "# tar tid\n",
    "problem1, params, Y1 = _stochastics(Ei_akt, all_methods, n=5000)"
   ]
  },
  {
   "cell_type": "code",
   "execution_count": 14,
   "id": "edd9cf6a",
   "metadata": {
    "scrolled": true
   },
   "outputs": [
    {
     "data": {
      "text/html": [
       "<div>\n",
       "<style scoped>\n",
       "    .dataframe tbody tr th:only-of-type {\n",
       "        vertical-align: middle;\n",
       "    }\n",
       "\n",
       "    .dataframe tbody tr th {\n",
       "        vertical-align: top;\n",
       "    }\n",
       "\n",
       "    .dataframe thead th {\n",
       "        text-align: right;\n",
       "    }\n",
       "</style>\n",
       "<table border=\"1\" class=\"dataframe\">\n",
       "  <thead>\n",
       "    <tr style=\"text-align: right;\">\n",
       "      <th></th>\n",
       "      <th>climate change: total (excl. biogenic CO2) - global warming potential (GWP100)</th>\n",
       "      <th>acidification: terrestrial no LT - terrestrial acidification potential (TAP) no LT</th>\n",
       "      <th>eutrophication: freshwater no LT - freshwater eutrophication potential (FEP) no LT</th>\n",
       "      <th>eutrophication: marine no LT - marine eutrophication potential (MEP) no LT</th>\n",
       "      <th>material resources: metals/minerals no LT - surplus ore potential (SOP) no LT</th>\n",
       "      <th>water use no LT - water consumption potential (WCP) no LT</th>\n",
       "    </tr>\n",
       "  </thead>\n",
       "  <tbody>\n",
       "    <tr>\n",
       "      <th>0</th>\n",
       "      <td>874.736526</td>\n",
       "      <td>7.005327</td>\n",
       "      <td>0.030411</td>\n",
       "      <td>0.012085</td>\n",
       "      <td>35.990197</td>\n",
       "      <td>14.842045</td>\n",
       "    </tr>\n",
       "    <tr>\n",
       "      <th>1</th>\n",
       "      <td>874.800359</td>\n",
       "      <td>7.005425</td>\n",
       "      <td>0.030412</td>\n",
       "      <td>0.012085</td>\n",
       "      <td>35.992098</td>\n",
       "      <td>14.842176</td>\n",
       "    </tr>\n",
       "    <tr>\n",
       "      <th>2</th>\n",
       "      <td>874.736526</td>\n",
       "      <td>7.005327</td>\n",
       "      <td>0.030411</td>\n",
       "      <td>0.012085</td>\n",
       "      <td>35.990197</td>\n",
       "      <td>14.842045</td>\n",
       "    </tr>\n",
       "    <tr>\n",
       "      <th>3</th>\n",
       "      <td>868.756485</td>\n",
       "      <td>6.937504</td>\n",
       "      <td>0.030250</td>\n",
       "      <td>0.011976</td>\n",
       "      <td>35.726572</td>\n",
       "      <td>14.698245</td>\n",
       "    </tr>\n",
       "    <tr>\n",
       "      <th>4</th>\n",
       "      <td>874.736526</td>\n",
       "      <td>7.005327</td>\n",
       "      <td>0.030411</td>\n",
       "      <td>0.012085</td>\n",
       "      <td>35.990197</td>\n",
       "      <td>14.842045</td>\n",
       "    </tr>\n",
       "    <tr>\n",
       "      <th>...</th>\n",
       "      <td>...</td>\n",
       "      <td>...</td>\n",
       "      <td>...</td>\n",
       "      <td>...</td>\n",
       "      <td>...</td>\n",
       "      <td>...</td>\n",
       "    </tr>\n",
       "    <tr>\n",
       "      <th>759995</th>\n",
       "      <td>744.127630</td>\n",
       "      <td>6.411165</td>\n",
       "      <td>0.019788</td>\n",
       "      <td>0.012279</td>\n",
       "      <td>40.457707</td>\n",
       "      <td>14.515233</td>\n",
       "    </tr>\n",
       "    <tr>\n",
       "      <th>759996</th>\n",
       "      <td>705.521522</td>\n",
       "      <td>6.220333</td>\n",
       "      <td>0.019875</td>\n",
       "      <td>0.011706</td>\n",
       "      <td>37.366359</td>\n",
       "      <td>12.656473</td>\n",
       "    </tr>\n",
       "    <tr>\n",
       "      <th>759997</th>\n",
       "      <td>810.494080</td>\n",
       "      <td>7.156887</td>\n",
       "      <td>0.022163</td>\n",
       "      <td>0.013394</td>\n",
       "      <td>41.312934</td>\n",
       "      <td>16.016133</td>\n",
       "    </tr>\n",
       "    <tr>\n",
       "      <th>759998</th>\n",
       "      <td>744.147275</td>\n",
       "      <td>6.411272</td>\n",
       "      <td>0.019788</td>\n",
       "      <td>0.012279</td>\n",
       "      <td>40.459082</td>\n",
       "      <td>14.515375</td>\n",
       "    </tr>\n",
       "    <tr>\n",
       "      <th>759999</th>\n",
       "      <td>744.147275</td>\n",
       "      <td>6.411272</td>\n",
       "      <td>0.019788</td>\n",
       "      <td>0.012279</td>\n",
       "      <td>40.459082</td>\n",
       "      <td>14.515375</td>\n",
       "    </tr>\n",
       "  </tbody>\n",
       "</table>\n",
       "<p>760000 rows × 6 columns</p>\n",
       "</div>"
      ],
      "text/plain": [
       "        climate change: total (excl. biogenic CO2) - global warming potential (GWP100)  \\\n",
       "0                                              874.736526                                \n",
       "1                                              874.800359                                \n",
       "2                                              874.736526                                \n",
       "3                                              868.756485                                \n",
       "4                                              874.736526                                \n",
       "...                                                   ...                                \n",
       "759995                                         744.127630                                \n",
       "759996                                         705.521522                                \n",
       "759997                                         810.494080                                \n",
       "759998                                         744.147275                                \n",
       "759999                                         744.147275                                \n",
       "\n",
       "        acidification: terrestrial no LT - terrestrial acidification potential (TAP) no LT  \\\n",
       "0                                                7.005327                                    \n",
       "1                                                7.005425                                    \n",
       "2                                                7.005327                                    \n",
       "3                                                6.937504                                    \n",
       "4                                                7.005327                                    \n",
       "...                                                   ...                                    \n",
       "759995                                           6.411165                                    \n",
       "759996                                           6.220333                                    \n",
       "759997                                           7.156887                                    \n",
       "759998                                           6.411272                                    \n",
       "759999                                           6.411272                                    \n",
       "\n",
       "        eutrophication: freshwater no LT - freshwater eutrophication potential (FEP) no LT  \\\n",
       "0                                                0.030411                                    \n",
       "1                                                0.030412                                    \n",
       "2                                                0.030411                                    \n",
       "3                                                0.030250                                    \n",
       "4                                                0.030411                                    \n",
       "...                                                   ...                                    \n",
       "759995                                           0.019788                                    \n",
       "759996                                           0.019875                                    \n",
       "759997                                           0.022163                                    \n",
       "759998                                           0.019788                                    \n",
       "759999                                           0.019788                                    \n",
       "\n",
       "        eutrophication: marine no LT - marine eutrophication potential (MEP) no LT  \\\n",
       "0                                                0.012085                            \n",
       "1                                                0.012085                            \n",
       "2                                                0.012085                            \n",
       "3                                                0.011976                            \n",
       "4                                                0.012085                            \n",
       "...                                                   ...                            \n",
       "759995                                           0.012279                            \n",
       "759996                                           0.011706                            \n",
       "759997                                           0.013394                            \n",
       "759998                                           0.012279                            \n",
       "759999                                           0.012279                            \n",
       "\n",
       "        material resources: metals/minerals no LT - surplus ore potential (SOP) no LT  \\\n",
       "0                                               35.990197                               \n",
       "1                                               35.992098                               \n",
       "2                                               35.990197                               \n",
       "3                                               35.726572                               \n",
       "4                                               35.990197                               \n",
       "...                                                   ...                               \n",
       "759995                                          40.457707                               \n",
       "759996                                          37.366359                               \n",
       "759997                                          41.312934                               \n",
       "759998                                          40.459082                               \n",
       "759999                                          40.459082                               \n",
       "\n",
       "        water use no LT - water consumption potential (WCP) no LT  \n",
       "0                                               14.842045          \n",
       "1                                               14.842176          \n",
       "2                                               14.842045          \n",
       "3                                               14.698245          \n",
       "4                                               14.842045          \n",
       "...                                                   ...          \n",
       "759995                                          14.515233          \n",
       "759996                                          12.656473          \n",
       "759997                                          16.016133          \n",
       "759998                                          14.515375          \n",
       "759999                                          14.515375          \n",
       "\n",
       "[760000 rows x 6 columns]"
      ]
     },
     "execution_count": 14,
     "metadata": {},
     "output_type": "execute_result"
    }
   ],
   "source": [
    "Y1"
   ]
  },
  {
   "cell_type": "code",
   "execution_count": 15,
   "id": "b595010b",
   "metadata": {},
   "outputs": [],
   "source": [
    "Ei_akt_min, Ei_akt_max, Ei_akt_med, Ei_akt_e = calcMinMaxMedianError(Y1, 'climate change: total (excl. biogenic CO2) - global warming potential (GWP100)')"
   ]
  },
  {
   "cell_type": "code",
   "execution_count": 16,
   "id": "aad8f3ed",
   "metadata": {},
   "outputs": [
    {
     "data": {
      "text/plain": [
       "608.2648682681048"
      ]
     },
     "execution_count": 16,
     "metadata": {},
     "output_type": "execute_result"
    }
   ],
   "source": [
    "Ei_akt_min"
   ]
  },
  {
   "cell_type": "code",
   "execution_count": 17,
   "id": "5e4034ec",
   "metadata": {
    "scrolled": true
   },
   "outputs": [
    {
     "data": {
      "text/plain": [
       "1056.938144869818"
      ]
     },
     "execution_count": 17,
     "metadata": {},
     "output_type": "execute_result"
    }
   ],
   "source": [
    "Ei_akt_max"
   ]
  },
  {
   "cell_type": "code",
   "execution_count": 20,
   "id": "f1ad4bc6",
   "metadata": {},
   "outputs": [],
   "source": [
    "climate_label = 'kg CO'+'$_{2}$' +'-eq / m' +'$^{2}$' +' behandlad yta'\n",
    "acid_label = 'kg SO'+'$_{2}$' +'-eq / m' +'$^{2}$' +' behandlad yta'\n",
    "ef_label = 'kg P'+'-eq / m' +'$^{2}$' +' behandlad yta'\n",
    "em_label = 'kg N'+'-eq / m' +'$^{2}$' +' behandlad yta'\n",
    "m_label = 'kg Cu'+'-eq / m' +'$^{2}$' +' behandlad yta'\n",
    "w_label = 'm' +'$^{3}$ / m' +'$^{2}$' +' behandlad yta'"
   ]
  },
  {
   "cell_type": "code",
   "execution_count": 21,
   "id": "40a81bf7",
   "metadata": {
    "scrolled": false
   },
   "outputs": [
    {
     "data": {
      "text/plain": [
       "[]"
      ]
     },
     "execution_count": 21,
     "metadata": {},
     "output_type": "execute_result"
    },
    {
     "data": {
      "image/png": "[encoded data removed]",
      "text/plain": [
       "<Figure size 200x300 with 1 Axes>"
      ]
     },
     "metadata": {},
     "output_type": "display_data"
    }
   ],
   "source": [
    "# result figure\n",
    "fig, ax = plt.subplots(figsize = (2,3))\n",
    "ax.errorbar(y=Ei_akt_med, x=1, yerr = Ei_akt_e, capsize=10, elinewidth=3, markeredgewidth=3, color='black')\n",
    "\n",
    "ax.set_facecolor('white')\n",
    "ax.grid(color='silver')\n",
    "\n",
    "ax.set_ylabel(climate_label)\n",
    "ax.hlines(y=0, xmin=0.5, xmax=1.5, linewidth=1, color='black')\n",
    "ax.set_xticks([])"
   ]
  },
  {
   "cell_type": "code",
   "execution_count": 22,
   "id": "72fcf7ef",
   "metadata": {},
   "outputs": [],
   "source": [
    "fig.savefig('Tot_C', dpi=600, bbox_inches='tight')"
   ]
  },
  {
   "cell_type": "code",
   "execution_count": 23,
   "id": "a83b8aa1",
   "metadata": {},
   "outputs": [],
   "source": [
    "Ei_aktA = findActivity(\"ALLA\", db_name=USER_DB)"
   ]
  },
  {
   "cell_type": "code",
   "execution_count": 110,
   "id": "9e23ccd5",
   "metadata": {},
   "outputs": [],
   "source": [
    "Ei_aktA_min, Ei_aktA_max, Ei_aktA_med, Ei_aktA_e = calcMinMaxMedianError(Y1, 'acidification: terrestrial no LT - terrestrial acidification potential (TAP) no LT')"
   ]
  },
  {
   "cell_type": "code",
   "execution_count": 115,
   "id": "ee1d18e7",
   "metadata": {},
   "outputs": [],
   "source": [
    "Ei_aktEF = findActivity(\"ALLA\", db_name=USER_DB)"
   ]
  },
  {
   "cell_type": "code",
   "execution_count": 116,
   "id": "746f7af6",
   "metadata": {},
   "outputs": [],
   "source": [
    "Ei_aktEF_min, Ei_aktEF_max, Ei_aktEF_med, Ei_aktEF_e = calcMinMaxMedianError(Y1, 'eutrophication: freshwater no LT - freshwater eutrophication potential (FEP) no LT')"
   ]
  },
  {
   "cell_type": "code",
   "execution_count": 25,
   "id": "62336c41",
   "metadata": {},
   "outputs": [],
   "source": [
    "Ei_aktEM = findActivity(\"ALLA\", db_name=USER_DB)"
   ]
  },
  {
   "cell_type": "code",
   "execution_count": 26,
   "id": "461af73d",
   "metadata": {},
   "outputs": [],
   "source": [
    "Ei_aktEM_min, Ei_aktEM_max, Ei_aktEM_med, Ei_aktEM_e = calcMinMaxMedianError(Y1, 'eutrophication: marine no LT - marine eutrophication potential (MEP) no LT')"
   ]
  },
  {
   "cell_type": "code",
   "execution_count": 119,
   "id": "f3e498c8",
   "metadata": {},
   "outputs": [],
   "source": [
    "Ei_aktM = findActivity(\"ALLA\", db_name=USER_DB)"
   ]
  },
  {
   "cell_type": "code",
   "execution_count": 120,
   "id": "1f894aba",
   "metadata": {},
   "outputs": [],
   "source": [
    "Ei_aktM_min, Ei_aktM_max, Ei_aktM_med, Ei_aktM_e = calcMinMaxMedianError(Y1, 'material resources: metals/minerals no LT - surplus ore potential (SOP) no LT')"
   ]
  },
  {
   "cell_type": "code",
   "execution_count": 123,
   "id": "81ccb6d6",
   "metadata": {},
   "outputs": [],
   "source": [
    "Ei_aktW = findActivity(\"ALLA\", db_name=USER_DB)"
   ]
  },
  {
   "cell_type": "code",
   "execution_count": 124,
   "id": "48556236",
   "metadata": {},
   "outputs": [],
   "source": [
    "Ei_aktW_min, Ei_aktW_max, Ei_aktW_med, Ei_aktW_e = calcMinMaxMedianError(Y1, 'water use no LT - water consumption potential (WCP) no LT')"
   ]
  },
  {
   "cell_type": "code",
   "execution_count": 125,
   "id": "29a60155",
   "metadata": {
    "scrolled": true
   },
   "outputs": [
    {
     "data": {
      "text/plain": [
       "[]"
      ]
     },
     "execution_count": 125,
     "metadata": {},
     "output_type": "execute_result"
    },
    {
     "data": {
      "image/png": "[encoded data removed]",
      "text/plain": [
       "<Figure size 200x300 with 1 Axes>"
      ]
     },
     "metadata": {},
     "output_type": "display_data"
    }
   ],
   "source": [
    "fig, ax = plt.subplots(figsize = (2,3))\n",
    "\n",
    "ax.errorbar(y=Ei_aktW_med, x=1, yerr = Ei_aktW_e, capsize=10, elinewidth=3, markeredgewidth=3, color='orchid')\n",
    "\n",
    "ax.set_facecolor('white')\n",
    "ax.grid(color='silver')\n",
    "\n",
    "ax.set_ylabel(ef_label)\n",
    "ax.hlines(y=0, xmin=0.5, xmax=1.5, linewidth=1, color='black')\n",
    "ax.set_xticks([])"
   ]
  },
  {
   "cell_type": "code",
   "execution_count": 126,
   "id": "62f42466",
   "metadata": {},
   "outputs": [],
   "source": [
    "fig.savefig('Tot_W', dpi = 600, bbox_inches = 'tight')"
   ]
  },
  {
   "cell_type": "markdown",
   "id": "09cd4578",
   "metadata": {},
   "source": [
    "## CA"
   ]
  },
  {
   "cell_type": "code",
   "execution_count": 15,
   "id": "763d3e84",
   "metadata": {},
   "outputs": [],
   "source": [
    "## CA setup\n",
    "from __future__ import print_function, unicode_literals\n",
    "from eight import *\n",
    "\n",
    "from bw2data import databases, methods, get_activity, Method\n",
    "from bw2calc import LCA"
   ]
  },
  {
   "cell_type": "code",
   "execution_count": 16,
   "id": "0a064d0b",
   "metadata": {},
   "outputs": [],
   "source": [
    "# *** lägg till nya dbs??? ***\n",
    "\n",
    "fg = 'Schakt Deponi' # om flera databaser, lägg till flera dbs!\n",
    "fg2 = 'BALANCE_fg'\n",
    "fu1 = {('Schakt Deponi', '507014e52a844eaea7e9cbe55d3ba53e'):1} #Alla\n",
    "fu2 = {('Schakt Deponi', '9d59bcf49e804a35b67a7945ea21cf00'):1} #Schakt\n",
    "fu3 = {('Schakt Deponi', 'oxideringSwitch'):1} #Oxideringmorän\n",
    "fu4 = {('Schakt Deponi', 'b4173d4ece2842b49bcaa7e3440b8337'):1} #Oxideringlera"
   ]
  },
  {
   "cell_type": "code",
   "execution_count": 17,
   "id": "3153e13f",
   "metadata": {},
   "outputs": [],
   "source": [
    "def traverse_tagged_databases(\n",
    "    functional_unit, method, label=\"tag\", default_tag=\"other\", secondary_tags=[],\n",
    "    fg_databases=None, bio2tech=False, parent4other=False\n",
    "):\n",
    "\n",
    "    \"\"\"\n",
    "    ESA : allows to perform grouping as in SimaPro \n",
    "    Traverse a functional unit throughout its foreground database(s) or the    \n",
    "    listed databses in fg_databses, and group impacts by tag label.\n",
    "\n",
    "    Contribution analysis work by linking impacts to individual activities.\n",
    "    However, you also might want to group impacts in other ways. For example,\n",
    "    give individual biosphere exchanges their own grouping, or aggregate two\n",
    "    activities together.\n",
    "    \n",
    "    Consider this example system, where the letters are the tag labels, and the\n",
    "    numbers are exchange amounts. The functional unit is one unit of the tree\n",
    "    root.\n",
    "\n",
    "    .. image:: images/tagged-traversal.png\n",
    "       :alt: Example tagged supply chain\n",
    "\n",
    "    In this supply chain, tags are applied to activities and biosphere exchanges.\n",
    "    If a biosphere exchange is not tagged, it inherits the tag of its producing\n",
    "    activity. Similarly, links to other databases are assessed with the usual\n",
    "    LCA machinery, and the total LCA score is tagged according to its consuming\n",
    "    activity. If an activity does not have a tag, a default tag is applied.\n",
    "\n",
    "    We can change our visualization to show the use of the default tags:\n",
    "    \n",
    "    .. image:: images/tagged-traversal-2.png\n",
    "       :alt: Example tagged supply chain\n",
    "\n",
    "    And then we can manually calculate the tagged impacts. Normally we would\n",
    "    need to know the actual biosphere flows and their respective\n",
    "    characterization factors (CF), but in this example we assume that each\n",
    "    CF is one. Our result, group by tags, would therefore be:\n",
    "\n",
    "        * **A**: :math:`6 + 27 = 33`\n",
    "\n",
    "        * **B**: :math:`30 + 44 = 74`\n",
    "\n",
    "        * **C**: :math:`5 + 16 + 48 = 69`\n",
    "\n",
    "        * **D**: :math:`14`\n",
    "\n",
    "    This function will only traverse the foreground database, i.e. the\n",
    "    database of the functional unit activity. A functional unit can have\n",
    "    multiple starting nodes; in this case, all foreground databases are\n",
    "    traversed.\n",
    "\n",
    "    Input arguments:\n",
    "        * ``functional_unit``: A functional unit dictionary, e.g. ``{(\"foo\", \"bar\"): 42}``.\n",
    "        * ``method``: A method name, e.g. ``(\"foo\", \"bar\")``\n",
    "        * ``label``: The label of the tag classifier. Default is ``\"tag\"``\n",
    "        * ``default_tag``: The tag classifier to use if none was given. Default is ``\"other\"``\n",
    "        * ``secondary_tags``: List of tuples in the format (secondary_label, secondary_default_tag). Default is empty list.      \n",
    "        * ``fg_databases``: a list of foreground databases to be traversed, e.g. ['foreground', 'biomass', 'machinery']\n",
    "                            It's not recommended to include all databases of a project in the list to be traversed, especially not ecoinvent itself\n",
    "\n",
    "    Returns:\n",
    "        Aggregated tags dictionary from ``aggregate_tagged_graph``, and tagged supply chain graph from ``recurse_tagged_database``.\n",
    "\n",
    "\n",
    "    \"\"\"\n",
    "\n",
    "    lca = LCA(functional_unit, method)\n",
    "    lca.lci(factorize=True)\n",
    "    lca.lcia()\n",
    "    method_dict = {o[0]: o[1] for o in Method(method).load()}\n",
    "    \n",
    "    graph = [\n",
    "        recurse_tagged_database(\n",
    "            key, amount, method_dict, lca, label, default_tag, secondary_tags, fg_databases, parent4other\n",
    "        )\n",
    "        for key, amount in functional_unit.items()\n",
    "    ]\n",
    "\n",
    "    return aggregate_tagged_graph(graph, bio2tech), graph"
   ]
  },
  {
   "cell_type": "code",
   "execution_count": 18,
   "id": "4b901ae0",
   "metadata": {},
   "outputs": [],
   "source": [
    "def aggregate_tagged_graph(graph, bio2tech=False,):\n",
    "    \"\"\"Aggregate a graph produced by ``recurse_tagged_database`` by the provided tags.\n",
    "\n",
    "    Outputs a dictionary with keys of tags and numeric values.\n",
    "    \n",
    "    If bio2tech is set to True, then biosphere exchanges are added to the tag of the parent activity (instead of direct emissions)\n",
    "\n",
    "    .. code-block:: python\n",
    "\n",
    "        {'a tag': summed LCIA scores}\n",
    "\n",
    "    \"\"\"\n",
    "\n",
    "    def recursor(obj, scores):\n",
    "        scores[obj[\"tag\"]] += obj[\"impact\"]\n",
    "        if bio2tech:\n",
    "            for flow in obj[\"biosphere\"]:\n",
    "                scores[obj[\"tag\"]] += flow[\"impact\"]\n",
    "        else: # default behavior\n",
    "            for flow in obj[\"biosphere\"]:\n",
    "                scores[flow[\"tag\"]] += flow[\"impact\"]\n",
    "        for exc in obj[\"technosphere\"]:\n",
    "            scores = recursor(exc, scores)\n",
    "        return scores\n",
    "\n",
    "    scores = defaultdict(int)\n",
    "    for obj in graph:\n",
    "        scores = recursor(obj, scores)\n",
    "    return scores"
   ]
  },
  {
   "cell_type": "code",
   "execution_count": 19,
   "id": "97192777",
   "metadata": {},
   "outputs": [],
   "source": [
    "def recurse_tagged_database(\n",
    "    activity, amount, method_dict, lca, label, default_tag, secondary_tags=[], fg_databases=None, parent4other=False\n",
    "):\n",
    "\n",
    "    \"\"\"Traverse a foreground database and assess activities and biosphere flows by tags.\n",
    "\n",
    "\n",
    "    Input arguments:\n",
    "\n",
    "\n",
    "        * ``activity``: Activity tuple or object\n",
    "        * ``amount``: float\n",
    "        * ``method_dict``: Dictionary of biosphere flow tuples to CFs, e.g. ``{(\"biosphere\", \"foo\"): 3}``\n",
    "        * ``lca``: An ``LCA`` object that is already initialized, i.e. has already calculated LCI and LCIA with same method as in ``method_dict``\n",
    "        * ``label``: string\n",
    "        * ``default_tag``: string\n",
    "        * ``secondary_tags``: List of tuples in the format (secondary_label, secondary_default_tag). Default is empty list.     \n",
    "        * ``fg_databases``: a list of foreground databases to be traversed, e.g. ['foreground', 'biomass', 'machinery']\n",
    "                            It's not recommended to include all databases of a project in the list to be traversed, especially not ecoinvent itself\n",
    "        * parent4other=False : if True, untagged technosphere exchanges are aggregated with their parent .. become \"outside\"\n",
    "\n",
    "  Returns:\n",
    "    .. code-block:: python\n",
    "\n",
    "        {\n",
    "            'activity': activity object,\n",
    "            'amount': float,\n",
    "            'tag': string,\n",
    "            'secondary_tags': [list of strings],\n",
    "            'impact': float (impact of inputs from outside foreground database),\n",
    "            'biosphere': [{\n",
    "                'amount': float,\n",
    "                'impact': float,\n",
    "                'tag': string,\n",
    "                'secondary_tags': [list of strings]\n",
    "            }],\n",
    "            'technosphere': [this data structure]\n",
    "        }\n",
    "\n",
    "    \"\"\"\n",
    "\n",
    "    if isinstance(activity, tuple):\n",
    "        activity = get_activity(activity)\n",
    "        \n",
    "    if fg_databases == None: # then set the list equal to the database of the functional unit \n",
    "    \n",
    "        fg_databases = [activity['database']] # list, single item\n",
    "    \n",
    "    elif fg_databases == list(bw2.Database(activity['database']).find_graph_dependents()): \n",
    "        # check that the list fg_databases does not include all the databases involved in the FU \n",
    "        # (otherwise, it would mean we are likely to have to recurse through ecoinvent... not funny)\n",
    "        # ideally, should only on first call of recurse_tagged_database\n",
    "        raise Exception('The list of databases to traverse fg_databases should not be equal to the all databases involved in the project. You risk to attempt to traverse a background database like ecoinvent - it would take too much time')\n",
    "\n",
    "    inputs = list(activity.technosphere())\n",
    "    #print('activity', activity['name'])\n",
    "    #print('inputs', inputs)\n",
    "    \n",
    "    production = list(activity.production())\n",
    "    if len(production) == 1:\n",
    "        scale = production[0][\"amount\"]\n",
    "    elif not production:\n",
    "        # Assume production amount of 1\n",
    "        scale = 1\n",
    "    else:\n",
    "        raise ValueError(\"Can't scale by production exchange\")\n",
    "\n",
    "    inside = [exc for exc in inputs if exc[\"input\"][0] in fg_databases] # inside = activities in fg_databases\n",
    "    #print('inside', inside)\n",
    "    \n",
    "    outside = {\n",
    "        exc[\"input\"]: exc[\"amount\"] / scale * amount\n",
    "        for exc in inputs\n",
    "        if exc[\"input\"][0] not in fg_databases ## calculates impacts for activities outside of fg_databases\n",
    "    } # this is a dict of functional units, ready for lca score calculation\n",
    "\n",
    "    if outside:\n",
    "        lca.redo_lcia(outside)\n",
    "        outside_score = lca.score\n",
    "\n",
    "    else:\n",
    "        outside_score = 0\n",
    "\n",
    "    if parent4other:\n",
    "        #if this option is set to True, will change default_tag's value to the tag\n",
    "        # of the parent activity if itself was not empty \n",
    "        if activity.get(label) != None:\n",
    "            default_tag = activity.get(label)\n",
    "    \n",
    "    #print(default_tag)\n",
    "    return {\n",
    "        \"activity\": activity,\n",
    "        \"amount\": amount,\n",
    "        \"tag\": activity.get(label) or default_tag,\n",
    "        \"secondary_tags\": [activity.get(t[0]) or t[1] for t in secondary_tags],\n",
    "        \"impact\": outside_score,\n",
    "        \"biosphere\": [\n",
    "            {\n",
    "                \"amount\": exc[\"amount\"] / scale * amount,\n",
    "                \"impact\": exc[\"amount\"]\n",
    "                / scale\n",
    "                * amount\n",
    "                * method_dict.get(exc[\"input\"], 0),\n",
    "                \"tag\": exc.get(label) or activity.get(label) or default_tag,\n",
    "                \"secondary_tags\": [\n",
    "                    exc.get(t[0]) or activity.get(t[0]) or t[1] for t in secondary_tags\n",
    "                ],\n",
    "            }\n",
    "            for exc in activity.biosphere()\n",
    "        ],\n",
    "        \"technosphere\": [\n",
    "            recurse_tagged_database(\n",
    "                exc.input,\n",
    "                exc[\"amount\"] / scale * amount,\n",
    "                method_dict,\n",
    "                lca,\n",
    "                label,\n",
    "                default_tag,\n",
    "                secondary_tags,\n",
    "                fg_databases,\n",
    "                parent4other\n",
    "            )\n",
    "            for exc in inside\n",
    "        ],\n",
    "    }\n"
   ]
  },
  {
   "cell_type": "code",
   "execution_count": 20,
   "id": "9d2d9b93",
   "metadata": {},
   "outputs": [],
   "source": [
    "def rewrite_tagged_database(fg_db_to_tag, new_data):\n",
    "    '''\n",
    "    fg_db_to_dag : name of database to be re-written in bw2\n",
    "    new_data : the newly tagged database\n",
    "    bw2 will raise error if new data does not correspond to target database\n",
    "    '''\n",
    "    val = input(\"Do you want to proceed (Y/N) ? \")\n",
    "    if val != 'Y':\n",
    "        print('Okay, we stop here')\n",
    "    else:\n",
    "        db = bw2.Database(fg_db_to_tag)\n",
    "        db.write(new_data)"
   ]
  },
  {
   "cell_type": "code",
   "execution_count": 21,
   "id": "bb799369",
   "metadata": {},
   "outputs": [],
   "source": [
    "def conveniently_tag_database_v2(fg_db_to_tag = '', label='', ):\n",
    "    '''\n",
    "    Auxiliary function to conveniently assign new tag labels to a foreground database, for group analysis.\n",
    "    Select a forground database to tag, via fg_db_to_tag;\n",
    "    Then define the label name, via label\n",
    "    Then, loop through all activities, and assign directly new attributes, using peewee functions to save\n",
    "\n",
    "    Does not return anything. Changes are directly saved to database. Should avoid running into bugs of re-writing database. \n",
    "    \n",
    "    Usage: conveniently_tag_database('fg_database', 'label_name')\n",
    "    '''\n",
    "    db = bw2.Database(fg_db_to_tag)\n",
    "    print('There are %i items to be tagged, one by one' %(len(db)) )\n",
    "    val = input(\"Do you want to proceed (Y/N) ? \")\n",
    "    n=0\n",
    "    r=0\n",
    "    if val != 'Y':\n",
    "        print('Okay, we stop here')\n",
    "    else:\n",
    "        print(\"Lets proceed! Type 'skip' in order to not tag the given activity or remove existing tag\")\n",
    "        for act in db:\n",
    "            val = input(act['name'] + \"... to be in the group called... ? \")\n",
    "            \n",
    "            if val == 'skip':\n",
    "                # need to pop the key if it was defined previously\n",
    "                act.pop(label, 'label was not present')\n",
    "                r+=1\n",
    "            if val != 'skip':\n",
    "                act[label] = val\n",
    "                n+=1\n",
    "            \n",
    "            act.save() # save back to db\n",
    "    print(\"Number of activities tagged: %i\" %(n))\n",
    "    print(\"Number of activities skipped: %i\" %(r))"
   ]
  },
  {
   "cell_type": "code",
   "execution_count": 22,
   "id": "7e4d3c0b",
   "metadata": {},
   "outputs": [],
   "source": [
    "def run_graphTaggedTraversal(fus, methods, methods_units, label, default_tag, fg_dbs, bio2tech=True, parent4other=True):\n",
    "    '''\n",
    "    For a set of functional units, and a set of impact assessment method (but slow)\n",
    "    '''\n",
    "    \n",
    "    result_pds = pd.DataFrame()\n",
    "    for fu in fus:\n",
    "        #lci, lcia\n",
    "        a = bw2.get_activity( list(fu.items())[0][0] ) # tuple of activity\n",
    "        print(a['name'], str(list(fu.items())[0][1]))\n",
    "        scores = []\n",
    "        for n, m in enumerate(methods): # inefficient on methods, should use multi-method version with switch lcia\n",
    "            agg_graph, graph = traverse_tagged_databases(fu, m, \n",
    "                                                         label=label, default_tag=default_tag,\n",
    "                                                         fg_databases=fg_dbs,\n",
    "                                                         bio2tech=bio2tech,\n",
    "                                                         parent4other=parent4other\n",
    "                                                        )\n",
    "\n",
    "            result_pd = pd.DataFrame(agg_graph, index=[0])\n",
    "\n",
    "            result_pd['Impact'] = [m]\n",
    "            result_pd['Units'] = [methods_units[n]]\n",
    "                       \n",
    "            result_pd['FU'] = [ a['name'] ]\n",
    "            result_pd['FU_amount'] = [ str(list(fu.items())[0][1]) ]\n",
    "            # list(fu.items())[0][0]+'-'+str(list(fu.items())[0][1]) \n",
    "\n",
    "            result_pds = result_pds.append(result_pd, sort=False)\n",
    "\n",
    "    result_pds.set_index(['FU','FU_amount', 'Impact', 'Units'], inplace=True)\n",
    "    \n",
    "    return result_pds"
   ]
  },
  {
   "cell_type": "code",
   "execution_count": 23,
   "id": "068b6429",
   "metadata": {},
   "outputs": [],
   "source": [
    "## contribution analysis functions, adapted for lca_agebraic, with multiple impact categories & tags\n",
    "def runAlgebraicGraphTraversal(fus, methods, label=\"tag\", default_tag=\"other\", secondary_tags=[],\n",
    "    fg_databases=None, bio2tech=False, parent4other=False\n",
    "):\n",
    "    '''\n",
    "    Loop around multi_algebraic_traverse_tagged_databases, to perform analysis for multiple functional units at once.\n",
    "    - fus : a list of fu dictionaries or a single fu dict\n",
    "    - methods: a list of method tuples\n",
    "    - label: name of label for grouping\n",
    "    '''\n",
    "    all_graphs = {}\n",
    "    if(not isinstance(fus, list)):\n",
    "        fus = [fus]\n",
    "    for fu in fus:\n",
    "        agg_graph, graph = multi_algebraic_traverse_tagged_databases(fu, methods, label, default_tag, secondary_tags, fg_databases, bio2tech, parent4other)\n",
    "        all_graphs[next(iter(fu))] = {'agg_graph': agg_graph, 'graph': graph}\n",
    "    return all_graphs\n",
    "\n",
    "def multi_algebraic_traverse_tagged_databases(\n",
    "    functional_unit, methods, label=\"tag\", default_tag=\"other\", secondary_tags=[],\n",
    "    fg_databases=None, bio2tech=False, parent4other=False\n",
    "):\n",
    "    # is this really needed?\n",
    "    lca = bw2.LCA(functional_unit, methods[0])\n",
    "    lca.lci(factorize=True)\n",
    "    lca.lcia()\n",
    "    ###\n",
    "    \n",
    "    method_dicts = [{o[0]: o[1] for o in bw2.Method(method).load()} for method in methods]\n",
    "    graph = [multi_algebraic_recurse_tagged_database(key, amount, methods, method_dicts, lca, label, default_tag, secondary_tags, fg_databases, parent4other)\n",
    "             for key, amount in functional_unit.items()]\n",
    "             \n",
    "    return multi_algebraic_aggregate_tagged_graph(graph, bio2tech), graph\n",
    "    \n",
    "def multi_algebraic_aggregate_tagged_graph(graph, bio2tech=False):\n",
    "    \"\"\"Aggregate a graph produced by ``recurse_tagged_database`` by the provided tags.\n",
    "    Outputs a dictionary with keys of tags and numeric values.  \n",
    "    If bio2tech is set to True, then biosphere exchanges are added to the tag of the parent activity (instead of direct emissions)\n",
    "    .. code-block:: python\n",
    "        {'a tag': summed LCIA scores}\n",
    "    \"\"\"\n",
    "\n",
    "    def recursor(obj, scores):\n",
    "        if not scores.get(obj['tag']):\n",
    "            scores[obj['tag']] = [x for x in obj['impact']]\n",
    "        else:\n",
    "            scores[obj['tag']] = [sum(x) for x in zip(scores[obj['tag']], obj['impact'])]\n",
    "        \n",
    "        if bio2tech:\n",
    "            for flow in obj[\"biosphere\"]:\n",
    "                if not scores.get(flow['tag']):\n",
    "                    scores[obj[\"tag\"]] = [x for x in flow[\"impact\"] ] \n",
    "                else:\n",
    "                    scores[obj[\"tag\"]] = [sum(x) for x in zip(scores[flow['tag']], flow['impact'])]\n",
    "                    \n",
    "        else: # default behavior\n",
    "            for flow in obj[\"biosphere\"]:\n",
    "                if not scores.get(flow['tag']):\n",
    "                    scores[flow['tag']] = [x for x in flow['impact']]\n",
    "                else:\n",
    "                    scores[flow['tag']] = [sum(x) for x in zip(scores[flow['tag']], flow['impact'])]\n",
    "        \n",
    "        for exc in obj[\"technosphere\"]:\n",
    "            scores = recursor(exc, scores)\n",
    "            \n",
    "        return scores\n",
    "\n",
    "    scores = defaultdict(int)\n",
    "    for obj in graph:\n",
    "        scores = recursor(obj, scores)\n",
    "    return scores\n",
    "\n",
    "\n",
    "def _getAmountOrFormula(ex):\n",
    "    \"\"\" Return either a fixed float value or an expression for the amount of this exchange\"\"\"\n",
    "    if 'formula' in ex: # ?\n",
    "        #print(ex)\n",
    "        if not 'CORINE' in ex['formula']:\n",
    "            try:\n",
    "                return parse_expr(ex['formula'])\n",
    "            except:\n",
    "                error(\"Error while parsing formula '%s' : backing to amount\" % ex['formula'])\n",
    "    return ex['amount']\n",
    "\n",
    "def multi_algebraic_recurse_tagged_database(\n",
    "    activity, amount, methods, method_dicts, lca,\n",
    "    label, default_tag, secondary_tags=[], fg_databases=None, parent4other=False\n",
    "):\n",
    "    if isinstance(activity, tuple):\n",
    "        activity = bw2.get_activity(activity)\n",
    "        \n",
    "    if fg_databases == None: # then set the list equal to the database of the functional unit \n",
    "        fg_databases = [activity['database']] # list, single item\n",
    "    elif fg_databases == list(bw2.Database(activity['database']).find_graph_dependents()): \n",
    "        # check that the list fg_databases does not include all the databases involved in the FU \n",
    "        # (otherwise, it would mean we are likely to have to recurse through ecoinvent... not funny)\n",
    "        # ideally, should only on first call of recurse_tagged_database\n",
    "        raise Exception('The list of databases to traverse fg_databases should not be equal to the all databases involved in the project. You risk to attempt to traverse a background database like ecoinvent - it would take too much time')\n",
    "\n",
    "    inputs = list(activity.technosphere())  \n",
    "    production = list(activity.production())\n",
    "    if len(production) == 1:\n",
    "        scale = production[0][\"amount\"]\n",
    "    elif not production:\n",
    "        # Assume production amount of 1\n",
    "        scale = 1\n",
    "    else:\n",
    "        raise ValueError(\"Can't scale by production exchange\")\n",
    "\n",
    "    inside = [exc for exc in inputs if exc[\"input\"][0] in fg_databases] # inside = activities in fg_databases\n",
    "    \n",
    "    \n",
    "    outside_exch = []\n",
    "    for exc in inputs:\n",
    "        if exc[\"input\"][0] not in fg_databases:\n",
    "            outside_exch.append(\n",
    "                {'exch': exc[\"input\"],\n",
    "                 'formula': _getAmountOrFormula(exc) / scale * amount,\n",
    "                 'EFs': []}\n",
    "            )\n",
    "    \n",
    "    outside_scores = [0]*len(methods) \n",
    "    if outside_exch:\n",
    "        for out in outside_exch:\n",
    "            for n,m in enumerate(methods):\n",
    "                #print(\"Switching to method \", n)\n",
    "                lca.switch_method(m)\n",
    "                lca.redo_lcia( {out['exch']:1} )\n",
    "                out['EFs'].append(lca.score)\n",
    "        \n",
    "        for i,m in enumerate(methods):\n",
    "            outside_scores[i] = 0\n",
    "            for out in outside_exch:\n",
    "                outside_scores[i] += out['EFs'][i]*out['formula']\n",
    "    else:\n",
    "        outside_scores = [0]*len(methods)\n",
    "\n",
    "    ## To be more efficient in outside_scores calculation:\n",
    "    ## save background EFs and cache them\n",
    "    ## for each method\n",
    "    ## calc background impacts\n",
    "#    def _multiLCA(activities, methods):\n",
    "#        \"\"\"Simple wrapper around brightway API\"\"\"\n",
    "#        bw2.calculation_setups['process'] = {'inv': activities, 'ia': methods}\n",
    "#        lca = bw2.MultiLCA('process')\n",
    "#        \n",
    "#        cols = [act for act_amount in activities for act, amount in act_amount.items()]\n",
    "#        return pd.DataFrame(lca.results.T, index=[method_name(method) for method in methods], columns=cols)\n",
    "#\n",
    "#    bg_lca = _multiLCA(bg_act_fu, methods) # returns a df\n",
    "#    # convert df to a nice useable dictionary here         \n",
    "#    bg_scores = {}\n",
    "#    for imethod, method in enumerate(methods) :\n",
    "#        for iact, act in enumerate(bg_act_fu) :\n",
    "#            col = self.A_NS_columns[list(act)[0]]\n",
    "#            bg_scores[(col, list(act)[0], method)] = bg_lca.iloc[imethod, iact]\n",
    "#            \n",
    "#            EFs[imethod, col] = bg_lca.iloc[imethod, iact]\n",
    "\n",
    "\n",
    "    if parent4other:\n",
    "        #if this option is set to True, will change default_tag's value to the tag\n",
    "        # of the parent activity if itself was not empty \n",
    "        if activity.get(label) != None:\n",
    "            default_tag = activity.get(label)\n",
    "    \n",
    "   # if default_tag == 'Other':\n",
    "   #    print(default_tag, amount, activity, outside_scores)\n",
    "   # for exc in activity.biosphere():\n",
    "   #     print(exc)\n",
    "   #     print(_getAmountOrFormula(exc))\n",
    "   #     print([_getAmountOrFormula(exc) / scale\n",
    "   #             * amount\n",
    "   #             * method_dict.get(exc[\"input\"], 0) for method_dict in method_dicts]\n",
    "   #             )\n",
    "        \n",
    "    return {\n",
    "        \"activity\": activity,\n",
    "        \"amount\": amount,\n",
    "        \"tag\": activity.get(label) or default_tag,\n",
    "        \"secondary_tags\": [activity.get(t[0]) or t[1] for t in secondary_tags],\n",
    "        \"impact\": outside_scores, ## ESA\n",
    "        \"biosphere\": [\n",
    "            {\n",
    "                \"amount\": _getAmountOrFormula(exc) / scale * amount, # 2/5 2023 need to modify?\n",
    "                \"impact\": [ _getAmountOrFormula(exc)\n",
    "                / scale\n",
    "                * amount\n",
    "                * method_dict.get(exc[\"input\"], 0) for method_dict in method_dicts],\n",
    "                \"tag\": exc.get(label) or activity.get(label) or default_tag,\n",
    "                \"secondary_tags\": [\n",
    "                    exc.get(t[0]) or activity.get(t[0]) or t[1] for t in secondary_tags\n",
    "                ],\n",
    "            }\n",
    "            for exc in activity.biosphere()\n",
    "        ],\n",
    "        \"technosphere\": [\n",
    "            multi_algebraic_recurse_tagged_database(\n",
    "                exc.input,\n",
    "                _getAmountOrFormula(exc) / scale * amount,\n",
    "                methods,\n",
    "                method_dicts,\n",
    "                lca,\n",
    "                label,\n",
    "                default_tag,\n",
    "                secondary_tags,\n",
    "                fg_databases,\n",
    "                parent4other\n",
    "            )\n",
    "            for exc in inside\n",
    "        ],\n",
    "    }"
   ]
  },
  {
   "cell_type": "code",
   "execution_count": 24,
   "id": "5f506a41",
   "metadata": {},
   "outputs": [],
   "source": [
    "def createLambda(expr):\n",
    "    '''\n",
    "    Returns a lambda from a **scalar** sympy expression\n",
    "    '''\n",
    "    \n",
    "    if(type(expr)==float):\n",
    "        return lca.LambdaWithParamNames(expr,\n",
    "                                        expanded_params=None, # is automatically created in the init via: _expand_param_names(self.params)\n",
    "                                        params={},\n",
    "                                        sobols=None)\n",
    "    \n",
    "    else:\n",
    "        expr_symbols = [str(k) for k in expr.free_symbols]\n",
    "        # params_in_use need to have the correct name for enumeration Parameters\n",
    "        params_in_use = {}\n",
    "        for param in lca._param_registry().values():\n",
    "            for name in param.names(): # one 1 name if not enumParam, several if enumParam\n",
    "                if name in expr_symbols:\n",
    "                    params_in_use[param.name] = param  # get the name of the enumParam or Param\n",
    "\n",
    "        return lca.LambdaWithParamNames(expr,\n",
    "                                        expanded_params=None, # is automatically created in the init via: _expand_param_names(self.params)\n",
    "                                        params=params_in_use,\n",
    "                                        sobols=None)"
   ]
  },
  {
   "cell_type": "markdown",
   "id": "d7dc8b83",
   "metadata": {},
   "source": [
    "### Tagg 1"
   ]
  },
  {
   "cell_type": "code",
   "execution_count": 39,
   "id": "9b1e6fab",
   "metadata": {
    "scrolled": false
   },
   "outputs": [
    {
     "name": "stdout",
     "output_type": "stream",
     "text": [
      "There are 33 items to be tagged, one by one\n",
      "Do you want to proceed (Y/N) ? Y\n",
      "Lets proceed! Type 'skip' in order to not tag the given activity or remove existing tag\n",
      "diesel... to be in the group called... ? skip\n",
      "Siktning... to be in the group called... ? Sanering\n",
      "Lastare... to be in the group called... ? Schakt\n",
      "sodium persulfate production... to be in the group called... ? Sanering\n",
      "Transport, lastbil... to be in the group called... ? skip\n",
      "polyethylene pipe production, corrugated, DN 75... to be in the group called... ? Sanering\n",
      "Transport, ellastbil... to be in the group called... ? skip\n",
      "Deponi... to be in the group called... ? Deponi\n",
      "Transport, farja... to be in the group called... ? Transport\n",
      "InstallationTAM... to be in the group called... ? Sanering\n",
      "Landfill infrastructure... to be in the group called... ? Deponi\n",
      "OxideringORC... to be in the group called... ? Sanering\n",
      "Transport, lastbil, biodiesel... to be in the group called... ? Transport\n",
      "Diesel production and combustion in machines... to be in the group called... ? skip\n",
      "NDS waste water treatment facility... to be in the group called... ? Sanering\n",
      "biodiesel... to be in the group called... ? skip\n",
      "NDS wet sieving machine... to be in the group called... ? Sanering\n",
      "NaOh... to be in the group called... ? Sanering\n",
      "Gravmaskin... to be in the group called... ? Schakt\n",
      "dieselSwitch... to be in the group called... ? skip\n",
      "oxideringSwitch... to be in the group called... ? Sanering\n",
      "Deponi_FA... to be in the group called... ? Deponi\n",
      "HVO production and combustion in machines... to be in the group called... ? Bränsle\n",
      "OxideringKC... to be in the group called... ? Sanering\n",
      "MLC... to be in the group called... ? Sanering\n",
      "siktSwitch... to be in the group called... ? Schakt\n",
      "ALLA... to be in the group called... ? Alla\n",
      "NDS facility... to be in the group called... ? Sanering\n",
      "OxideringKol... to be in the group called... ? Sanering\n",
      "Oxidering... to be in the group called... ? Sanering\n",
      "Schakt... to be in the group called... ? Schakt\n",
      "Bergskross... to be in the group called... ? Sanering\n",
      "Electricity consumption... to be in the group called... ? Deponi\n",
      "Number of activities tagged: 27\n",
      "Number of activities skipped: 6\n"
     ]
    }
   ],
   "source": [
    "# Annat ska alltid vara 0 \n",
    "new_data = conveniently_tag_database_v2(fg, 'label_name')"
   ]
  },
  {
   "cell_type": "code",
   "execution_count": 31,
   "id": "848187fe",
   "metadata": {},
   "outputs": [],
   "source": [
    "# manually add/change tags:\n",
    "# step 1: find act\n",
    "act_to_tag = findActivity(\"HVO production and combustion in machines\", db_name=fg2)"
   ]
  },
  {
   "cell_type": "code",
   "execution_count": null,
   "id": "5932bbc8",
   "metadata": {},
   "outputs": [],
   "source": [
    "act_to_tag # check that we have it"
   ]
  },
  {
   "cell_type": "code",
   "execution_count": 59,
   "id": "ccb0bdbe",
   "metadata": {},
   "outputs": [],
   "source": [
    "act_to_tag['label_name']='Bransle' # change the tag directly for this act\n",
    "act_to_tag.save() # important! if we don't save, the changes doesn't get registered in the db"
   ]
  },
  {
   "cell_type": "code",
   "execution_count": 60,
   "id": "687bf8e7",
   "metadata": {},
   "outputs": [
    {
     "data": {
      "text/plain": [
       "'Bransle'"
      ]
     },
     "execution_count": 60,
     "metadata": {},
     "output_type": "execute_result"
    }
   ],
   "source": [
    "# check that the tag is correct\n",
    "act_to_tag['label_name']"
   ]
  },
  {
   "cell_type": "code",
   "execution_count": 40,
   "id": "c5f77123",
   "metadata": {
    "scrolled": true
   },
   "outputs": [
    {
     "name": "stderr",
     "output_type": "stream",
     "text": [
      "Error while parsing formula '' : backing to amount\n",
      "Error while parsing formula '' : backing to amount\n",
      "Error while parsing formula '' : backing to amount\n",
      "Error while parsing formula '' : backing to amount\n",
      "Error while parsing formula '' : backing to amount\n",
      "Error while parsing formula '' : backing to amount\n",
      "Error while parsing formula '' : backing to amount\n",
      "Error while parsing formula '' : backing to amount\n",
      "Error while parsing formula '' : backing to amount\n",
      "Error while parsing formula '' : backing to amount\n",
      "Error while parsing formula '' : backing to amount\n",
      "Error while parsing formula '' : backing to amount\n",
      "Error while parsing formula '' : backing to amount\n",
      "Error while parsing formula '' : backing to amount\n",
      "Error while parsing formula '' : backing to amount\n",
      "Error while parsing formula '' : backing to amount\n",
      "Error while parsing formula '' : backing to amount\n",
      "Error while parsing formula '' : backing to amount\n",
      "Error while parsing formula '' : backing to amount\n",
      "Error while parsing formula '' : backing to amount\n",
      "Error while parsing formula '' : backing to amount\n",
      "Error while parsing formula '' : backing to amount\n",
      "Error while parsing formula '' : backing to amount\n",
      "Error while parsing formula '' : backing to amount\n",
      "Error while parsing formula '' : backing to amount\n",
      "Error while parsing formula '' : backing to amount\n",
      "Error while parsing formula '' : backing to amount\n",
      "Error while parsing formula '' : backing to amount\n",
      "Error while parsing formula '' : backing to amount\n",
      "Error while parsing formula '' : backing to amount\n",
      "Error while parsing formula '' : backing to amount\n",
      "Error while parsing formula '' : backing to amount\n",
      "Error while parsing formula '' : backing to amount\n",
      "Error while parsing formula '' : backing to amount\n",
      "Error while parsing formula '' : backing to amount\n",
      "Error while parsing formula '' : backing to amount\n",
      "Error while parsing formula '' : backing to amount\n",
      "Error while parsing formula '' : backing to amount\n",
      "Error while parsing formula '' : backing to amount\n",
      "Error while parsing formula '' : backing to amount\n",
      "Error while parsing formula '' : backing to amount\n",
      "Error while parsing formula '' : backing to amount\n",
      "Error while parsing formula '' : backing to amount\n",
      "Error while parsing formula '' : backing to amount\n",
      "Error while parsing formula '' : backing to amount\n",
      "Error while parsing formula '' : backing to amount\n",
      "Error while parsing formula '' : backing to amount\n",
      "Error while parsing formula '' : backing to amount\n",
      "Error while parsing formula '' : backing to amount\n",
      "Error while parsing formula '' : backing to amount\n",
      "Error while parsing formula '' : backing to amount\n",
      "Error while parsing formula '' : backing to amount\n",
      "Error while parsing formula '' : backing to amount\n",
      "Error while parsing formula '' : backing to amount\n",
      "Error while parsing formula '' : backing to amount\n",
      "Error while parsing formula '' : backing to amount\n",
      "Error while parsing formula '' : backing to amount\n",
      "Error while parsing formula '' : backing to amount\n",
      "Error while parsing formula '' : backing to amount\n",
      "Error while parsing formula '' : backing to amount\n",
      "Error while parsing formula '' : backing to amount\n",
      "Error while parsing formula '' : backing to amount\n",
      "Error while parsing formula '' : backing to amount\n",
      "Error while parsing formula '' : backing to amount\n",
      "Error while parsing formula '' : backing to amount\n",
      "Error while parsing formula '' : backing to amount\n",
      "Error while parsing formula '' : backing to amount\n",
      "Error while parsing formula '' : backing to amount\n",
      "Error while parsing formula '' : backing to amount\n",
      "Error while parsing formula '' : backing to amount\n",
      "Error while parsing formula '' : backing to amount\n",
      "Error while parsing formula '' : backing to amount\n",
      "Error while parsing formula '' : backing to amount\n",
      "Error while parsing formula '' : backing to amount\n",
      "Error while parsing formula '' : backing to amount\n",
      "Error while parsing formula '' : backing to amount\n",
      "Error while parsing formula '' : backing to amount\n",
      "Error while parsing formula '' : backing to amount\n",
      "Error while parsing formula '' : backing to amount\n",
      "Error while parsing formula '' : backing to amount\n",
      "Error while parsing formula '' : backing to amount\n",
      "Error while parsing formula '' : backing to amount\n",
      "Error while parsing formula '' : backing to amount\n",
      "Error while parsing formula '' : backing to amount\n",
      "Error while parsing formula '' : backing to amount\n",
      "Error while parsing formula '' : backing to amount\n",
      "Error while parsing formula '' : backing to amount\n",
      "Error while parsing formula '' : backing to amount\n",
      "Error while parsing formula '' : backing to amount\n",
      "Error while parsing formula '' : backing to amount\n",
      "Error while parsing formula '' : backing to amount\n",
      "Error while parsing formula '' : backing to amount\n",
      "Error while parsing formula '' : backing to amount\n",
      "Error while parsing formula '' : backing to amount\n",
      "Error while parsing formula '' : backing to amount\n",
      "Error while parsing formula '' : backing to amount\n",
      "Error while parsing formula '' : backing to amount\n",
      "Error while parsing formula '' : backing to amount\n",
      "Error while parsing formula '' : backing to amount\n",
      "Error while parsing formula '' : backing to amount\n",
      "Error while parsing formula '' : backing to amount\n",
      "Error while parsing formula '' : backing to amount\n",
      "Error while parsing formula '' : backing to amount\n",
      "Error while parsing formula '' : backing to amount\n",
      "Error while parsing formula '' : backing to amount\n",
      "Error while parsing formula '' : backing to amount\n",
      "Error while parsing formula '' : backing to amount\n",
      "Error while parsing formula '' : backing to amount\n",
      "Error while parsing formula '' : backing to amount\n",
      "Error while parsing formula '' : backing to amount\n",
      "Error while parsing formula '' : backing to amount\n",
      "Error while parsing formula '' : backing to amount\n",
      "Error while parsing formula '' : backing to amount\n",
      "Error while parsing formula '' : backing to amount\n",
      "Error while parsing formula '' : backing to amount\n",
      "Error while parsing formula '' : backing to amount\n",
      "Error while parsing formula '' : backing to amount\n",
      "Error while parsing formula '' : backing to amount\n",
      "Error while parsing formula '' : backing to amount\n",
      "Error while parsing formula '' : backing to amount\n",
      "Error while parsing formula '' : backing to amount\n",
      "Error while parsing formula '' : backing to amount\n",
      "Error while parsing formula '' : backing to amount\n",
      "Error while parsing formula '' : backing to amount\n",
      "Error while parsing formula '' : backing to amount\n",
      "Error while parsing formula '' : backing to amount\n",
      "Error while parsing formula '' : backing to amount\n",
      "Error while parsing formula '' : backing to amount\n",
      "Error while parsing formula '' : backing to amount\n",
      "Error while parsing formula '' : backing to amount\n",
      "Error while parsing formula '' : backing to amount\n",
      "Error while parsing formula '' : backing to amount\n",
      "Error while parsing formula '' : backing to amount\n",
      "Error while parsing formula '' : backing to amount\n",
      "Error while parsing formula '' : backing to amount\n",
      "Error while parsing formula '' : backing to amount\n",
      "Error while parsing formula '' : backing to amount\n",
      "Error while parsing formula '' : backing to amount\n",
      "Error while parsing formula '' : backing to amount\n",
      "Error while parsing formula '' : backing to amount\n",
      "Error while parsing formula '' : backing to amount\n",
      "Error while parsing formula '' : backing to amount\n",
      "Error while parsing formula '' : backing to amount\n",
      "Error while parsing formula '' : backing to amount\n",
      "Error while parsing formula '' : backing to amount\n",
      "Error while parsing formula '' : backing to amount\n",
      "Error while parsing formula '' : backing to amount\n",
      "Error while parsing formula '' : backing to amount\n",
      "Error while parsing formula '' : backing to amount\n",
      "Error while parsing formula '' : backing to amount\n",
      "Error while parsing formula '' : backing to amount\n",
      "Error while parsing formula '' : backing to amount\n",
      "Error while parsing formula '' : backing to amount\n",
      "Error while parsing formula '' : backing to amount\n",
      "Error while parsing formula '' : backing to amount\n",
      "Error while parsing formula '' : backing to amount\n",
      "Error while parsing formula '' : backing to amount\n",
      "Error while parsing formula '' : backing to amount\n",
      "Error while parsing formula '' : backing to amount\n",
      "Error while parsing formula '' : backing to amount\n",
      "Error while parsing formula '' : backing to amount\n",
      "Error while parsing formula '' : backing to amount\n"
     ]
    },
    {
     "name": "stderr",
     "output_type": "stream",
     "text": [
      "Error while parsing formula '' : backing to amount\n",
      "Error while parsing formula '' : backing to amount\n",
      "Error while parsing formula '' : backing to amount\n",
      "Error while parsing formula '' : backing to amount\n",
      "Error while parsing formula '' : backing to amount\n",
      "Error while parsing formula '' : backing to amount\n",
      "Error while parsing formula '' : backing to amount\n",
      "Error while parsing formula '' : backing to amount\n",
      "Error while parsing formula '' : backing to amount\n",
      "Error while parsing formula '' : backing to amount\n",
      "Error while parsing formula '' : backing to amount\n",
      "Error while parsing formula '' : backing to amount\n",
      "Error while parsing formula '' : backing to amount\n",
      "Error while parsing formula '' : backing to amount\n",
      "Error while parsing formula '' : backing to amount\n",
      "Error while parsing formula '' : backing to amount\n",
      "Error while parsing formula '' : backing to amount\n",
      "Error while parsing formula '' : backing to amount\n",
      "Error while parsing formula '' : backing to amount\n",
      "Error while parsing formula '' : backing to amount\n",
      "Error while parsing formula '' : backing to amount\n",
      "Error while parsing formula '' : backing to amount\n",
      "Error while parsing formula '' : backing to amount\n",
      "Error while parsing formula '' : backing to amount\n",
      "Error while parsing formula '' : backing to amount\n",
      "Error while parsing formula '' : backing to amount\n",
      "Error while parsing formula '' : backing to amount\n",
      "Error while parsing formula '' : backing to amount\n",
      "Error while parsing formula '' : backing to amount\n",
      "Error while parsing formula '' : backing to amount\n",
      "Error while parsing formula '' : backing to amount\n",
      "Error while parsing formula '' : backing to amount\n",
      "Error while parsing formula '' : backing to amount\n",
      "Error while parsing formula '' : backing to amount\n",
      "Error while parsing formula '' : backing to amount\n",
      "Error while parsing formula '' : backing to amount\n",
      "Error while parsing formula '' : backing to amount\n",
      "Error while parsing formula '' : backing to amount\n",
      "Error while parsing formula '' : backing to amount\n",
      "Error while parsing formula '' : backing to amount\n",
      "Error while parsing formula '' : backing to amount\n",
      "Error while parsing formula '' : backing to amount\n",
      "Error while parsing formula '' : backing to amount\n",
      "Error while parsing formula '' : backing to amount\n",
      "Error while parsing formula '' : backing to amount\n",
      "Error while parsing formula '' : backing to amount\n",
      "Error while parsing formula '' : backing to amount\n",
      "Error while parsing formula '' : backing to amount\n",
      "Error while parsing formula '' : backing to amount\n",
      "Error while parsing formula '' : backing to amount\n",
      "Error while parsing formula '' : backing to amount\n",
      "Error while parsing formula '' : backing to amount\n",
      "Error while parsing formula '' : backing to amount\n",
      "Error while parsing formula '' : backing to amount\n",
      "Error while parsing formula '' : backing to amount\n",
      "Error while parsing formula '' : backing to amount\n",
      "Error while parsing formula '' : backing to amount\n",
      "Error while parsing formula '' : backing to amount\n",
      "Error while parsing formula '' : backing to amount\n",
      "Error while parsing formula '' : backing to amount\n",
      "Error while parsing formula '' : backing to amount\n",
      "Error while parsing formula '' : backing to amount\n",
      "Error while parsing formula '' : backing to amount\n",
      "Error while parsing formula '' : backing to amount\n",
      "Error while parsing formula '' : backing to amount\n",
      "Error while parsing formula '' : backing to amount\n",
      "Error while parsing formula '' : backing to amount\n",
      "Error while parsing formula '' : backing to amount\n",
      "Error while parsing formula '' : backing to amount\n",
      "Error while parsing formula '' : backing to amount\n",
      "Error while parsing formula '' : backing to amount\n",
      "Error while parsing formula '' : backing to amount\n",
      "Error while parsing formula '' : backing to amount\n",
      "Error while parsing formula '' : backing to amount\n",
      "Error while parsing formula '' : backing to amount\n",
      "Error while parsing formula '' : backing to amount\n",
      "Error while parsing formula '' : backing to amount\n",
      "Error while parsing formula '' : backing to amount\n",
      "Error while parsing formula '' : backing to amount\n",
      "Error while parsing formula '' : backing to amount\n",
      "Error while parsing formula '' : backing to amount\n",
      "Error while parsing formula '' : backing to amount\n",
      "Error while parsing formula '' : backing to amount\n",
      "Error while parsing formula '' : backing to amount\n",
      "Error while parsing formula '' : backing to amount\n",
      "Error while parsing formula '' : backing to amount\n",
      "Error while parsing formula '' : backing to amount\n",
      "Error while parsing formula '' : backing to amount\n",
      "Error while parsing formula '' : backing to amount\n",
      "Error while parsing formula '' : backing to amount\n",
      "Error while parsing formula '' : backing to amount\n",
      "Error while parsing formula '' : backing to amount\n",
      "Error while parsing formula '' : backing to amount\n",
      "Error while parsing formula '' : backing to amount\n",
      "Error while parsing formula '' : backing to amount\n",
      "Error while parsing formula '' : backing to amount\n",
      "Error while parsing formula '' : backing to amount\n",
      "Error while parsing formula '' : backing to amount\n",
      "Error while parsing formula '' : backing to amount\n",
      "Error while parsing formula '' : backing to amount\n",
      "Error while parsing formula '' : backing to amount\n",
      "Error while parsing formula '' : backing to amount\n",
      "Error while parsing formula '' : backing to amount\n",
      "Error while parsing formula '' : backing to amount\n",
      "Error while parsing formula '' : backing to amount\n",
      "Error while parsing formula '' : backing to amount\n",
      "Error while parsing formula '' : backing to amount\n",
      "Error while parsing formula '' : backing to amount\n",
      "Error while parsing formula '' : backing to amount\n",
      "Error while parsing formula '' : backing to amount\n",
      "Error while parsing formula '' : backing to amount\n",
      "Error while parsing formula '' : backing to amount\n",
      "Error while parsing formula '' : backing to amount\n",
      "Error while parsing formula '' : backing to amount\n",
      "Error while parsing formula '' : backing to amount\n",
      "Error while parsing formula '' : backing to amount\n",
      "Error while parsing formula '' : backing to amount\n",
      "Error while parsing formula '' : backing to amount\n",
      "Error while parsing formula '' : backing to amount\n",
      "Error while parsing formula '' : backing to amount\n",
      "Error while parsing formula '' : backing to amount\n",
      "Error while parsing formula '' : backing to amount\n",
      "Error while parsing formula '' : backing to amount\n",
      "Error while parsing formula '' : backing to amount\n",
      "Error while parsing formula '' : backing to amount\n",
      "Error while parsing formula '' : backing to amount\n",
      "Error while parsing formula '' : backing to amount\n",
      "Error while parsing formula '' : backing to amount\n",
      "Error while parsing formula '' : backing to amount\n",
      "Error while parsing formula '' : backing to amount\n",
      "Error while parsing formula '' : backing to amount\n",
      "Error while parsing formula '' : backing to amount\n",
      "Error while parsing formula '' : backing to amount\n",
      "Error while parsing formula '' : backing to amount\n",
      "Error while parsing formula '' : backing to amount\n",
      "Error while parsing formula '' : backing to amount\n",
      "Error while parsing formula '' : backing to amount\n",
      "Error while parsing formula '' : backing to amount\n",
      "Error while parsing formula '' : backing to amount\n",
      "Error while parsing formula '' : backing to amount\n",
      "Error while parsing formula '' : backing to amount\n",
      "Error while parsing formula '' : backing to amount\n",
      "Error while parsing formula '' : backing to amount\n",
      "Error while parsing formula '' : backing to amount\n",
      "Error while parsing formula '' : backing to amount\n",
      "Error while parsing formula '' : backing to amount\n",
      "Error while parsing formula '' : backing to amount\n",
      "Error while parsing formula '' : backing to amount\n",
      "Error while parsing formula '' : backing to amount\n",
      "Error while parsing formula '' : backing to amount\n",
      "Error while parsing formula '' : backing to amount\n",
      "Error while parsing formula '' : backing to amount\n",
      "Error while parsing formula '' : backing to amount\n",
      "Error while parsing formula '' : backing to amount\n",
      "Error while parsing formula '' : backing to amount\n",
      "Error while parsing formula '' : backing to amount\n",
      "Error while parsing formula '' : backing to amount\n",
      "Error while parsing formula '' : backing to amount\n",
      "Error while parsing formula '' : backing to amount\n",
      "Error while parsing formula '' : backing to amount\n",
      "Error while parsing formula '' : backing to amount\n",
      "Error while parsing formula '' : backing to amount\n"
     ]
    },
    {
     "name": "stderr",
     "output_type": "stream",
     "text": [
      "Error while parsing formula '' : backing to amount\n",
      "Error while parsing formula '' : backing to amount\n",
      "Error while parsing formula '' : backing to amount\n",
      "Error while parsing formula '' : backing to amount\n",
      "Error while parsing formula '' : backing to amount\n",
      "Error while parsing formula '' : backing to amount\n",
      "Error while parsing formula '' : backing to amount\n",
      "Error while parsing formula '' : backing to amount\n",
      "Error while parsing formula '' : backing to amount\n",
      "Error while parsing formula '' : backing to amount\n",
      "Error while parsing formula '' : backing to amount\n",
      "Error while parsing formula '' : backing to amount\n",
      "Error while parsing formula '' : backing to amount\n",
      "Error while parsing formula '' : backing to amount\n",
      "Error while parsing formula '' : backing to amount\n",
      "Error while parsing formula '' : backing to amount\n",
      "Error while parsing formula '' : backing to amount\n",
      "Error while parsing formula '' : backing to amount\n",
      "Error while parsing formula '' : backing to amount\n",
      "Error while parsing formula '' : backing to amount\n",
      "Error while parsing formula '' : backing to amount\n",
      "Error while parsing formula '' : backing to amount\n",
      "Error while parsing formula '' : backing to amount\n",
      "Error while parsing formula '' : backing to amount\n",
      "Error while parsing formula '' : backing to amount\n",
      "Error while parsing formula '' : backing to amount\n",
      "Error while parsing formula '' : backing to amount\n",
      "Error while parsing formula '' : backing to amount\n",
      "Error while parsing formula '' : backing to amount\n",
      "Error while parsing formula '' : backing to amount\n",
      "Error while parsing formula '' : backing to amount\n",
      "Error while parsing formula '' : backing to amount\n",
      "Error while parsing formula '' : backing to amount\n",
      "Error while parsing formula '' : backing to amount\n",
      "Error while parsing formula '' : backing to amount\n",
      "Error while parsing formula '' : backing to amount\n",
      "Error while parsing formula '' : backing to amount\n",
      "Error while parsing formula '' : backing to amount\n",
      "Error while parsing formula '' : backing to amount\n",
      "Error while parsing formula '' : backing to amount\n",
      "Error while parsing formula '' : backing to amount\n",
      "Error while parsing formula '' : backing to amount\n",
      "Error while parsing formula '' : backing to amount\n",
      "Error while parsing formula '' : backing to amount\n",
      "Error while parsing formula '' : backing to amount\n",
      "Error while parsing formula '' : backing to amount\n",
      "Error while parsing formula '' : backing to amount\n",
      "Error while parsing formula '' : backing to amount\n",
      "Error while parsing formula '' : backing to amount\n",
      "Error while parsing formula '' : backing to amount\n",
      "Error while parsing formula '' : backing to amount\n",
      "Error while parsing formula '' : backing to amount\n",
      "Error while parsing formula '' : backing to amount\n",
      "Error while parsing formula '' : backing to amount\n",
      "Error while parsing formula '' : backing to amount\n",
      "Error while parsing formula '' : backing to amount\n",
      "Error while parsing formula '' : backing to amount\n",
      "Error while parsing formula '' : backing to amount\n",
      "Error while parsing formula '' : backing to amount\n",
      "Error while parsing formula '' : backing to amount\n",
      "Error while parsing formula '' : backing to amount\n",
      "Error while parsing formula '' : backing to amount\n",
      "Error while parsing formula '' : backing to amount\n",
      "Error while parsing formula '' : backing to amount\n",
      "Error while parsing formula '' : backing to amount\n",
      "Error while parsing formula '' : backing to amount\n",
      "Error while parsing formula '' : backing to amount\n",
      "Error while parsing formula '' : backing to amount\n",
      "Error while parsing formula '' : backing to amount\n",
      "Error while parsing formula '' : backing to amount\n",
      "Error while parsing formula '' : backing to amount\n",
      "Error while parsing formula '' : backing to amount\n",
      "Error while parsing formula '' : backing to amount\n",
      "Error while parsing formula '' : backing to amount\n",
      "Error while parsing formula '' : backing to amount\n",
      "Error while parsing formula '' : backing to amount\n",
      "Error while parsing formula '' : backing to amount\n",
      "Error while parsing formula '' : backing to amount\n",
      "Error while parsing formula '' : backing to amount\n",
      "Error while parsing formula '' : backing to amount\n",
      "Error while parsing formula '' : backing to amount\n",
      "Error while parsing formula '' : backing to amount\n",
      "Error while parsing formula '' : backing to amount\n",
      "Error while parsing formula '' : backing to amount\n",
      "Error while parsing formula '' : backing to amount\n",
      "Error while parsing formula '' : backing to amount\n",
      "Error while parsing formula '' : backing to amount\n",
      "Error while parsing formula '' : backing to amount\n",
      "Error while parsing formula '' : backing to amount\n",
      "Error while parsing formula '' : backing to amount\n",
      "Error while parsing formula '' : backing to amount\n",
      "Error while parsing formula '' : backing to amount\n",
      "Error while parsing formula '' : backing to amount\n",
      "Error while parsing formula '' : backing to amount\n",
      "Error while parsing formula '' : backing to amount\n",
      "Error while parsing formula '' : backing to amount\n",
      "Error while parsing formula '' : backing to amount\n",
      "Error while parsing formula '' : backing to amount\n",
      "Error while parsing formula '' : backing to amount\n",
      "Error while parsing formula '' : backing to amount\n",
      "Error while parsing formula '' : backing to amount\n",
      "Error while parsing formula '' : backing to amount\n",
      "Error while parsing formula '' : backing to amount\n",
      "Error while parsing formula '' : backing to amount\n",
      "Error while parsing formula '' : backing to amount\n",
      "Error while parsing formula '' : backing to amount\n",
      "Error while parsing formula '' : backing to amount\n",
      "Error while parsing formula '' : backing to amount\n"
     ]
    }
   ],
   "source": [
    "Alla_C = runAlgebraicGraphTraversal([fu1], IPCC, label=\"label_name\", default_tag=\"Annat\",\n",
    "    fg_databases=[fg], bio2tech=True, parent4other=True) \n",
    "Alla_A = runAlgebraicGraphTraversal([fu1], acid, label=\"label_name\", default_tag=\"Annat\",\n",
    "    fg_databases=[fg], bio2tech=True, parent4other=True)\n",
    "Alla_EF = runAlgebraicGraphTraversal([fu1], eutrofresh, label=\"label_name\", default_tag=\"Annat\",\n",
    "    fg_databases=[fg], bio2tech=True, parent4other=True)\n",
    "Alla_EM = runAlgebraicGraphTraversal([fu1], eutromarine, label=\"label_name\", default_tag=\"Annat\",\n",
    "    fg_databases=[fg], bio2tech=True, parent4other=True)\n",
    "Alla_M = runAlgebraicGraphTraversal([fu1], material, label=\"label_name\", default_tag=\"Annat\",\n",
    "    fg_databases=[fg], bio2tech=True, parent4other=True)\n",
    "Alla_W = runAlgebraicGraphTraversal([fu1], water, label=\"label_name\", default_tag=\"Annat\",\n",
    "    fg_databases=[fg], bio2tech=True, parent4other=True)\n",
    "# om flera databaser, lägg till flera dbs!"
   ]
  },
  {
   "cell_type": "code",
   "execution_count": 41,
   "id": "00e99cd0",
   "metadata": {},
   "outputs": [],
   "source": [
    "Alla_C_Transport_Y = _compute_stochastics([createLambda(Alla_C[list(fu1.keys())[0]]['agg_graph']['Transport'][0])], \n",
    "                                          IPCC, params)\n",
    "Alla_A_Transport_Y = _compute_stochastics([createLambda(Alla_A[list(fu1.keys())[0]]['agg_graph']['Transport'][0])], \n",
    "                                          acid, params)\n",
    "Alla_EF_Transport_Y = _compute_stochastics([createLambda(Alla_EF[list(fu1.keys())[0]]['agg_graph']['Transport'][0])], \n",
    "                                          eutrofresh, params)\n",
    "Alla_EM_Transport_Y = _compute_stochastics([createLambda(Alla_EM[list(fu1.keys())[0]]['agg_graph']['Transport'][0])], \n",
    "                                          eutromarine, params)\n",
    "Alla_M_Transport_Y = _compute_stochastics([createLambda(Alla_M[list(fu1.keys())[0]]['agg_graph']['Transport'][0])], \n",
    "                                          material, params)\n",
    "Alla_W_Transport_Y = _compute_stochastics([createLambda(Alla_W[list(fu1.keys())[0]]['agg_graph']['Transport'][0])], \n",
    "                                          water, params)"
   ]
  },
  {
   "cell_type": "code",
   "execution_count": 42,
   "id": "b237a8a5",
   "metadata": {},
   "outputs": [],
   "source": [
    "Alla_C_Insitu_Y = _compute_stochastics([createLambda(Alla_C[list(fu1.keys())[0]]['agg_graph']['Sanering'][0])], \n",
    "                                          IPCC, params)\n",
    "Alla_A_Insitu_Y = _compute_stochastics([createLambda(Alla_A[list(fu1.keys())[0]]['agg_graph']['Sanering'][0])], \n",
    "                                          acid, params)\n",
    "Alla_EF_Insitu_Y = _compute_stochastics([createLambda(Alla_EF[list(fu1.keys())[0]]['agg_graph']['Sanering'][0])], \n",
    "                                          eutrofresh, params)\n",
    "Alla_EM_Insitu_Y = _compute_stochastics([createLambda(Alla_EM[list(fu1.keys())[0]]['agg_graph']['Sanering'][0])], \n",
    "                                          eutromarine, params)\n",
    "Alla_M_Insitu_Y = _compute_stochastics([createLambda(Alla_M[list(fu1.keys())[0]]['agg_graph']['Sanering'][0])], \n",
    "                                          material, params)\n",
    "Alla_W_Insitu_Y = _compute_stochastics([createLambda(Alla_W[list(fu1.keys())[0]]['agg_graph']['Sanering'][0])], \n",
    "                                          water, params)"
   ]
  },
  {
   "cell_type": "code",
   "execution_count": 43,
   "id": "a3ae4023",
   "metadata": {
    "scrolled": true
   },
   "outputs": [],
   "source": [
    "Alla_C_Schakt_Y = _compute_stochastics([createLambda(Alla_C[list(fu1.keys())[0]]['agg_graph']['Schakt'][0])], \n",
    "                                          IPCC, params)\n",
    "Alla_A_Schakt_Y = _compute_stochastics([createLambda(Alla_A[list(fu1.keys())[0]]['agg_graph']['Schakt'][0])], \n",
    "                                          acid, params)\n",
    "Alla_EF_Schakt_Y = _compute_stochastics([createLambda(Alla_EF[list(fu1.keys())[0]]['agg_graph']['Schakt'][0])], \n",
    "                                          eutrofresh, params)\n",
    "Alla_EM_Schakt_Y = _compute_stochastics([createLambda(Alla_EM[list(fu1.keys())[0]]['agg_graph']['Schakt'][0])], \n",
    "                                          eutromarine, params)\n",
    "Alla_M_Schakt_Y = _compute_stochastics([createLambda(Alla_M[list(fu1.keys())[0]]['agg_graph']['Schakt'][0])], \n",
    "                                          material, params)\n",
    "Alla_W_Schakt_Y = _compute_stochastics([createLambda(Alla_W[list(fu1.keys())[0]]['agg_graph']['Schakt'][0])], \n",
    "                                          water, params)"
   ]
  },
  {
   "cell_type": "code",
   "execution_count": 44,
   "id": "9843d8e2",
   "metadata": {
    "scrolled": true
   },
   "outputs": [],
   "source": [
    "Alla_C_Deponi_Y = _compute_stochastics([createLambda(Alla_C[list(fu1.keys())[0]]['agg_graph']['Deponi'][0])], \n",
    "                                          IPCC, params)\n",
    "Alla_A_Deponi_Y = _compute_stochastics([createLambda(Alla_A[list(fu1.keys())[0]]['agg_graph']['Deponi'][0])], \n",
    "                                          acid, params)\n",
    "Alla_EF_Deponi_Y = _compute_stochastics([createLambda(Alla_EF[list(fu1.keys())[0]]['agg_graph']['Deponi'][0])], \n",
    "                                          eutrofresh, params)\n",
    "Alla_EM_Deponi_Y = _compute_stochastics([createLambda(Alla_EM[list(fu1.keys())[0]]['agg_graph']['Deponi'][0])], \n",
    "                                          eutromarine, params)\n",
    "Alla_M_Deponi_Y = _compute_stochastics([createLambda(Alla_M[list(fu1.keys())[0]]['agg_graph']['Deponi'][0])], \n",
    "                                          material, params)\n",
    "Alla_W_Deponi_Y = _compute_stochastics([createLambda(Alla_W[list(fu1.keys())[0]]['agg_graph']['Deponi'][0])], \n",
    "                                          water, params)"
   ]
  },
  {
   "cell_type": "code",
   "execution_count": 45,
   "id": "faa38873",
   "metadata": {},
   "outputs": [],
   "source": [
    "Alla_C_Bransle_Y = _compute_stochastics([createLambda(Alla_C[list(fu1.keys())[0]]['agg_graph']['Bränsle'][0])], \n",
    "                                          IPCC, params)\n",
    "Alla_A_Bransle_Y = _compute_stochastics([createLambda(Alla_A[list(fu1.keys())[0]]['agg_graph']['Bränsle'][0])], \n",
    "                                          acid, params)\n",
    "Alla_EF_Bransle_Y = _compute_stochastics([createLambda(Alla_EF[list(fu1.keys())[0]]['agg_graph']['Bränsle'][0])], \n",
    "                                          eutrofresh, params)\n",
    "Alla_EM_Bransle_Y = _compute_stochastics([createLambda(Alla_EM[list(fu1.keys())[0]]['agg_graph']['Bränsle'][0])], \n",
    "                                          eutromarine, params)\n",
    "Alla_M_Bransle_Y = _compute_stochastics([createLambda(Alla_M[list(fu1.keys())[0]]['agg_graph']['Bränsle'][0])], \n",
    "                                          material, params)\n",
    "Alla_W_Bransle_Y = _compute_stochastics([createLambda(Alla_W[list(fu1.keys())[0]]['agg_graph']['Bränsle'][0])], \n",
    "                                          water, params)"
   ]
  },
  {
   "cell_type": "code",
   "execution_count": 46,
   "id": "90c46bda",
   "metadata": {},
   "outputs": [],
   "source": [
    "c_string = 'climate change: total (excl. biogenic CO2) - global warming potential (GWP100)'\n",
    "a_string = 'acidification: terrestrial no LT - terrestrial acidification potential (TAP) no LT'\n",
    "ef_string = 'eutrophication: freshwater no LT - freshwater eutrophication potential (FEP) no LT'\n",
    "em_string = 'eutrophication: marine no LT - marine eutrophication potential (MEP) no LT'\n",
    "m_string = 'material resources: metals/minerals no LT - surplus ore potential (SOP) no LT'\n",
    "w_string = 'water use no LT - water consumption potential (WCP) no LT'"
   ]
  },
  {
   "cell_type": "code",
   "execution_count": 47,
   "id": "57a73a70",
   "metadata": {},
   "outputs": [],
   "source": [
    "climate_label = 'kg CO'+'$_{2}$' +'-eq / m' +'$^{2}$' +' behandlad yta'\n",
    "acid_label = 'kg SO'+'$_{2}$' +'-eq / m' +'$^{2}$' +' behandlad yta'\n",
    "ef_label = 'kg P'+'-eq / m' +'$^{2}$' +' behandlad yta'\n",
    "em_label = 'kg N'+'-eq / m' +'$^{2}$' +' behandlad yta'\n",
    "m_label = 'kg Cu'+'-eq / m' +'$^{2}$' +' behandlad yta'\n",
    "w_label = 'm' +'$^{3}$ / m' +'$^{2}$' +' behandlad yta'"
   ]
  },
  {
   "cell_type": "code",
   "execution_count": 48,
   "id": "73f304dd",
   "metadata": {},
   "outputs": [],
   "source": [
    "Alla_C_Insitu_min, Alla_C_Insitu_max, Alla_C_Insitu_med, Alla_C_Insitu_e = calcMinMaxMedianError(Alla_C_Insitu_Y, c_string)\n",
    "Alla_C_Transport_min, Alla_C_Transport_max, Alla_C_Transport_med, Alla_C_Transport_e = calcMinMaxMedianError(Alla_C_Transport_Y, c_string)\n",
    "Alla_C_Schakt_min, Alla_C_Schakt_max, Alla_C_Schakt_med, Alla_C_Schakt_e = calcMinMaxMedianError(Alla_C_Schakt_Y, c_string)\n",
    "Alla_C_Deponi_min, Alla_C_Deponi_max, Alla_C_Deponi_med, Alla_C_Deponi_e = calcMinMaxMedianError(Alla_C_Deponi_Y, c_string)\n",
    "Alla_C_Bransle_min, Alla_C_Bransle_max, Alla_C_Bransle_med, Alla_C_Bransle_e = calcMinMaxMedianError(Alla_C_Bransle_Y, c_string)"
   ]
  },
  {
   "cell_type": "code",
   "execution_count": 49,
   "id": "94a27544",
   "metadata": {},
   "outputs": [
    {
     "data": {
      "text/plain": [
       "Text(0, 0.5, 'kg CO$_{2}$-eq / m$^{2}$ behandlad yta')"
      ]
     },
     "execution_count": 49,
     "metadata": {},
     "output_type": "execute_result"
    },
    {
     "data": {
      "image/png": "[encoded data removed]",
      "text/plain": [
       "<Figure size 800x550 with 1 Axes>"
      ]
     },
     "metadata": {},
     "output_type": "display_data"
    }
   ],
   "source": [
    "# color: https://matplotlib.org/stable/gallery/color/named_colors.html \n",
    "xlabels = ('Bränsle', 'Deponi', 'Sanering', 'Schakt', 'Transport')\n",
    "\n",
    "fig, ax = plt.subplots()\n",
    "\n",
    "ax.errorbar(y=Alla_C_Insitu_med, x=3, yerr = Alla_C_Insitu_e, capsize=10, elinewidth=3, markeredgewidth=3, color='black')\n",
    "\n",
    "ax.errorbar(y=Alla_C_Transport_med, x=5, yerr = Alla_C_Transport_e, capsize=10, elinewidth=3, markeredgewidth=3, color='cornflowerblue')\n",
    "\n",
    "ax.errorbar(y=Alla_C_Schakt_med, x=4, yerr = Alla_C_Schakt_e, capsize=10, elinewidth=3, markeredgewidth=3, color='darkgreen')\n",
    "\n",
    "ax.errorbar(y=Alla_C_Deponi_med, x=2, yerr = Alla_C_Deponi_e, capsize=10, elinewidth=3, markeredgewidth=3, color='peru')\n",
    "\n",
    "ax.errorbar(y=Alla_C_Bransle_med, x=1, yerr = Alla_C_Bransle_e, capsize=10, elinewidth=3, markeredgewidth=3, color='teal')\n",
    "\n",
    "ax.set_facecolor('white')\n",
    "ax.grid(color='silver')\n",
    "\n",
    "ax.hlines(y=0, xmin=0.5, xmax=6.5, linewidth=1, color='black')\n",
    "\n",
    "ax.set_title('Klimatpåverkan Norra Djurgårdsstaden')\n",
    "ax.set_xticks((1,2,3,4,5))\n",
    "ax.set_xticklabels(xlabels, fontsize=8)\n",
    "ax.set_ylabel(climate_label)"
   ]
  },
  {
   "cell_type": "code",
   "execution_count": 50,
   "id": "39b6d7b1",
   "metadata": {},
   "outputs": [],
   "source": [
    "fig.savefig('Climate', dpi=600, bbox_inches='tight')"
   ]
  },
  {
   "cell_type": "code",
   "execution_count": 30,
   "id": "229db704",
   "metadata": {},
   "outputs": [],
   "source": []
  },
  {
   "cell_type": "code",
   "execution_count": 51,
   "id": "50e1e322",
   "metadata": {
    "scrolled": true
   },
   "outputs": [],
   "source": [
    "Alla_A_Insitu_min, Alla_A_Insitu_max, Alla_A_Insitu_med, Alla_A_Insitu_e = calcMinMaxMedianError(Alla_A_Insitu_Y, a_string)\n",
    "Alla_A_Transport_min, Alla_A_Transport_max, Alla_A_Transport_med, Alla_A_Transport_e = calcMinMaxMedianError(Alla_A_Transport_Y, a_string)\n",
    "Alla_A_Schakt_min, Alla_A_Schakt_max, Alla_A_Schakt_med, Alla_A_Schakt_e = calcMinMaxMedianError(Alla_A_Schakt_Y, a_string)\n",
    "Alla_A_Deponi_min, Alla_A_Deponi_max, Alla_A_Deponi_med, Alla_A_Deponi_e = calcMinMaxMedianError(Alla_A_Deponi_Y, a_string)\n",
    "Alla_A_Bransle_min, Alla_A_Bransle_max, Alla_A_Bransle_med, Alla_A_Bransle_e = calcMinMaxMedianError(Alla_A_Bransle_Y, a_string)\n"
   ]
  },
  {
   "cell_type": "code",
   "execution_count": 52,
   "id": "acb607ee",
   "metadata": {},
   "outputs": [
    {
     "data": {
      "text/plain": [
       "Text(0, 0.5, 'kg SO$_{2}$-eq / m$^{2}$ behandlad yta')"
      ]
     },
     "execution_count": 52,
     "metadata": {},
     "output_type": "execute_result"
    },
    {
     "data": {
      "image/png": "[encoded data removed]",
      "text/plain": [
       "<Figure size 800x550 with 1 Axes>"
      ]
     },
     "metadata": {},
     "output_type": "display_data"
    }
   ],
   "source": [
    "# color: https://matplotlib.org/stable/gallery/color/named_colors.html \n",
    "xlabels = ('Bränsle', 'Deponi', 'Sanering', 'Schakt', 'Transport')\n",
    "\n",
    "fig, ax = plt.subplots()\n",
    "\n",
    "ax.errorbar(y=Alla_A_Insitu_med, x=3, yerr = Alla_A_Insitu_e, capsize=10, elinewidth=3, markeredgewidth=3, color='black')\n",
    "\n",
    "ax.errorbar(y=Alla_A_Transport_med, x=5, yerr = Alla_A_Transport_e, capsize=10, elinewidth=3, markeredgewidth=3, color='cornflowerblue')\n",
    "\n",
    "ax.errorbar(y=Alla_A_Schakt_med, x=4, yerr = Alla_A_Schakt_e, capsize=10, elinewidth=3, markeredgewidth=3, color='darkgreen')\n",
    "\n",
    "ax.errorbar(y=Alla_A_Deponi_med, x=2, yerr = Alla_A_Deponi_e, capsize=10, elinewidth=3, markeredgewidth=3, color='peru')\n",
    "\n",
    "ax.errorbar(y=Alla_A_Bransle_med, x=1, yerr = Alla_A_Bransle_e, capsize=10, elinewidth=3, markeredgewidth=3, color='teal')\n",
    "\n",
    "ax.set_facecolor('white')\n",
    "ax.grid(color='silver')\n",
    "\n",
    "ax.hlines(y=0, xmin=0.5, xmax=6.5, linewidth=1, color='black')\n",
    "\n",
    "ax.set_title('Försurning Norra Djurgårdsstaden')\n",
    "ax.set_xticks((1,2,3,4,5))\n",
    "ax.set_xticklabels(xlabels, fontsize=8)\n",
    "ax.set_ylabel(acid_label)"
   ]
  },
  {
   "cell_type": "code",
   "execution_count": 53,
   "id": "d26a041b",
   "metadata": {},
   "outputs": [],
   "source": [
    "fig.savefig('Acidification', dpi=600, bbox_inches='tight')"
   ]
  },
  {
   "cell_type": "code",
   "execution_count": null,
   "id": "894a9857",
   "metadata": {},
   "outputs": [],
   "source": []
  },
  {
   "cell_type": "code",
   "execution_count": 54,
   "id": "365e426c",
   "metadata": {},
   "outputs": [],
   "source": [
    "Alla_EF_Insitu_min, Alla_EF_Insitu_max, Alla_EF_Insitu_med, Alla_EF_Insitu_e = calcMinMaxMedianError(Alla_EF_Insitu_Y, ef_string)\n",
    "Alla_EF_Transport_min, Alla_EF_Transport_max, Alla_EF_Transport_med, Alla_EF_Transport_e = calcMinMaxMedianError(Alla_EF_Transport_Y, ef_string)\n",
    "Alla_EF_Schakt_min, Alla_EF_Schakt_max, Alla_EF_Schakt_med, Alla_EF_Schakt_e = calcMinMaxMedianError(Alla_EF_Schakt_Y, ef_string)\n",
    "Alla_EF_Deponi_min, Alla_EF_Deponi_max, Alla_EF_Deponi_med, Alla_EF_Deponi_e = calcMinMaxMedianError(Alla_EF_Deponi_Y, ef_string)\n",
    "Alla_EF_Bransle_min, Alla_EF_Bransle_max, Alla_EF_Bransle_med, Alla_EF_Bransle_e = calcMinMaxMedianError(Alla_EF_Bransle_Y, ef_string)\n"
   ]
  },
  {
   "cell_type": "code",
   "execution_count": 55,
   "id": "fe3771f5",
   "metadata": {},
   "outputs": [
    {
     "data": {
      "text/plain": [
       "Text(0, 0.5, 'kg P-eq / m$^{2}$ behandlad yta')"
      ]
     },
     "execution_count": 55,
     "metadata": {},
     "output_type": "execute_result"
    },
    {
     "data": {
      "image/png": "[encoded data removed]",
      "text/plain": [
       "<Figure size 800x550 with 1 Axes>"
      ]
     },
     "metadata": {},
     "output_type": "display_data"
    }
   ],
   "source": [
    "# color: https://matplotlib.org/stable/gallery/color/named_colors.html \n",
    "xlabels = ('Bränsle', 'Deponi', 'Sanering', 'Schakt', 'Transport')\n",
    "\n",
    "fig, ax = plt.subplots()\n",
    "\n",
    "ax.errorbar(y=Alla_EF_Insitu_med, x=3, yerr = Alla_EF_Insitu_e, capsize=10, elinewidth=3, markeredgewidth=3, color='black')\n",
    "\n",
    "ax.errorbar(y=Alla_EF_Transport_med, x=5, yerr = Alla_EF_Transport_e, capsize=10, elinewidth=3, markeredgewidth=3, color='cornflowerblue')\n",
    "\n",
    "ax.errorbar(y=Alla_EF_Schakt_med, x=4, yerr = Alla_EF_Schakt_e, capsize=10, elinewidth=3, markeredgewidth=3, color='darkgreen')\n",
    "\n",
    "ax.errorbar(y=Alla_EF_Deponi_med, x=2, yerr = Alla_EF_Deponi_e, capsize=10, elinewidth=3, markeredgewidth=3, color='peru')\n",
    "\n",
    "ax.errorbar(y=Alla_EF_Bransle_med, x=1, yerr = Alla_EF_Bransle_e, capsize=10, elinewidth=3, markeredgewidth=3, color='teal')\n",
    "\n",
    "ax.set_facecolor('white')\n",
    "ax.grid(color='silver')\n",
    "\n",
    "ax.hlines(y=0, xmin=0.5, xmax=6.5, linewidth=1, color='black')\n",
    "\n",
    "ax.set_title('Övergödning - Sötvatten Norra Djurgårdsstaden')\n",
    "ax.set_xticks((1,2,3,4,5))\n",
    "ax.set_xticklabels(xlabels, fontsize=8)\n",
    "ax.set_ylabel(ef_label)"
   ]
  },
  {
   "cell_type": "code",
   "execution_count": 56,
   "id": "d2c66711",
   "metadata": {},
   "outputs": [],
   "source": [
    "fig.savefig('Eutrofresh', dpi=600, bbox_inches='tight')"
   ]
  },
  {
   "cell_type": "code",
   "execution_count": null,
   "id": "bbe9ffd9",
   "metadata": {},
   "outputs": [],
   "source": []
  },
  {
   "cell_type": "code",
   "execution_count": 57,
   "id": "0b018ac8",
   "metadata": {},
   "outputs": [],
   "source": [
    "Alla_EM_Insitu_min, Alla_EM_Insitu_max, Alla_EM_Insitu_med, Alla_EM_Insitu_e = calcMinMaxMedianError(Alla_EM_Insitu_Y, em_string)\n",
    "Alla_EM_Transport_min, Alla_EM_Transport_max, Alla_EM_Transport_med, Alla_EM_Transport_e = calcMinMaxMedianError(Alla_EM_Transport_Y, em_string)\n",
    "Alla_EM_Schakt_min, Alla_EM_Schakt_max, Alla_EM_Schakt_med, Alla_EM_Schakt_e = calcMinMaxMedianError(Alla_EM_Schakt_Y, em_string)\n",
    "Alla_EM_Deponi_min, Alla_EM_Deponi_max, Alla_EM_Deponi_med, Alla_EM_Deponi_e = calcMinMaxMedianError(Alla_EM_Deponi_Y, em_string)\n",
    "Alla_EM_Bransle_min, Alla_EM_Bransle_max, Alla_EM_Bransle_med, Alla_EM_Bransle_e = calcMinMaxMedianError(Alla_EM_Bransle_Y, em_string)\n"
   ]
  },
  {
   "cell_type": "code",
   "execution_count": 58,
   "id": "a64ff3eb",
   "metadata": {},
   "outputs": [
    {
     "data": {
      "text/plain": [
       "Text(0, 0.5, 'kg N-eq / m$^{2}$ behandlad yta')"
      ]
     },
     "execution_count": 58,
     "metadata": {},
     "output_type": "execute_result"
    },
    {
     "data": {
      "image/png": "[encoded data removed]",
      "text/plain": [
       "<Figure size 800x550 with 1 Axes>"
      ]
     },
     "metadata": {},
     "output_type": "display_data"
    }
   ],
   "source": [
    "# color: https://matplotlib.org/stable/gallery/color/named_colors.html \n",
    "xlabels = ('Bränsle', 'Deponi', 'Sanering', 'Schakt', 'Transport')\n",
    "\n",
    "fig, ax = plt.subplots()\n",
    "\n",
    "ax.errorbar(y=Alla_EM_Insitu_med, x=3, yerr = Alla_EM_Insitu_e, capsize=10, elinewidth=3, markeredgewidth=3, color='black')\n",
    "\n",
    "ax.errorbar(y=Alla_EM_Transport_med, x=5, yerr = Alla_EM_Transport_e, capsize=10, elinewidth=3, markeredgewidth=3, color='cornflowerblue')\n",
    "\n",
    "ax.errorbar(y=Alla_EM_Schakt_med, x=4, yerr = Alla_EM_Schakt_e, capsize=10, elinewidth=3, markeredgewidth=3, color='darkgreen')\n",
    "\n",
    "ax.errorbar(y=Alla_EM_Deponi_med, x=2, yerr = Alla_EM_Deponi_e, capsize=10, elinewidth=3, markeredgewidth=3, color='peru')\n",
    "\n",
    "ax.errorbar(y=Alla_EM_Bransle_med, x=1, yerr = Alla_EM_Bransle_e, capsize=10, elinewidth=3, markeredgewidth=3, color='teal')\n",
    "\n",
    "ax.set_facecolor('white')\n",
    "ax.grid(color='silver')\n",
    "\n",
    "ax.hlines(y=0, xmin=0.5, xmax=6.5, linewidth=1, color='black')\n",
    "\n",
    "ax.set_title('Övergödning - Saltvatten Norra Djurgårdsstaden')\n",
    "ax.set_xticks((1,2,3,4,5))\n",
    "ax.set_xticklabels(xlabels, fontsize=8)\n",
    "ax.set_ylabel(em_label)"
   ]
  },
  {
   "cell_type": "code",
   "execution_count": 59,
   "id": "1b827136",
   "metadata": {},
   "outputs": [],
   "source": [
    "fig.savefig('Eutromarine', dpi=600, bbox_inches='tight')"
   ]
  },
  {
   "cell_type": "code",
   "execution_count": null,
   "id": "1af2c653",
   "metadata": {},
   "outputs": [],
   "source": []
  },
  {
   "cell_type": "code",
   "execution_count": 60,
   "id": "578a51a9",
   "metadata": {},
   "outputs": [],
   "source": [
    "Alla_M_Insitu_min, Alla_M_Insitu_max, Alla_M_Insitu_med, Alla_M_Insitu_e = calcMinMaxMedianError(Alla_M_Insitu_Y, m_string)\n",
    "Alla_M_Transport_min, Alla_M_Transport_max, Alla_M_Transport_med, Alla_M_Transport_e = calcMinMaxMedianError(Alla_M_Transport_Y, m_string)\n",
    "Alla_M_Schakt_min, Alla_M_Schakt_max, Alla_M_Schakt_med, Alla_M_Schakt_e = calcMinMaxMedianError(Alla_M_Schakt_Y, m_string)\n",
    "Alla_M_Deponi_min, Alla_M_Deponi_max, Alla_M_Deponi_med, Alla_M_Deponi_e = calcMinMaxMedianError(Alla_M_Deponi_Y, m_string)\n",
    "Alla_M_Bransle_min, Alla_M_Bransle_max, Alla_M_Bransle_med, Alla_M_Bransle_e = calcMinMaxMedianError(Alla_M_Bransle_Y, m_string)\n"
   ]
  },
  {
   "cell_type": "code",
   "execution_count": 61,
   "id": "b362d76a",
   "metadata": {},
   "outputs": [
    {
     "data": {
      "text/plain": [
       "Text(0, 0.5, 'kg Cu-eq / m$^{2}$ behandlad yta')"
      ]
     },
     "execution_count": 61,
     "metadata": {},
     "output_type": "execute_result"
    },
    {
     "data": {
      "image/png": "[encoded data removed]",
      "text/plain": [
       "<Figure size 800x550 with 1 Axes>"
      ]
     },
     "metadata": {},
     "output_type": "display_data"
    }
   ],
   "source": [
    "# color: https://matplotlib.org/stable/gallery/color/named_colors.html \n",
    "xlabels = ('Bränsle', 'Deponi', 'Sanering', 'Schakt', 'Transport')\n",
    "\n",
    "fig, ax = plt.subplots()\n",
    "\n",
    "ax.errorbar(y=Alla_M_Insitu_med, x=3, yerr = Alla_M_Insitu_e, capsize=10, elinewidth=3, markeredgewidth=3, color='black')\n",
    "\n",
    "ax.errorbar(y=Alla_M_Transport_med, x=5, yerr = Alla_M_Transport_e, capsize=10, elinewidth=3, markeredgewidth=3, color='cornflowerblue')\n",
    "\n",
    "ax.errorbar(y=Alla_M_Schakt_med, x=4, yerr = Alla_M_Schakt_e, capsize=10, elinewidth=3, markeredgewidth=3, color='darkgreen')\n",
    "\n",
    "ax.errorbar(y=Alla_M_Deponi_med, x=2, yerr = Alla_M_Deponi_e, capsize=10, elinewidth=3, markeredgewidth=3, color='peru')\n",
    "\n",
    "ax.errorbar(y=Alla_M_Bransle_med, x=1, yerr = Alla_M_Bransle_e, capsize=10, elinewidth=3, markeredgewidth=3, color='teal')\n",
    "\n",
    "ax.set_facecolor('white')\n",
    "ax.grid(color='silver')\n",
    "\n",
    "ax.hlines(y=0, xmin=0.5, xmax=6.5, linewidth=1, color='black')\n",
    "\n",
    "ax.set_title('Materialåtgång Norra Djurgårdsstaden')\n",
    "ax.set_xticks((1,2,3,4,5))\n",
    "ax.set_xticklabels(xlabels, fontsize=8)\n",
    "ax.set_ylabel(m_label)"
   ]
  },
  {
   "cell_type": "code",
   "execution_count": 62,
   "id": "f45e2513",
   "metadata": {},
   "outputs": [],
   "source": [
    "fig.savefig('Material', dpi=600, bbox_inches='tight')"
   ]
  },
  {
   "cell_type": "code",
   "execution_count": null,
   "id": "9a5f86a9",
   "metadata": {},
   "outputs": [],
   "source": []
  },
  {
   "cell_type": "code",
   "execution_count": 63,
   "id": "10542c7a",
   "metadata": {},
   "outputs": [],
   "source": [
    "Alla_W_Insitu_min, Alla_W_Insitu_max, Alla_W_Insitu_med, Alla_W_Insitu_e = calcMinMaxMedianError(Alla_W_Insitu_Y, w_string)\n",
    "Alla_W_Transport_min, Alla_W_Transport_max, Alla_W_Transport_med, Alla_W_Transport_e = calcMinMaxMedianError(Alla_W_Transport_Y, w_string)\n",
    "Alla_W_Schakt_min, Alla_W_Schakt_max, Alla_W_Schakt_med, Alla_W_Schakt_e = calcMinMaxMedianError(Alla_W_Schakt_Y, w_string)\n",
    "Alla_W_Deponi_min, Alla_W_Deponi_max, Alla_W_Deponi_med, Alla_W_Deponi_e = calcMinMaxMedianError(Alla_W_Deponi_Y, w_string)\n",
    "Alla_W_Bransle_min, Alla_W_Bransle_max, Alla_W_Bransle_med, Alla_W_Bransle_e = calcMinMaxMedianError(Alla_W_Bransle_Y, w_string)\n"
   ]
  },
  {
   "cell_type": "code",
   "execution_count": 64,
   "id": "a39864e8",
   "metadata": {
    "scrolled": true
   },
   "outputs": [
    {
     "data": {
      "text/plain": [
       "Text(0, 0.5, 'm$^{3}$ / m$^{2}$ behandlad yta')"
      ]
     },
     "execution_count": 64,
     "metadata": {},
     "output_type": "execute_result"
    },
    {
     "data": {
      "image/png": "[encoded data removed]",
      "text/plain": [
       "<Figure size 800x550 with 1 Axes>"
      ]
     },
     "metadata": {},
     "output_type": "display_data"
    }
   ],
   "source": [
    "# color: https://matplotlib.org/stable/gallery/color/named_colors.html ###Ev ändra till vatten\n",
    "xlabels = ('Bränsle', 'Deponi', 'Sanering', 'Schakt', 'Transport')\n",
    "\n",
    "fig, ax = plt.subplots()\n",
    "\n",
    "ax.errorbar(y=Alla_W_Insitu_med, x=3, yerr = Alla_W_Insitu_e, capsize=10, elinewidth=3, markeredgewidth=3, color='black')\n",
    "\n",
    "ax.errorbar(y=Alla_W_Transport_med, x=5, yerr = Alla_W_Transport_e, capsize=10, elinewidth=3, markeredgewidth=3, color='cornflowerblue')\n",
    "\n",
    "ax.errorbar(y=Alla_W_Schakt_med, x=4, yerr = Alla_W_Schakt_e, capsize=10, elinewidth=3, markeredgewidth=3, color='darkgreen')\n",
    "\n",
    "ax.errorbar(y=Alla_W_Deponi_med, x=2, yerr = Alla_W_Deponi_e, capsize=10, elinewidth=3, markeredgewidth=3, color='peru')\n",
    "\n",
    "ax.errorbar(y=Alla_W_Bransle_med, x=1, yerr = Alla_W_Bransle_e, capsize=10, elinewidth=3, markeredgewidth=3, color='teal')\n",
    "\n",
    "ax.set_facecolor('white')\n",
    "ax.grid(color='silver')\n",
    "\n",
    "ax.hlines(y=0, xmin=0.5, xmax=6.5, linewidth=1, color='black')\n",
    "\n",
    "ax.set_title('Vattenanvändning Norra Djurgårdsstaden')\n",
    "ax.set_xticks((1,2,3,4,5))\n",
    "ax.set_xticklabels(xlabels, fontsize=8)\n",
    "ax.set_ylabel(w_label)"
   ]
  },
  {
   "cell_type": "code",
   "execution_count": 65,
   "id": "0ce8f3bd",
   "metadata": {},
   "outputs": [],
   "source": [
    "fig.savefig('Wateruse', dpi=600, bbox_inches='tight')"
   ]
  },
  {
   "cell_type": "markdown",
   "id": "e70fd93d",
   "metadata": {},
   "source": [
    "### Tagg 2"
   ]
  },
  {
   "cell_type": "code",
   "execution_count": 66,
   "id": "1d551b42",
   "metadata": {
    "scrolled": false
   },
   "outputs": [
    {
     "name": "stdout",
     "output_type": "stream",
     "text": [
      "There are 33 items to be tagged, one by one\n",
      "Do you want to proceed (Y/N) ? Y\n",
      "Lets proceed! Type 'skip' in order to not tag the given activity or remove existing tag\n",
      "HVO production and combustion in machines... to be in the group called... ? Bränsle\n",
      "siktSwitch... to be in the group called... ? Schakt\n",
      "sodium persulfate production... to be in the group called... ? SP\n",
      "Transport, lastbil, biodiesel... to be in the group called... ? skip\n",
      "Gravmaskin... to be in the group called... ? Schakt\n",
      "dieselSwitch... to be in the group called... ? skip\n",
      "Landfill infrastructure... to be in the group called... ? Deponi\n",
      "OxideringKol... to be in the group called... ? AK\n",
      "Bergskross... to be in the group called... ? Bergskross\n",
      "NDS wet sieving machine... to be in the group called... ? MLC\n",
      "Schakt... to be in the group called... ? Schakt\n",
      "biodiesel... to be in the group called... ? skip\n",
      "oxideringSwitch... to be in the group called... ? skip\n",
      "Deponi... to be in the group called... ? Deponi\n",
      "Oxidering... to be in the group called... ? SP\n",
      "Transport, ellastbil... to be in the group called... ? skip\n",
      "Electricity consumption... to be in the group called... ? Deponi\n",
      "Siktning... to be in the group called... ? MLC\n",
      "OxideringKC... to be in the group called... ? KC\n",
      "InstallationTAM... to be in the group called... ? SP\n",
      "NaOh... to be in the group called... ? SP\n",
      "Lastare... to be in the group called... ? Schakt\n",
      "ALLA... to be in the group called... ? Alla\n",
      "Deponi_FA... to be in the group called... ? Deponi\n",
      "OxideringORC... to be in the group called... ? ORC\n",
      "Transport, lastbil... to be in the group called... ? skip\n",
      "NDS waste water treatment facility... to be in the group called... ? MLC\n",
      "diesel... to be in the group called... ? skip\n",
      "NDS facility... to be in the group called... ? MLC\n",
      "polyethylene pipe production, corrugated, DN 75... to be in the group called... ? SP\n",
      "Diesel production and combustion in machines... to be in the group called... ? skip\n",
      "MLC... to be in the group called... ? MLC\n",
      "Transport, farja... to be in the group called... ? Transport\n",
      "Number of activities tagged: 25\n",
      "Number of activities skipped: 8\n"
     ]
    }
   ],
   "source": [
    "#Katergorier: Schakt, Deponi, MLC, Bergskross, KC, SP, AK, ORC, Transport, Bränsle\n",
    "new_data = conveniently_tag_database_v2(fg, 'label_name2') "
   ]
  },
  {
   "cell_type": "code",
   "execution_count": 67,
   "id": "70547616",
   "metadata": {},
   "outputs": [],
   "source": [
    "# manually add/change tags:\n",
    "# step 1: find act\n",
    "act_to_tag = findActivity(\"Transport, lastbil, biodiesel\", db_name=fg)"
   ]
  },
  {
   "cell_type": "code",
   "execution_count": 68,
   "id": "5dc11b0e",
   "metadata": {},
   "outputs": [
    {
     "data": {
      "text/plain": [
       "'Transport, lastbil, biodiesel' (ton kilometer, GLO, None)"
      ]
     },
     "execution_count": 68,
     "metadata": {},
     "output_type": "execute_result"
    }
   ],
   "source": [
    "act_to_tag # check that we have it"
   ]
  },
  {
   "cell_type": "code",
   "execution_count": 69,
   "id": "435a7a5e",
   "metadata": {},
   "outputs": [],
   "source": [
    "act_to_tag['label_name2']='Transport' # change the tag directly for this act\n",
    "act_to_tag.save() # important! if we don't save, the changes doesn't get registered in the db"
   ]
  },
  {
   "cell_type": "code",
   "execution_count": 70,
   "id": "f6bf7a46",
   "metadata": {},
   "outputs": [
    {
     "data": {
      "text/plain": [
       "'Transport'"
      ]
     },
     "execution_count": 70,
     "metadata": {},
     "output_type": "execute_result"
    }
   ],
   "source": [
    "# check that the tag is correct\n",
    "act_to_tag['label_name2']"
   ]
  },
  {
   "cell_type": "code",
   "execution_count": 25,
   "id": "163651f0",
   "metadata": {
    "scrolled": true
   },
   "outputs": [
    {
     "name": "stderr",
     "output_type": "stream",
     "text": [
      "Error while parsing formula '' : backing to amount\n",
      "Error while parsing formula '' : backing to amount\n",
      "Error while parsing formula '' : backing to amount\n",
      "Error while parsing formula '' : backing to amount\n",
      "Error while parsing formula '' : backing to amount\n",
      "Error while parsing formula '' : backing to amount\n",
      "Error while parsing formula '' : backing to amount\n",
      "Error while parsing formula '' : backing to amount\n",
      "Error while parsing formula '' : backing to amount\n",
      "Error while parsing formula '' : backing to amount\n",
      "Error while parsing formula '' : backing to amount\n",
      "Error while parsing formula '' : backing to amount\n",
      "Error while parsing formula '' : backing to amount\n",
      "Error while parsing formula '' : backing to amount\n",
      "Error while parsing formula '' : backing to amount\n",
      "Error while parsing formula '' : backing to amount\n",
      "Error while parsing formula '' : backing to amount\n",
      "Error while parsing formula '' : backing to amount\n",
      "Error while parsing formula '' : backing to amount\n",
      "Error while parsing formula '' : backing to amount\n",
      "Error while parsing formula '' : backing to amount\n",
      "Error while parsing formula '' : backing to amount\n",
      "Error while parsing formula '' : backing to amount\n",
      "Error while parsing formula '' : backing to amount\n",
      "Error while parsing formula '' : backing to amount\n",
      "Error while parsing formula '' : backing to amount\n",
      "Error while parsing formula '' : backing to amount\n",
      "Error while parsing formula '' : backing to amount\n",
      "Error while parsing formula '' : backing to amount\n",
      "Error while parsing formula '' : backing to amount\n",
      "Error while parsing formula '' : backing to amount\n",
      "Error while parsing formula '' : backing to amount\n",
      "Error while parsing formula '' : backing to amount\n",
      "Error while parsing formula '' : backing to amount\n",
      "Error while parsing formula '' : backing to amount\n",
      "Error while parsing formula '' : backing to amount\n",
      "Error while parsing formula '' : backing to amount\n",
      "Error while parsing formula '' : backing to amount\n",
      "Error while parsing formula '' : backing to amount\n",
      "Error while parsing formula '' : backing to amount\n",
      "Error while parsing formula '' : backing to amount\n",
      "Error while parsing formula '' : backing to amount\n",
      "Error while parsing formula '' : backing to amount\n",
      "Error while parsing formula '' : backing to amount\n",
      "Error while parsing formula '' : backing to amount\n",
      "Error while parsing formula '' : backing to amount\n",
      "Error while parsing formula '' : backing to amount\n",
      "Error while parsing formula '' : backing to amount\n",
      "Error while parsing formula '' : backing to amount\n",
      "Error while parsing formula '' : backing to amount\n",
      "Error while parsing formula '' : backing to amount\n",
      "Error while parsing formula '' : backing to amount\n",
      "Error while parsing formula '' : backing to amount\n",
      "Error while parsing formula '' : backing to amount\n",
      "Error while parsing formula '' : backing to amount\n",
      "Error while parsing formula '' : backing to amount\n",
      "Error while parsing formula '' : backing to amount\n",
      "Error while parsing formula '' : backing to amount\n",
      "Error while parsing formula '' : backing to amount\n",
      "Error while parsing formula '' : backing to amount\n",
      "Error while parsing formula '' : backing to amount\n",
      "Error while parsing formula '' : backing to amount\n",
      "Error while parsing formula '' : backing to amount\n",
      "Error while parsing formula '' : backing to amount\n",
      "Error while parsing formula '' : backing to amount\n",
      "Error while parsing formula '' : backing to amount\n",
      "Error while parsing formula '' : backing to amount\n",
      "Error while parsing formula '' : backing to amount\n",
      "Error while parsing formula '' : backing to amount\n",
      "Error while parsing formula '' : backing to amount\n",
      "Error while parsing formula '' : backing to amount\n",
      "Error while parsing formula '' : backing to amount\n",
      "Error while parsing formula '' : backing to amount\n",
      "Error while parsing formula '' : backing to amount\n",
      "Error while parsing formula '' : backing to amount\n",
      "Error while parsing formula '' : backing to amount\n",
      "Error while parsing formula '' : backing to amount\n",
      "Error while parsing formula '' : backing to amount\n",
      "Error while parsing formula '' : backing to amount\n",
      "Error while parsing formula '' : backing to amount\n",
      "Error while parsing formula '' : backing to amount\n",
      "Error while parsing formula '' : backing to amount\n",
      "Error while parsing formula '' : backing to amount\n",
      "Error while parsing formula '' : backing to amount\n",
      "Error while parsing formula '' : backing to amount\n",
      "Error while parsing formula '' : backing to amount\n",
      "Error while parsing formula '' : backing to amount\n",
      "Error while parsing formula '' : backing to amount\n",
      "Error while parsing formula '' : backing to amount\n",
      "Error while parsing formula '' : backing to amount\n",
      "Error while parsing formula '' : backing to amount\n",
      "Error while parsing formula '' : backing to amount\n",
      "Error while parsing formula '' : backing to amount\n",
      "Error while parsing formula '' : backing to amount\n",
      "Error while parsing formula '' : backing to amount\n",
      "Error while parsing formula '' : backing to amount\n",
      "Error while parsing formula '' : backing to amount\n",
      "Error while parsing formula '' : backing to amount\n",
      "Error while parsing formula '' : backing to amount\n",
      "Error while parsing formula '' : backing to amount\n",
      "Error while parsing formula '' : backing to amount\n",
      "Error while parsing formula '' : backing to amount\n",
      "Error while parsing formula '' : backing to amount\n",
      "Error while parsing formula '' : backing to amount\n",
      "Error while parsing formula '' : backing to amount\n",
      "Error while parsing formula '' : backing to amount\n",
      "Error while parsing formula '' : backing to amount\n",
      "Error while parsing formula '' : backing to amount\n",
      "Error while parsing formula '' : backing to amount\n",
      "Error while parsing formula '' : backing to amount\n",
      "Error while parsing formula '' : backing to amount\n",
      "Error while parsing formula '' : backing to amount\n",
      "Error while parsing formula '' : backing to amount\n",
      "Error while parsing formula '' : backing to amount\n",
      "Error while parsing formula '' : backing to amount\n",
      "Error while parsing formula '' : backing to amount\n",
      "Error while parsing formula '' : backing to amount\n",
      "Error while parsing formula '' : backing to amount\n",
      "Error while parsing formula '' : backing to amount\n",
      "Error while parsing formula '' : backing to amount\n",
      "Error while parsing formula '' : backing to amount\n",
      "Error while parsing formula '' : backing to amount\n",
      "Error while parsing formula '' : backing to amount\n",
      "Error while parsing formula '' : backing to amount\n",
      "Error while parsing formula '' : backing to amount\n",
      "Error while parsing formula '' : backing to amount\n",
      "Error while parsing formula '' : backing to amount\n",
      "Error while parsing formula '' : backing to amount\n",
      "Error while parsing formula '' : backing to amount\n",
      "Error while parsing formula '' : backing to amount\n",
      "Error while parsing formula '' : backing to amount\n",
      "Error while parsing formula '' : backing to amount\n",
      "Error while parsing formula '' : backing to amount\n",
      "Error while parsing formula '' : backing to amount\n",
      "Error while parsing formula '' : backing to amount\n",
      "Error while parsing formula '' : backing to amount\n",
      "Error while parsing formula '' : backing to amount\n",
      "Error while parsing formula '' : backing to amount\n",
      "Error while parsing formula '' : backing to amount\n",
      "Error while parsing formula '' : backing to amount\n",
      "Error while parsing formula '' : backing to amount\n",
      "Error while parsing formula '' : backing to amount\n",
      "Error while parsing formula '' : backing to amount\n",
      "Error while parsing formula '' : backing to amount\n",
      "Error while parsing formula '' : backing to amount\n",
      "Error while parsing formula '' : backing to amount\n",
      "Error while parsing formula '' : backing to amount\n",
      "Error while parsing formula '' : backing to amount\n",
      "Error while parsing formula '' : backing to amount\n",
      "Error while parsing formula '' : backing to amount\n",
      "Error while parsing formula '' : backing to amount\n",
      "Error while parsing formula '' : backing to amount\n",
      "Error while parsing formula '' : backing to amount\n",
      "Error while parsing formula '' : backing to amount\n",
      "Error while parsing formula '' : backing to amount\n",
      "Error while parsing formula '' : backing to amount\n",
      "Error while parsing formula '' : backing to amount\n",
      "Error while parsing formula '' : backing to amount\n",
      "Error while parsing formula '' : backing to amount\n",
      "Error while parsing formula '' : backing to amount\n",
      "Error while parsing formula '' : backing to amount\n",
      "Error while parsing formula '' : backing to amount\n"
     ]
    },
    {
     "name": "stderr",
     "output_type": "stream",
     "text": [
      "Error while parsing formula '' : backing to amount\n",
      "Error while parsing formula '' : backing to amount\n",
      "Error while parsing formula '' : backing to amount\n",
      "Error while parsing formula '' : backing to amount\n",
      "Error while parsing formula '' : backing to amount\n",
      "Error while parsing formula '' : backing to amount\n",
      "Error while parsing formula '' : backing to amount\n",
      "Error while parsing formula '' : backing to amount\n",
      "Error while parsing formula '' : backing to amount\n",
      "Error while parsing formula '' : backing to amount\n",
      "Error while parsing formula '' : backing to amount\n",
      "Error while parsing formula '' : backing to amount\n",
      "Error while parsing formula '' : backing to amount\n",
      "Error while parsing formula '' : backing to amount\n",
      "Error while parsing formula '' : backing to amount\n",
      "Error while parsing formula '' : backing to amount\n",
      "Error while parsing formula '' : backing to amount\n",
      "Error while parsing formula '' : backing to amount\n",
      "Error while parsing formula '' : backing to amount\n",
      "Error while parsing formula '' : backing to amount\n",
      "Error while parsing formula '' : backing to amount\n",
      "Error while parsing formula '' : backing to amount\n",
      "Error while parsing formula '' : backing to amount\n",
      "Error while parsing formula '' : backing to amount\n",
      "Error while parsing formula '' : backing to amount\n",
      "Error while parsing formula '' : backing to amount\n",
      "Error while parsing formula '' : backing to amount\n",
      "Error while parsing formula '' : backing to amount\n",
      "Error while parsing formula '' : backing to amount\n",
      "Error while parsing formula '' : backing to amount\n",
      "Error while parsing formula '' : backing to amount\n",
      "Error while parsing formula '' : backing to amount\n",
      "Error while parsing formula '' : backing to amount\n",
      "Error while parsing formula '' : backing to amount\n",
      "Error while parsing formula '' : backing to amount\n",
      "Error while parsing formula '' : backing to amount\n",
      "Error while parsing formula '' : backing to amount\n",
      "Error while parsing formula '' : backing to amount\n",
      "Error while parsing formula '' : backing to amount\n",
      "Error while parsing formula '' : backing to amount\n",
      "Error while parsing formula '' : backing to amount\n",
      "Error while parsing formula '' : backing to amount\n",
      "Error while parsing formula '' : backing to amount\n",
      "Error while parsing formula '' : backing to amount\n",
      "Error while parsing formula '' : backing to amount\n",
      "Error while parsing formula '' : backing to amount\n",
      "Error while parsing formula '' : backing to amount\n",
      "Error while parsing formula '' : backing to amount\n",
      "Error while parsing formula '' : backing to amount\n",
      "Error while parsing formula '' : backing to amount\n",
      "Error while parsing formula '' : backing to amount\n",
      "Error while parsing formula '' : backing to amount\n",
      "Error while parsing formula '' : backing to amount\n",
      "Error while parsing formula '' : backing to amount\n",
      "Error while parsing formula '' : backing to amount\n",
      "Error while parsing formula '' : backing to amount\n",
      "Error while parsing formula '' : backing to amount\n",
      "Error while parsing formula '' : backing to amount\n",
      "Error while parsing formula '' : backing to amount\n",
      "Error while parsing formula '' : backing to amount\n",
      "Error while parsing formula '' : backing to amount\n",
      "Error while parsing formula '' : backing to amount\n",
      "Error while parsing formula '' : backing to amount\n",
      "Error while parsing formula '' : backing to amount\n",
      "Error while parsing formula '' : backing to amount\n",
      "Error while parsing formula '' : backing to amount\n",
      "Error while parsing formula '' : backing to amount\n",
      "Error while parsing formula '' : backing to amount\n",
      "Error while parsing formula '' : backing to amount\n",
      "Error while parsing formula '' : backing to amount\n",
      "Error while parsing formula '' : backing to amount\n",
      "Error while parsing formula '' : backing to amount\n",
      "Error while parsing formula '' : backing to amount\n",
      "Error while parsing formula '' : backing to amount\n",
      "Error while parsing formula '' : backing to amount\n",
      "Error while parsing formula '' : backing to amount\n",
      "Error while parsing formula '' : backing to amount\n",
      "Error while parsing formula '' : backing to amount\n",
      "Error while parsing formula '' : backing to amount\n",
      "Error while parsing formula '' : backing to amount\n",
      "Error while parsing formula '' : backing to amount\n",
      "Error while parsing formula '' : backing to amount\n",
      "Error while parsing formula '' : backing to amount\n",
      "Error while parsing formula '' : backing to amount\n",
      "Error while parsing formula '' : backing to amount\n",
      "Error while parsing formula '' : backing to amount\n",
      "Error while parsing formula '' : backing to amount\n",
      "Error while parsing formula '' : backing to amount\n",
      "Error while parsing formula '' : backing to amount\n",
      "Error while parsing formula '' : backing to amount\n",
      "Error while parsing formula '' : backing to amount\n",
      "Error while parsing formula '' : backing to amount\n",
      "Error while parsing formula '' : backing to amount\n",
      "Error while parsing formula '' : backing to amount\n",
      "Error while parsing formula '' : backing to amount\n",
      "Error while parsing formula '' : backing to amount\n",
      "Error while parsing formula '' : backing to amount\n",
      "Error while parsing formula '' : backing to amount\n",
      "Error while parsing formula '' : backing to amount\n",
      "Error while parsing formula '' : backing to amount\n",
      "Error while parsing formula '' : backing to amount\n",
      "Error while parsing formula '' : backing to amount\n",
      "Error while parsing formula '' : backing to amount\n",
      "Error while parsing formula '' : backing to amount\n",
      "Error while parsing formula '' : backing to amount\n",
      "Error while parsing formula '' : backing to amount\n",
      "Error while parsing formula '' : backing to amount\n",
      "Error while parsing formula '' : backing to amount\n",
      "Error while parsing formula '' : backing to amount\n",
      "Error while parsing formula '' : backing to amount\n",
      "Error while parsing formula '' : backing to amount\n",
      "Error while parsing formula '' : backing to amount\n",
      "Error while parsing formula '' : backing to amount\n",
      "Error while parsing formula '' : backing to amount\n",
      "Error while parsing formula '' : backing to amount\n",
      "Error while parsing formula '' : backing to amount\n",
      "Error while parsing formula '' : backing to amount\n",
      "Error while parsing formula '' : backing to amount\n",
      "Error while parsing formula '' : backing to amount\n",
      "Error while parsing formula '' : backing to amount\n",
      "Error while parsing formula '' : backing to amount\n",
      "Error while parsing formula '' : backing to amount\n",
      "Error while parsing formula '' : backing to amount\n",
      "Error while parsing formula '' : backing to amount\n",
      "Error while parsing formula '' : backing to amount\n",
      "Error while parsing formula '' : backing to amount\n",
      "Error while parsing formula '' : backing to amount\n",
      "Error while parsing formula '' : backing to amount\n",
      "Error while parsing formula '' : backing to amount\n",
      "Error while parsing formula '' : backing to amount\n",
      "Error while parsing formula '' : backing to amount\n",
      "Error while parsing formula '' : backing to amount\n",
      "Error while parsing formula '' : backing to amount\n",
      "Error while parsing formula '' : backing to amount\n",
      "Error while parsing formula '' : backing to amount\n",
      "Error while parsing formula '' : backing to amount\n",
      "Error while parsing formula '' : backing to amount\n",
      "Error while parsing formula '' : backing to amount\n",
      "Error while parsing formula '' : backing to amount\n",
      "Error while parsing formula '' : backing to amount\n",
      "Error while parsing formula '' : backing to amount\n",
      "Error while parsing formula '' : backing to amount\n",
      "Error while parsing formula '' : backing to amount\n",
      "Error while parsing formula '' : backing to amount\n",
      "Error while parsing formula '' : backing to amount\n",
      "Error while parsing formula '' : backing to amount\n",
      "Error while parsing formula '' : backing to amount\n",
      "Error while parsing formula '' : backing to amount\n",
      "Error while parsing formula '' : backing to amount\n",
      "Error while parsing formula '' : backing to amount\n",
      "Error while parsing formula '' : backing to amount\n",
      "Error while parsing formula '' : backing to amount\n",
      "Error while parsing formula '' : backing to amount\n",
      "Error while parsing formula '' : backing to amount\n",
      "Error while parsing formula '' : backing to amount\n",
      "Error while parsing formula '' : backing to amount\n",
      "Error while parsing formula '' : backing to amount\n",
      "Error while parsing formula '' : backing to amount\n",
      "Error while parsing formula '' : backing to amount\n",
      "Error while parsing formula '' : backing to amount\n",
      "Error while parsing formula '' : backing to amount\n",
      "Error while parsing formula '' : backing to amount\n"
     ]
    },
    {
     "name": "stderr",
     "output_type": "stream",
     "text": [
      "Error while parsing formula '' : backing to amount\n",
      "Error while parsing formula '' : backing to amount\n",
      "Error while parsing formula '' : backing to amount\n",
      "Error while parsing formula '' : backing to amount\n",
      "Error while parsing formula '' : backing to amount\n",
      "Error while parsing formula '' : backing to amount\n",
      "Error while parsing formula '' : backing to amount\n",
      "Error while parsing formula '' : backing to amount\n",
      "Error while parsing formula '' : backing to amount\n",
      "Error while parsing formula '' : backing to amount\n",
      "Error while parsing formula '' : backing to amount\n",
      "Error while parsing formula '' : backing to amount\n",
      "Error while parsing formula '' : backing to amount\n",
      "Error while parsing formula '' : backing to amount\n",
      "Error while parsing formula '' : backing to amount\n",
      "Error while parsing formula '' : backing to amount\n",
      "Error while parsing formula '' : backing to amount\n",
      "Error while parsing formula '' : backing to amount\n",
      "Error while parsing formula '' : backing to amount\n",
      "Error while parsing formula '' : backing to amount\n",
      "Error while parsing formula '' : backing to amount\n",
      "Error while parsing formula '' : backing to amount\n",
      "Error while parsing formula '' : backing to amount\n",
      "Error while parsing formula '' : backing to amount\n",
      "Error while parsing formula '' : backing to amount\n",
      "Error while parsing formula '' : backing to amount\n",
      "Error while parsing formula '' : backing to amount\n",
      "Error while parsing formula '' : backing to amount\n",
      "Error while parsing formula '' : backing to amount\n",
      "Error while parsing formula '' : backing to amount\n",
      "Error while parsing formula '' : backing to amount\n",
      "Error while parsing formula '' : backing to amount\n",
      "Error while parsing formula '' : backing to amount\n",
      "Error while parsing formula '' : backing to amount\n",
      "Error while parsing formula '' : backing to amount\n",
      "Error while parsing formula '' : backing to amount\n",
      "Error while parsing formula '' : backing to amount\n",
      "Error while parsing formula '' : backing to amount\n",
      "Error while parsing formula '' : backing to amount\n",
      "Error while parsing formula '' : backing to amount\n",
      "Error while parsing formula '' : backing to amount\n",
      "Error while parsing formula '' : backing to amount\n",
      "Error while parsing formula '' : backing to amount\n",
      "Error while parsing formula '' : backing to amount\n",
      "Error while parsing formula '' : backing to amount\n",
      "Error while parsing formula '' : backing to amount\n",
      "Error while parsing formula '' : backing to amount\n",
      "Error while parsing formula '' : backing to amount\n",
      "Error while parsing formula '' : backing to amount\n",
      "Error while parsing formula '' : backing to amount\n",
      "Error while parsing formula '' : backing to amount\n",
      "Error while parsing formula '' : backing to amount\n",
      "Error while parsing formula '' : backing to amount\n",
      "Error while parsing formula '' : backing to amount\n",
      "Error while parsing formula '' : backing to amount\n",
      "Error while parsing formula '' : backing to amount\n",
      "Error while parsing formula '' : backing to amount\n",
      "Error while parsing formula '' : backing to amount\n",
      "Error while parsing formula '' : backing to amount\n",
      "Error while parsing formula '' : backing to amount\n",
      "Error while parsing formula '' : backing to amount\n",
      "Error while parsing formula '' : backing to amount\n",
      "Error while parsing formula '' : backing to amount\n",
      "Error while parsing formula '' : backing to amount\n",
      "Error while parsing formula '' : backing to amount\n",
      "Error while parsing formula '' : backing to amount\n",
      "Error while parsing formula '' : backing to amount\n",
      "Error while parsing formula '' : backing to amount\n",
      "Error while parsing formula '' : backing to amount\n",
      "Error while parsing formula '' : backing to amount\n",
      "Error while parsing formula '' : backing to amount\n",
      "Error while parsing formula '' : backing to amount\n",
      "Error while parsing formula '' : backing to amount\n",
      "Error while parsing formula '' : backing to amount\n",
      "Error while parsing formula '' : backing to amount\n",
      "Error while parsing formula '' : backing to amount\n",
      "Error while parsing formula '' : backing to amount\n",
      "Error while parsing formula '' : backing to amount\n",
      "Error while parsing formula '' : backing to amount\n",
      "Error while parsing formula '' : backing to amount\n",
      "Error while parsing formula '' : backing to amount\n",
      "Error while parsing formula '' : backing to amount\n",
      "Error while parsing formula '' : backing to amount\n",
      "Error while parsing formula '' : backing to amount\n",
      "Error while parsing formula '' : backing to amount\n",
      "Error while parsing formula '' : backing to amount\n",
      "Error while parsing formula '' : backing to amount\n",
      "Error while parsing formula '' : backing to amount\n",
      "Error while parsing formula '' : backing to amount\n",
      "Error while parsing formula '' : backing to amount\n",
      "Error while parsing formula '' : backing to amount\n",
      "Error while parsing formula '' : backing to amount\n",
      "Error while parsing formula '' : backing to amount\n",
      "Error while parsing formula '' : backing to amount\n",
      "Error while parsing formula '' : backing to amount\n",
      "Error while parsing formula '' : backing to amount\n",
      "Error while parsing formula '' : backing to amount\n",
      "Error while parsing formula '' : backing to amount\n",
      "Error while parsing formula '' : backing to amount\n",
      "Error while parsing formula '' : backing to amount\n",
      "Error while parsing formula '' : backing to amount\n",
      "Error while parsing formula '' : backing to amount\n",
      "Error while parsing formula '' : backing to amount\n",
      "Error while parsing formula '' : backing to amount\n",
      "Error while parsing formula '' : backing to amount\n",
      "Error while parsing formula '' : backing to amount\n",
      "Error while parsing formula '' : backing to amount\n",
      "Error while parsing formula '' : backing to amount\n"
     ]
    }
   ],
   "source": [
    "Alla2_C = runAlgebraicGraphTraversal([fu1], IPCC, label=\"label_name2\", default_tag=\"Annat\",\n",
    "    fg_databases=[fg], bio2tech=True, parent4other=True) \n",
    "Alla2_A = runAlgebraicGraphTraversal([fu1], acid, label=\"label_name2\", default_tag=\"Annat\",\n",
    "    fg_databases=[fg], bio2tech=True, parent4other=True)\n",
    "Alla2_EF = runAlgebraicGraphTraversal([fu1], eutrofresh, label=\"label_name2\", default_tag=\"Annat\",\n",
    "    fg_databases=[fg], bio2tech=True, parent4other=True)\n",
    "Alla2_EM = runAlgebraicGraphTraversal([fu1], eutromarine, label=\"label_name2\", default_tag=\"Annat\",\n",
    "    fg_databases=[fg], bio2tech=True, parent4other=True)\n",
    "Alla2_M = runAlgebraicGraphTraversal([fu1], material, label=\"label_name2\", default_tag=\"Annat\",\n",
    "    fg_databases=[fg], bio2tech=True, parent4other=True)\n",
    "Alla2_W = runAlgebraicGraphTraversal([fu1], water, label=\"label_name2\", default_tag=\"Annat\",\n",
    "    fg_databases=[fg], bio2tech=True, parent4other=True)"
   ]
  },
  {
   "cell_type": "code",
   "execution_count": 26,
   "id": "765d6432",
   "metadata": {},
   "outputs": [],
   "source": [
    "Alla2_C_Transport_Y = _compute_stochastics([createLambda(Alla2_C[list(fu1.keys())[0]]['agg_graph']['Transport'][0])], \n",
    "                                          IPCC, params)\n",
    "Alla2_A_Transport_Y = _compute_stochastics([createLambda(Alla2_A[list(fu1.keys())[0]]['agg_graph']['Transport'][0])], \n",
    "                                          acid, params)\n",
    "Alla2_EF_Transport_Y = _compute_stochastics([createLambda(Alla2_EF[list(fu1.keys())[0]]['agg_graph']['Transport'][0])], \n",
    "                                          eutrofresh, params)\n",
    "Alla2_EM_Transport_Y = _compute_stochastics([createLambda(Alla2_EM[list(fu1.keys())[0]]['agg_graph']['Transport'][0])], \n",
    "                                          eutromarine, params)\n",
    "Alla2_M_Transport_Y = _compute_stochastics([createLambda(Alla2_M[list(fu1.keys())[0]]['agg_graph']['Transport'][0])], \n",
    "                                          material, params)\n",
    "Alla2_W_Transport_Y = _compute_stochastics([createLambda(Alla2_W[list(fu1.keys())[0]]['agg_graph']['Transport'][0])], \n",
    "                                          water, params)"
   ]
  },
  {
   "cell_type": "code",
   "execution_count": 27,
   "id": "5a22fe99",
   "metadata": {},
   "outputs": [],
   "source": [
    "Alla2_C_MLC_Y = _compute_stochastics([createLambda(Alla2_C[list(fu1.keys())[0]]['agg_graph']['MLC'][0])], \n",
    "                                          IPCC, params)\n",
    "Alla2_A_MLC_Y = _compute_stochastics([createLambda(Alla2_A[list(fu1.keys())[0]]['agg_graph']['MLC'][0])], \n",
    "                                          acid, params)\n",
    "Alla2_EF_MLC_Y = _compute_stochastics([createLambda(Alla2_EF[list(fu1.keys())[0]]['agg_graph']['MLC'][0])], \n",
    "                                          eutrofresh, params)\n",
    "Alla2_EM_MLC_Y = _compute_stochastics([createLambda(Alla2_EM[list(fu1.keys())[0]]['agg_graph']['MLC'][0])], \n",
    "                                          eutromarine, params)\n",
    "Alla2_M_MLC_Y = _compute_stochastics([createLambda(Alla2_M[list(fu1.keys())[0]]['agg_graph']['MLC'][0])], \n",
    "                                          material, params)\n",
    "Alla2_W_MLC_Y = _compute_stochastics([createLambda(Alla2_W[list(fu1.keys())[0]]['agg_graph']['MLC'][0])], \n",
    "                                          water, params)"
   ]
  },
  {
   "cell_type": "code",
   "execution_count": 28,
   "id": "3d8bc77f",
   "metadata": {
    "scrolled": true
   },
   "outputs": [],
   "source": [
    "Alla2_C_Schakt_Y = _compute_stochastics([createLambda(Alla2_C[list(fu1.keys())[0]]['agg_graph']['Schakt'][0])], \n",
    "                                          IPCC, params)\n",
    "Alla2_A_Schakt_Y = _compute_stochastics([createLambda(Alla2_A[list(fu1.keys())[0]]['agg_graph']['Schakt'][0])], \n",
    "                                          acid, params)\n",
    "Alla2_EF_Schakt_Y = _compute_stochastics([createLambda(Alla2_EF[list(fu1.keys())[0]]['agg_graph']['Schakt'][0])], \n",
    "                                          eutrofresh, params)\n",
    "Alla2_EM_Schakt_Y = _compute_stochastics([createLambda(Alla2_EM[list(fu1.keys())[0]]['agg_graph']['Schakt'][0])], \n",
    "                                          eutromarine, params)\n",
    "Alla2_M_Schakt_Y = _compute_stochastics([createLambda(Alla2_M[list(fu1.keys())[0]]['agg_graph']['Schakt'][0])], \n",
    "                                          material, params)\n",
    "Alla2_W_Schakt_Y = _compute_stochastics([createLambda(Alla2_W[list(fu1.keys())[0]]['agg_graph']['Schakt'][0])], \n",
    "                                          water, params)"
   ]
  },
  {
   "cell_type": "code",
   "execution_count": 29,
   "id": "d77a4054",
   "metadata": {},
   "outputs": [],
   "source": [
    "Alla2_C_Deponi_Y = _compute_stochastics([createLambda(Alla2_C[list(fu1.keys())[0]]['agg_graph']['Deponi'][0])], \n",
    "                                          IPCC, params)\n",
    "Alla2_A_Deponi_Y = _compute_stochastics([createLambda(Alla2_A[list(fu1.keys())[0]]['agg_graph']['Deponi'][0])], \n",
    "                                          acid, params)\n",
    "Alla2_EF_Deponi_Y = _compute_stochastics([createLambda(Alla2_EF[list(fu1.keys())[0]]['agg_graph']['Deponi'][0])], \n",
    "                                          eutrofresh, params)\n",
    "Alla2_EM_Deponi_Y = _compute_stochastics([createLambda(Alla2_EM[list(fu1.keys())[0]]['agg_graph']['Deponi'][0])], \n",
    "                                          eutromarine, params)\n",
    "Alla2_M_Deponi_Y = _compute_stochastics([createLambda(Alla2_M[list(fu1.keys())[0]]['agg_graph']['Deponi'][0])], \n",
    "                                          material, params)\n",
    "Alla2_W_Deponi_Y = _compute_stochastics([createLambda(Alla2_W[list(fu1.keys())[0]]['agg_graph']['Deponi'][0])], \n",
    "                                          water, params)"
   ]
  },
  {
   "cell_type": "code",
   "execution_count": 30,
   "id": "f8ec5341",
   "metadata": {},
   "outputs": [],
   "source": [
    "Alla2_C_Bränsle_Y = _compute_stochastics([createLambda(Alla2_C[list(fu1.keys())[0]]['agg_graph']['Bränsle'][0])], \n",
    "                                          IPCC, params)\n",
    "Alla2_A_Bränsle_Y = _compute_stochastics([createLambda(Alla2_A[list(fu1.keys())[0]]['agg_graph']['Bränsle'][0])], \n",
    "                                          acid, params)\n",
    "Alla2_EF_Bränsle_Y = _compute_stochastics([createLambda(Alla2_EF[list(fu1.keys())[0]]['agg_graph']['Bränsle'][0])], \n",
    "                                          eutrofresh, params)\n",
    "Alla2_EM_Bränsle_Y = _compute_stochastics([createLambda(Alla2_EM[list(fu1.keys())[0]]['agg_graph']['Bränsle'][0])], \n",
    "                                          eutromarine, params)\n",
    "Alla2_M_Bränsle_Y = _compute_stochastics([createLambda(Alla2_M[list(fu1.keys())[0]]['agg_graph']['Bränsle'][0])], \n",
    "                                          material, params)\n",
    "Alla2_W_Bränsle_Y = _compute_stochastics([createLambda(Alla2_W[list(fu1.keys())[0]]['agg_graph']['Bränsle'][0])], \n",
    "                                          water, params)"
   ]
  },
  {
   "cell_type": "code",
   "execution_count": 31,
   "id": "662d19b7",
   "metadata": {},
   "outputs": [],
   "source": [
    "Alla2_C_Bergskross_Y = _compute_stochastics([createLambda(Alla2_C[list(fu1.keys())[0]]['agg_graph']['Bergskross'][0])], \n",
    "                                          IPCC, params)\n",
    "Alla2_A_Bergskross_Y = _compute_stochastics([createLambda(Alla2_A[list(fu1.keys())[0]]['agg_graph']['Bergskross'][0])], \n",
    "                                          acid, params)\n",
    "Alla2_EF_Bergskross_Y = _compute_stochastics([createLambda(Alla2_EF[list(fu1.keys())[0]]['agg_graph']['Bergskross'][0])], \n",
    "                                          eutrofresh, params)\n",
    "Alla2_EM_Bergskross_Y = _compute_stochastics([createLambda(Alla2_EM[list(fu1.keys())[0]]['agg_graph']['Bergskross'][0])], \n",
    "                                          eutromarine, params)\n",
    "Alla2_M_Bergskross_Y = _compute_stochastics([createLambda(Alla2_M[list(fu1.keys())[0]]['agg_graph']['Bergskross'][0])], \n",
    "                                          material, params)\n",
    "Alla2_W_Bergskross_Y = _compute_stochastics([createLambda(Alla2_W[list(fu1.keys())[0]]['agg_graph']['Bergskross'][0])], \n",
    "                                          water, params)"
   ]
  },
  {
   "cell_type": "code",
   "execution_count": 32,
   "id": "d12f565e",
   "metadata": {},
   "outputs": [],
   "source": [
    "Alla2_C_KC_Y = _compute_stochastics([createLambda(Alla2_C[list(fu1.keys())[0]]['agg_graph']['KC'][0])], \n",
    "                                          IPCC, params)\n",
    "Alla2_A_KC_Y = _compute_stochastics([createLambda(Alla2_A[list(fu1.keys())[0]]['agg_graph']['KC'][0])], \n",
    "                                          acid, params)\n",
    "Alla2_EF_KC_Y = _compute_stochastics([createLambda(Alla2_EF[list(fu1.keys())[0]]['agg_graph']['KC'][0])], \n",
    "                                          eutrofresh, params)\n",
    "Alla2_EM_KC_Y = _compute_stochastics([createLambda(Alla2_EM[list(fu1.keys())[0]]['agg_graph']['KC'][0])], \n",
    "                                          eutromarine, params)\n",
    "Alla2_M_KC_Y = _compute_stochastics([createLambda(Alla2_M[list(fu1.keys())[0]]['agg_graph']['KC'][0])], \n",
    "                                          material, params)\n",
    "Alla2_W_KC_Y = _compute_stochastics([createLambda(Alla2_W[list(fu1.keys())[0]]['agg_graph']['KC'][0])], \n",
    "                                          water, params)"
   ]
  },
  {
   "cell_type": "code",
   "execution_count": 33,
   "id": "5992a9a5",
   "metadata": {},
   "outputs": [],
   "source": [
    "Alla2_C_SP_Y = _compute_stochastics([createLambda(Alla2_C[list(fu1.keys())[0]]['agg_graph']['SP'][0])], \n",
    "                                          IPCC, params)\n",
    "Alla2_A_SP_Y = _compute_stochastics([createLambda(Alla2_A[list(fu1.keys())[0]]['agg_graph']['SP'][0])], \n",
    "                                          acid, params)\n",
    "Alla2_EF_SP_Y = _compute_stochastics([createLambda(Alla2_EF[list(fu1.keys())[0]]['agg_graph']['SP'][0])], \n",
    "                                          eutrofresh, params)\n",
    "Alla2_EM_SP_Y = _compute_stochastics([createLambda(Alla2_EM[list(fu1.keys())[0]]['agg_graph']['SP'][0])], \n",
    "                                          eutromarine, params)\n",
    "Alla2_M_SP_Y = _compute_stochastics([createLambda(Alla2_M[list(fu1.keys())[0]]['agg_graph']['SP'][0])], \n",
    "                                          material, params)\n",
    "Alla2_W_SP_Y = _compute_stochastics([createLambda(Alla2_W[list(fu1.keys())[0]]['agg_graph']['SP'][0])], \n",
    "                                          water, params)"
   ]
  },
  {
   "cell_type": "code",
   "execution_count": 34,
   "id": "0c73415c",
   "metadata": {},
   "outputs": [],
   "source": [
    "Alla2_C_AK_Y = _compute_stochastics([createLambda(Alla2_C[list(fu1.keys())[0]]['agg_graph']['AK'][0])], \n",
    "                                          IPCC, params)\n",
    "Alla2_A_AK_Y = _compute_stochastics([createLambda(Alla2_A[list(fu1.keys())[0]]['agg_graph']['AK'][0])], \n",
    "                                          acid, params)\n",
    "Alla2_EF_AK_Y = _compute_stochastics([createLambda(Alla2_EF[list(fu1.keys())[0]]['agg_graph']['AK'][0])], \n",
    "                                          eutrofresh, params)\n",
    "Alla2_EM_AK_Y = _compute_stochastics([createLambda(Alla2_EM[list(fu1.keys())[0]]['agg_graph']['AK'][0])], \n",
    "                                          eutromarine, params)\n",
    "Alla2_M_AK_Y = _compute_stochastics([createLambda(Alla2_M[list(fu1.keys())[0]]['agg_graph']['AK'][0])], \n",
    "                                          material, params)\n",
    "Alla2_W_AK_Y = _compute_stochastics([createLambda(Alla2_W[list(fu1.keys())[0]]['agg_graph']['AK'][0])], \n",
    "                                          water, params)"
   ]
  },
  {
   "cell_type": "code",
   "execution_count": 35,
   "id": "b9cad554",
   "metadata": {},
   "outputs": [],
   "source": [
    "Alla2_C_ORC_Y = _compute_stochastics([createLambda(Alla2_C[list(fu1.keys())[0]]['agg_graph']['ORC'][0])], \n",
    "                                          IPCC, params)\n",
    "Alla2_A_ORC_Y = _compute_stochastics([createLambda(Alla2_A[list(fu1.keys())[0]]['agg_graph']['ORC'][0])], \n",
    "                                          acid, params)\n",
    "Alla2_EF_ORC_Y = _compute_stochastics([createLambda(Alla2_EF[list(fu1.keys())[0]]['agg_graph']['ORC'][0])], \n",
    "                                          eutrofresh, params)\n",
    "Alla2_EM_ORC_Y = _compute_stochastics([createLambda(Alla2_EM[list(fu1.keys())[0]]['agg_graph']['ORC'][0])], \n",
    "                                          eutromarine, params)\n",
    "Alla2_M_ORC_Y = _compute_stochastics([createLambda(Alla2_M[list(fu1.keys())[0]]['agg_graph']['ORC'][0])], \n",
    "                                          material, params)\n",
    "Alla2_W_ORC_Y = _compute_stochastics([createLambda(Alla2_W[list(fu1.keys())[0]]['agg_graph']['ORC'][0])], \n",
    "                                          water, params)"
   ]
  },
  {
   "cell_type": "code",
   "execution_count": 36,
   "id": "79aab92f",
   "metadata": {},
   "outputs": [],
   "source": [
    "c_string = 'climate change: total (excl. biogenic CO2) - global warming potential (GWP100)'\n",
    "a_string = 'acidification: terrestrial no LT - terrestrial acidification potential (TAP) no LT'\n",
    "ef_string = 'eutrophication: freshwater no LT - freshwater eutrophication potential (FEP) no LT'\n",
    "em_string = 'eutrophication: marine no LT - marine eutrophication potential (MEP) no LT'\n",
    "m_string = 'material resources: metals/minerals no LT - surplus ore potential (SOP) no LT'\n",
    "w_string = 'water use no LT - water consumption potential (WCP) no LT'"
   ]
  },
  {
   "cell_type": "code",
   "execution_count": 37,
   "id": "849f5ede",
   "metadata": {},
   "outputs": [],
   "source": [
    "climate_label = 'kg CO'+'$_{2}$' +'-eq / m' +'$^{2}$' +' behandlad yta'\n",
    "acid_label = 'kg SO'+'$_{2}$' +'-eq / m' +'$^{2}$' +' behandlad yta'\n",
    "ef_label = 'kg P'+'-eq / m' +'$^{2}$' +' behandlad yta'\n",
    "em_label = 'kg N'+'-eq / m' +'$^{2}$' +' behandlad yta'\n",
    "m_label = 'kg Cu'+'-eq / m' +'$^{2}$' +' behandlad yta'\n",
    "w_label = 'm' +'$^{3}$ / m' +'$^{2}$' +' behandlad yta'"
   ]
  },
  {
   "cell_type": "code",
   "execution_count": 84,
   "id": "8ecb7189",
   "metadata": {},
   "outputs": [],
   "source": [
    "Alla2_C_MLC_min, Alla2_C_MLC_max, Alla2_C_MLC_med, Alla2_C_MLC_e = calcMinMaxMedianError(Alla2_C_MLC_Y, c_string)\n",
    "Alla2_C_Transport_min, Alla2_C_Transport_max, Alla2_C_Transport_med, Alla2_C_Transport_e = calcMinMaxMedianError(Alla2_C_Transport_Y, c_string)\n",
    "Alla2_C_Schakt_min, Alla2_C_Schakt_max, Alla2_C_Schakt_med, Alla2_C_Schakt_e = calcMinMaxMedianError(Alla2_C_Schakt_Y, c_string)\n",
    "Alla2_C_Deponi_min, Alla2_C_Deponi_max, Alla2_C_Deponi_med, Alla2_C_Deponi_e = calcMinMaxMedianError(Alla2_C_Deponi_Y, c_string)\n",
    "Alla2_C_Bergskross_min, Alla2_C_Bergskross_max, Alla2_C_Bergskross_med, Alla2_C_Bergskross_e = calcMinMaxMedianError(Alla2_C_Bergskross_Y, c_string)\n",
    "Alla2_C_KC_min, Alla2_C_KC_max, Alla2_C_KC_med, Alla2_C_KC_e = calcMinMaxMedianError(Alla2_C_KC_Y, c_string)\n",
    "Alla2_C_SP_min, Alla2_C_SP_max, Alla2_C_SP_med, Alla2_C_SP_e = calcMinMaxMedianError(Alla2_C_SP_Y, c_string)\n",
    "Alla2_C_AK_min, Alla2_C_AK_max, Alla2_C_AK_med, Alla2_C_AK_e = calcMinMaxMedianError(Alla2_C_AK_Y, c_string)\n",
    "Alla2_C_ORC_min, Alla2_C_ORC_max, Alla2_C_ORC_med, Alla2_C_ORC_e = calcMinMaxMedianError(Alla2_C_ORC_Y, c_string)\n",
    "Alla2_C_Bränsle_min, Alla2_C_Bränsle_max, Alla2_C_Bränsle_med, Alla2_C_Bränsle_e = calcMinMaxMedianError(Alla2_C_Bränsle_Y, c_string)\n"
   ]
  },
  {
   "cell_type": "code",
   "execution_count": 85,
   "id": "63e53867",
   "metadata": {},
   "outputs": [
    {
     "data": {
      "text/plain": [
       "Text(0, 0.5, 'kg CO$_{2}$-eq / m$^{2}$ behandlad yta')"
      ]
     },
     "execution_count": 85,
     "metadata": {},
     "output_type": "execute_result"
    },
    {
     "data": {
      "image/png": "[encoded data removed]",
      "text/plain": [
       "<Figure size 800x550 with 1 Axes>"
      ]
     },
     "metadata": {},
     "output_type": "display_data"
    }
   ],
   "source": [
    "# color: https://matplotlib.org/stable/gallery/color/named_colors.html \n",
    "xlabels = ('AK', 'Bergskross', 'Bränsle', 'Deponi', 'KC', 'MLC', 'NP', 'ORC', 'Schakt', 'Transport')\n",
    "\n",
    "fig, ax = plt.subplots()\n",
    "\n",
    "ax.errorbar(y=Alla2_C_MLC_med, x=6, yerr = Alla2_C_MLC_e, capsize=10, elinewidth=3, markeredgewidth=3, color='black')\n",
    "ax.errorbar(y=Alla2_C_Transport_med, x=10, yerr = Alla2_C_Transport_e, capsize=10, elinewidth=3, markeredgewidth=3, color='cornflowerblue')\n",
    "ax.errorbar(y=Alla2_C_Schakt_med, x=9, yerr = Alla2_C_Schakt_e, capsize=10, elinewidth=3, markeredgewidth=3, color='darkgreen')\n",
    "ax.errorbar(y=Alla2_C_Deponi_med, x=4, yerr = Alla2_C_Deponi_e, capsize=10, elinewidth=3, markeredgewidth=3, color='peru')\n",
    "ax.errorbar(y=Alla2_C_Bergskross_med, x=2, yerr = Alla2_C_Bergskross_e, capsize=10, elinewidth=3, markeredgewidth=3, color='teal')\n",
    "ax.errorbar(y=Alla2_C_KC_med, x=5, yerr = Alla2_C_KC_e, capsize=10, elinewidth=3, markeredgewidth=3, color='gray')\n",
    "ax.errorbar(y=Alla2_C_SP_med, x=7, yerr = Alla2_C_SP_e, capsize=10, elinewidth=3, markeredgewidth=3, color='orchid')\n",
    "ax.errorbar(y=Alla2_C_AK_med, x=1, yerr = Alla2_C_AK_e, capsize=10, elinewidth=3, markeredgewidth=3, color='limegreen')\n",
    "ax.errorbar(y=Alla2_C_ORC_med, x=8, yerr = Alla2_C_ORC_e, capsize=10, elinewidth=3, markeredgewidth=3, color='darkblue')\n",
    "ax.errorbar(y=Alla2_C_Bränsle_med, x=3, yerr = Alla2_C_Bränsle_e, capsize=10, elinewidth=3, markeredgewidth=3, color='red')\n",
    "\n",
    "ax.set_facecolor('white')\n",
    "ax.grid(color='silver')\n",
    "\n",
    "ax.hlines(y=0, xmin=0.5, xmax=6.5, linewidth=1, color='black')\n",
    "\n",
    "ax.set_title('Klimatpåverkan Norra Djurgårdsstaden')\n",
    "ax.set_xticks((1,2,3,4,5,6,7,8,9,10))\n",
    "ax.set_xticklabels(xlabels, fontsize=8)\n",
    "ax.set_ylabel(climate_label)"
   ]
  },
  {
   "cell_type": "code",
   "execution_count": 86,
   "id": "c5f75dad",
   "metadata": {},
   "outputs": [],
   "source": [
    "fig.savefig('Climate-May', dpi=600, bbox_inches='tight')"
   ]
  },
  {
   "cell_type": "code",
   "execution_count": null,
   "id": "de7d7136",
   "metadata": {},
   "outputs": [],
   "source": []
  },
  {
   "cell_type": "code",
   "execution_count": 87,
   "id": "0487f698",
   "metadata": {},
   "outputs": [],
   "source": [
    "Alla2_A_MLC_min, Alla2_A_MLC_max, Alla2_A_MLC_med, Alla2_A_MLC_e = calcMinMaxMedianError(Alla2_A_MLC_Y, a_string)\n",
    "Alla2_A_Transport_min, Alla2_A_Transport_max, Alla2_A_Transport_med, Alla2_A_Transport_e = calcMinMaxMedianError(Alla2_A_Transport_Y, a_string)\n",
    "Alla2_A_Schakt_min, Alla2_A_Schakt_max, Alla2_A_Schakt_med, Alla2_A_Schakt_e = calcMinMaxMedianError(Alla2_A_Schakt_Y, a_string)\n",
    "Alla2_A_Deponi_min, Alla2_A_Deponi_max, Alla2_A_Deponi_med, Alla2_A_Deponi_e = calcMinMaxMedianError(Alla2_A_Deponi_Y, a_string)\n",
    "Alla2_A_Bergskross_min, Alla2_A_Bergskross_max, Alla2_A_Bergskross_med, Alla2_A_Bergskross_e = calcMinMaxMedianError(Alla2_A_Bergskross_Y, a_string)\n",
    "Alla2_A_KC_min, Alla2_A_KC_max, Alla2_A_KC_med, Alla2_A_KC_e = calcMinMaxMedianError(Alla2_A_KC_Y, a_string)\n",
    "Alla2_A_SP_min, Alla2_A_SP_max, Alla2_A_SP_med, Alla2_A_SP_e = calcMinMaxMedianError(Alla2_A_SP_Y, a_string)\n",
    "Alla2_A_AK_min, Alla2_A_AK_max, Alla2_A_AK_med, Alla2_A_AK_e = calcMinMaxMedianError(Alla2_A_AK_Y, a_string)\n",
    "Alla2_A_ORC_min, Alla2_A_ORC_max, Alla2_A_ORC_med, Alla2_A_ORC_e = calcMinMaxMedianError(Alla2_A_ORC_Y, a_string)\n",
    "Alla2_A_Bränsle_min, Alla2_A_Bränsle_max, Alla2_A_Bränsle_med, Alla2_A_Bränsle_e = calcMinMaxMedianError(Alla2_A_Bränsle_Y, a_string)\n"
   ]
  },
  {
   "cell_type": "code",
   "execution_count": 88,
   "id": "2386287f",
   "metadata": {},
   "outputs": [
    {
     "data": {
      "text/plain": [
       "Text(0, 0.5, 'kg SO$_{2}$-eq / m$^{2}$ behandlad yta')"
      ]
     },
     "execution_count": 88,
     "metadata": {},
     "output_type": "execute_result"
    },
    {
     "data": {
      "image/png": "[encoded data removed]",
      "text/plain": [
       "<Figure size 800x550 with 1 Axes>"
      ]
     },
     "metadata": {},
     "output_type": "display_data"
    }
   ],
   "source": [
    "# color: https://matplotlib.org/stable/gallery/color/named_colors.html \n",
    "xlabels = ('AK', 'Bergskross', 'Bränsle', 'Deponi', 'KC', 'MLC', 'NP', 'ORC', 'Schakt', 'Transport')\n",
    "\n",
    "fig, ax = plt.subplots()\n",
    "\n",
    "ax.errorbar(y=Alla2_A_MLC_med, x=6, yerr = Alla2_A_MLC_e, capsize=10, elinewidth=3, markeredgewidth=3, color='black')\n",
    "ax.errorbar(y=Alla2_A_Transport_med, x=10, yerr = Alla2_A_Transport_e, capsize=10, elinewidth=3, markeredgewidth=3, color='cornflowerblue')\n",
    "ax.errorbar(y=Alla2_A_Schakt_med, x=9, yerr = Alla2_A_Schakt_e, capsize=10, elinewidth=3, markeredgewidth=3, color='darkgreen')\n",
    "ax.errorbar(y=Alla2_A_Deponi_med, x=4, yerr = Alla2_A_Deponi_e, capsize=10, elinewidth=3, markeredgewidth=3, color='peru')\n",
    "ax.errorbar(y=Alla2_A_Bergskross_med, x=2, yerr = Alla2_A_Bergskross_e, capsize=10, elinewidth=3, markeredgewidth=3, color='teal')\n",
    "ax.errorbar(y=Alla2_A_KC_med, x=5, yerr = Alla2_A_KC_e, capsize=10, elinewidth=3, markeredgewidth=3, color='gray')\n",
    "ax.errorbar(y=Alla2_A_SP_med, x=7, yerr = Alla2_A_SP_e, capsize=10, elinewidth=3, markeredgewidth=3, color='orchid')\n",
    "ax.errorbar(y=Alla2_A_AK_med, x=1, yerr = Alla2_A_AK_e, capsize=10, elinewidth=3, markeredgewidth=3, color='limegreen')\n",
    "ax.errorbar(y=Alla2_A_ORC_med, x=8, yerr = Alla2_A_ORC_e, capsize=10, elinewidth=3, markeredgewidth=3, color='darkblue')\n",
    "ax.errorbar(y=Alla2_A_Bränsle_med, x=3, yerr = Alla2_A_Bränsle_e, capsize=10, elinewidth=3, markeredgewidth=3, color='red')\n",
    "\n",
    "ax.set_facecolor('white')\n",
    "ax.grid(color='silver')\n",
    "\n",
    "ax.hlines(y=0, xmin=0.5, xmax=6.5, linewidth=1, color='black')\n",
    "\n",
    "ax.set_title('Försurning Norra Djurgårdsstaden')\n",
    "ax.set_xticks((1,2,3,4,5,6,7,8,9,10))\n",
    "ax.set_xticklabels(xlabels, fontsize=8)\n",
    "ax.set_ylabel(acid_label)"
   ]
  },
  {
   "cell_type": "code",
   "execution_count": 89,
   "id": "8e4cbfbf",
   "metadata": {},
   "outputs": [],
   "source": [
    "fig.savefig('Acidification-May', dpi=600, bbox_inches='tight')"
   ]
  },
  {
   "cell_type": "code",
   "execution_count": null,
   "id": "cb517a0b",
   "metadata": {},
   "outputs": [],
   "source": []
  },
  {
   "cell_type": "code",
   "execution_count": 90,
   "id": "bc5a944e",
   "metadata": {},
   "outputs": [],
   "source": [
    "Alla2_EF_MLC_min, Alla2_EF_MLC_max, Alla2_EF_MLC_med, Alla2_EF_MLC_e = calcMinMaxMedianError(Alla2_EF_MLC_Y, ef_string)\n",
    "Alla2_EF_Transport_min, Alla2_EF_Transport_max, Alla2_EF_Transport_med, Alla2_EF_Transport_e = calcMinMaxMedianError(Alla2_EF_Transport_Y, ef_string)\n",
    "Alla2_EF_Schakt_min, Alla2_EF_Schakt_max, Alla2_EF_Schakt_med, Alla2_EF_Schakt_e = calcMinMaxMedianError(Alla2_EF_Schakt_Y, ef_string)\n",
    "Alla2_EF_Deponi_min, Alla2_EF_Deponi_max, Alla2_EF_Deponi_med, Alla2_EF_Deponi_e = calcMinMaxMedianError(Alla2_EF_Deponi_Y, ef_string)\n",
    "Alla2_EF_Bergskross_min, Alla2_EF_Bergskross_max, Alla2_EF_Bergskross_med, Alla2_EF_Bergskross_e = calcMinMaxMedianError(Alla2_EF_Bergskross_Y, ef_string)\n",
    "Alla2_EF_KC_min, Alla2_EF_KC_max, Alla2_EF_KC_med, Alla2_EF_KC_e = calcMinMaxMedianError(Alla2_EF_KC_Y, ef_string)\n",
    "Alla2_EF_SP_min, Alla2_EF_SP_max, Alla2_EF_SP_med, Alla2_EF_SP_e = calcMinMaxMedianError(Alla2_EF_SP_Y, ef_string)\n",
    "Alla2_EF_AK_min, Alla2_EF_AK_max, Alla2_EF_AK_med, Alla2_EF_AK_e = calcMinMaxMedianError(Alla2_EF_AK_Y, ef_string)\n",
    "Alla2_EF_ORC_min, Alla2_EF_ORC_max, Alla2_EF_ORC_med, Alla2_EF_ORC_e = calcMinMaxMedianError(Alla2_EF_ORC_Y, ef_string)\n",
    "Alla2_EF_Bränsle_min, Alla2_EF_Bränsle_max, Alla2_EF_Bränsle_med, Alla2_EF_Bränsle_e = calcMinMaxMedianError(Alla2_EF_Bränsle_Y, ef_string)\n"
   ]
  },
  {
   "cell_type": "code",
   "execution_count": 91,
   "id": "1a26fef7",
   "metadata": {},
   "outputs": [
    {
     "data": {
      "text/plain": [
       "Text(0, 0.5, 'kg P-eq / m$^{2}$ behandlad yta')"
      ]
     },
     "execution_count": 91,
     "metadata": {},
     "output_type": "execute_result"
    },
    {
     "data": {
      "image/png": "[encoded data removed]",
      "text/plain": [
       "<Figure size 800x550 with 1 Axes>"
      ]
     },
     "metadata": {},
     "output_type": "display_data"
    }
   ],
   "source": [
    "# color: https://matplotlib.org/stable/gallery/color/named_colors.html \n",
    "xlabels = ('AK', 'Bergskross', 'Bränsle', 'Deponi', 'KC', 'MLC', 'NP', 'ORC', 'Schakt', 'Transport')\n",
    "\n",
    "fig, ax = plt.subplots()\n",
    "\n",
    "ax.errorbar(y=Alla2_EF_MLC_med, x=6, yerr = Alla2_EF_MLC_e, capsize=10, elinewidth=3, markeredgewidth=3, color='black')\n",
    "ax.errorbar(y=Alla2_EF_Transport_med, x=10, yerr = Alla2_EF_Transport_e, capsize=10, elinewidth=3, markeredgewidth=3, color='cornflowerblue')\n",
    "ax.errorbar(y=Alla2_EF_Schakt_med, x=9, yerr = Alla2_EF_Schakt_e, capsize=10, elinewidth=3, markeredgewidth=3, color='darkgreen')\n",
    "ax.errorbar(y=Alla2_EF_Deponi_med, x=4, yerr = Alla2_EF_Deponi_e, capsize=10, elinewidth=3, markeredgewidth=3, color='peru')\n",
    "ax.errorbar(y=Alla2_EF_Bergskross_med, x=2, yerr = Alla2_EF_Bergskross_e, capsize=10, elinewidth=3, markeredgewidth=3, color='teal')\n",
    "ax.errorbar(y=Alla2_EF_KC_med, x=5, yerr = Alla2_EF_KC_e, capsize=10, elinewidth=3, markeredgewidth=3, color='gray')\n",
    "ax.errorbar(y=Alla2_EF_SP_med, x=7, yerr = Alla2_EF_SP_e, capsize=10, elinewidth=3, markeredgewidth=3, color='orchid')\n",
    "ax.errorbar(y=Alla2_EF_AK_med, x=1, yerr = Alla2_EF_AK_e, capsize=10, elinewidth=3, markeredgewidth=3, color='limegreen')\n",
    "ax.errorbar(y=Alla2_EF_ORC_med, x=8, yerr = Alla2_EF_ORC_e, capsize=10, elinewidth=3, markeredgewidth=3, color='darkblue')\n",
    "ax.errorbar(y=Alla2_EF_Bränsle_med, x=3, yerr = Alla2_EF_Bränsle_e, capsize=10, elinewidth=3, markeredgewidth=3, color='red')\n",
    "\n",
    "ax.set_facecolor('white')\n",
    "ax.grid(color='silver')\n",
    "\n",
    "ax.hlines(y=0, xmin=0.5, xmax=6.5, linewidth=1, color='black')\n",
    "\n",
    "ax.set_title('Övergödning - Sötvatten Norra Djurgårdsstaden')\n",
    "ax.set_xticks((1,2,3,4,5,6,7,8,9,10))\n",
    "ax.set_xticklabels(xlabels, fontsize=8)\n",
    "ax.set_ylabel(ef_label)"
   ]
  },
  {
   "cell_type": "code",
   "execution_count": 92,
   "id": "aeeca8d3",
   "metadata": {},
   "outputs": [],
   "source": [
    "fig.savefig('Eutrofresh-May', dpi=600, bbox_inches='tight')"
   ]
  },
  {
   "cell_type": "code",
   "execution_count": null,
   "id": "2845d6ba",
   "metadata": {},
   "outputs": [],
   "source": []
  },
  {
   "cell_type": "code",
   "execution_count": 93,
   "id": "8b62f9db",
   "metadata": {},
   "outputs": [],
   "source": [
    "Alla2_EM_MLC_min, Alla2_EM_MLC_max, Alla2_EM_MLC_med, Alla2_EM_MLC_e = calcMinMaxMedianError(Alla2_EM_MLC_Y, em_string)\n",
    "Alla2_EM_Transport_min, Alla2_EM_Transport_max, Alla2_EM_Transport_med, Alla2_EM_Transport_e = calcMinMaxMedianError(Alla2_EM_Transport_Y, em_string)\n",
    "Alla2_EM_Schakt_min, Alla2_EM_Schakt_max, Alla2_EM_Schakt_med, Alla2_EM_Schakt_e = calcMinMaxMedianError(Alla2_EM_Schakt_Y, em_string)\n",
    "Alla2_EM_Deponi_min, Alla2_EM_Deponi_max, Alla2_EM_Deponi_med, Alla2_EM_Deponi_e = calcMinMaxMedianError(Alla2_EM_Deponi_Y, em_string)\n",
    "Alla2_EM_Bergskross_min, Alla2_EM_Bergskross_max, Alla2_EM_Bergskross_med, Alla2_EM_Bergskross_e = calcMinMaxMedianError(Alla2_EM_Bergskross_Y, em_string)\n",
    "Alla2_EM_KC_min, Alla2_EM_KC_max, Alla2_EM_KC_med, Alla2_EM_KC_e = calcMinMaxMedianError(Alla2_EM_KC_Y, em_string)\n",
    "Alla2_EM_SP_min, Alla2_EM_SP_max, Alla2_EM_SP_med, Alla2_EM_SP_e = calcMinMaxMedianError(Alla2_EM_SP_Y, em_string)\n",
    "Alla2_EM_AK_min, Alla2_EM_AK_max, Alla2_EM_AK_med, Alla2_EM_AK_e = calcMinMaxMedianError(Alla2_EM_AK_Y, em_string)\n",
    "Alla2_EM_ORC_min, Alla2_EM_ORC_max, Alla2_EM_ORC_med, Alla2_EM_ORC_e = calcMinMaxMedianError(Alla2_EM_ORC_Y, em_string)\n",
    "Alla2_EM_Bränsle_min, Alla2_EM_Bränsle_max, Alla2_EM_Bränsle_med, Alla2_EM_Bränsle_e = calcMinMaxMedianError(Alla2_EM_Bränsle_Y, em_string)\n"
   ]
  },
  {
   "cell_type": "code",
   "execution_count": 95,
   "id": "a6b56822",
   "metadata": {
    "scrolled": true
   },
   "outputs": [
    {
     "data": {
      "text/plain": [
       "Text(0, 0.5, 'kg N-eq / m$^{2}$ behandlad yta')"
      ]
     },
     "execution_count": 95,
     "metadata": {},
     "output_type": "execute_result"
    },
    {
     "data": {
      "image/png": "[encoded data removed]",
      "text/plain": [
       "<Figure size 800x550 with 1 Axes>"
      ]
     },
     "metadata": {},
     "output_type": "display_data"
    }
   ],
   "source": [
    "# color: https://matplotlib.org/stable/gallery/color/named_colors.html \n",
    "xlabels = ('AK', 'Bergskross', 'Bränsle', 'Deponi', 'KC', 'MLC', 'NP', 'ORC', 'Schakt', 'Transport')\n",
    "\n",
    "fig, ax = plt.subplots()\n",
    "\n",
    "ax.errorbar(y=Alla2_EM_MLC_med, x=6, yerr = Alla2_EM_MLC_e, capsize=10, elinewidth=3, markeredgewidth=3, color='black')\n",
    "ax.errorbar(y=Alla2_EM_Transport_med, x=10, yerr = Alla2_EM_Transport_e, capsize=10, elinewidth=3, markeredgewidth=3, color='cornflowerblue')\n",
    "ax.errorbar(y=Alla2_EM_Schakt_med, x=9, yerr = Alla2_EM_Schakt_e, capsize=10, elinewidth=3, markeredgewidth=3, color='darkgreen')\n",
    "ax.errorbar(y=Alla2_EM_Deponi_med, x=4, yerr = Alla2_EM_Deponi_e, capsize=10, elinewidth=3, markeredgewidth=3, color='peru')\n",
    "ax.errorbar(y=Alla2_EM_Bergskross_med, x=2, yerr = Alla2_EM_Bergskross_e, capsize=10, elinewidth=3, markeredgewidth=3, color='teal')\n",
    "ax.errorbar(y=Alla2_EM_KC_med, x=5, yerr = Alla2_EM_KC_e, capsize=10, elinewidth=3, markeredgewidth=3, color='gray')\n",
    "ax.errorbar(y=Alla2_EM_SP_med, x=7, yerr = Alla2_EM_SP_e, capsize=10, elinewidth=3, markeredgewidth=3, color='orchid')\n",
    "ax.errorbar(y=Alla2_EM_AK_med, x=1, yerr = Alla2_EM_AK_e, capsize=10, elinewidth=3, markeredgewidth=3, color='limegreen')\n",
    "ax.errorbar(y=Alla2_EM_ORC_med, x=8, yerr = Alla2_EM_ORC_e, capsize=10, elinewidth=3, markeredgewidth=3, color='darkblue')\n",
    "ax.errorbar(y=Alla2_EM_Bränsle_med, x=3, yerr = Alla2_EM_Bränsle_e, capsize=10, elinewidth=3, markeredgewidth=3, color='red')\n",
    "\n",
    "ax.set_facecolor('white')\n",
    "ax.grid(color='silver')\n",
    "\n",
    "ax.hlines(y=0, xmin=0.5, xmax=6.5, linewidth=1, color='black')\n",
    "\n",
    "ax.set_title('Övergödning - Saltvatten Norra Djurgårdsstaden')\n",
    "ax.set_xticks((1,2,3,4,5,6,7,8,9,10))\n",
    "ax.set_xticklabels(xlabels, fontsize=8)\n",
    "ax.set_ylabel(em_label)"
   ]
  },
  {
   "cell_type": "code",
   "execution_count": 96,
   "id": "450ea918",
   "metadata": {},
   "outputs": [],
   "source": [
    "fig.savefig('Eutromarine-May', dpi=600, bbox_inches='tight')"
   ]
  },
  {
   "cell_type": "code",
   "execution_count": null,
   "id": "b6c0a745",
   "metadata": {},
   "outputs": [],
   "source": []
  },
  {
   "cell_type": "code",
   "execution_count": 38,
   "id": "00a14b1e",
   "metadata": {},
   "outputs": [],
   "source": [
    "Alla2_M_MLC_min, Alla2_M_MLC_max, Alla2_M_MLC_med, Alla2_M_MLC_e = calcMinMaxMedianError(Alla2_M_MLC_Y, m_string)\n",
    "Alla2_M_Transport_min, Alla2_M_Transport_max, Alla2_M_Transport_med, Alla2_M_Transport_e = calcMinMaxMedianError(Alla2_M_Transport_Y, m_string)\n",
    "Alla2_M_Schakt_min, Alla2_M_Schakt_max, Alla2_M_Schakt_med, Alla2_M_Schakt_e = calcMinMaxMedianError(Alla2_M_Schakt_Y, m_string)\n",
    "Alla2_M_Deponi_min, Alla2_M_Deponi_max, Alla2_M_Deponi_med, Alla2_M_Deponi_e = calcMinMaxMedianError(Alla2_M_Deponi_Y, m_string)\n",
    "Alla2_M_Bergskross_min, Alla2_M_Bergskross_max, Alla2_M_Bergskross_med, Alla2_M_Bergskross_e = calcMinMaxMedianError(Alla2_M_Bergskross_Y, m_string)\n",
    "Alla2_M_KC_min, Alla2_M_KC_max, Alla2_M_KC_med, Alla2_M_KC_e = calcMinMaxMedianError(Alla2_M_KC_Y, m_string)\n",
    "Alla2_M_SP_min, Alla2_M_SP_max, Alla2_M_SP_med, Alla2_M_SP_e = calcMinMaxMedianError(Alla2_M_SP_Y, m_string)\n",
    "Alla2_M_AK_min, Alla2_M_AK_max, Alla2_M_AK_med, Alla2_M_AK_e = calcMinMaxMedianError(Alla2_M_AK_Y, m_string)\n",
    "Alla2_M_ORC_min, Alla2_M_ORC_max, Alla2_M_ORC_med, Alla2_M_ORC_e = calcMinMaxMedianError(Alla2_M_ORC_Y, m_string)\n",
    "Alla2_M_Bränsle_min, Alla2_M_Bränsle_max, Alla2_M_Bränsle_med, Alla2_M_Bränsle_e = calcMinMaxMedianError(Alla2_M_Bränsle_Y, m_string)\n"
   ]
  },
  {
   "cell_type": "code",
   "execution_count": 39,
   "id": "1d98b0b3",
   "metadata": {},
   "outputs": [
    {
     "data": {
      "text/plain": [
       "Text(0, 0.5, 'kg Cu-eq / m$^{2}$ behandlad yta')"
      ]
     },
     "execution_count": 39,
     "metadata": {},
     "output_type": "execute_result"
    },
    {
     "data": {
      "image/png": "[encoded data removed]",
      "text/plain": [
       "<Figure size 800x550 with 1 Axes>"
      ]
     },
     "metadata": {},
     "output_type": "display_data"
    }
   ],
   "source": [
    "# color: https://matplotlib.org/stable/gallery/color/named_colors.html \n",
    "xlabels = ('AK', 'Bergskross', 'Bränsle', 'Deponi', 'KC', 'MLC', 'NP', 'ORC', 'Schakt', 'Transport')\n",
    "\n",
    "fig, ax = plt.subplots()\n",
    "\n",
    "ax.errorbar(y=Alla2_M_MLC_med, x=6, yerr = Alla2_M_MLC_e, capsize=10, elinewidth=3, markeredgewidth=3, color='black')\n",
    "ax.errorbar(y=Alla2_M_Transport_med, x=10, yerr = Alla2_M_Transport_e, capsize=10, elinewidth=3, markeredgewidth=3, color='cornflowerblue')\n",
    "ax.errorbar(y=Alla2_M_Schakt_med, x=9, yerr = Alla2_M_Schakt_e, capsize=10, elinewidth=3, markeredgewidth=3, color='darkgreen')\n",
    "ax.errorbar(y=Alla2_M_Deponi_med, x=4, yerr = Alla2_M_Deponi_e, capsize=10, elinewidth=3, markeredgewidth=3, color='peru')\n",
    "ax.errorbar(y=Alla2_M_Bergskross_med, x=2, yerr = Alla2_M_Bergskross_e, capsize=10, elinewidth=3, markeredgewidth=3, color='teal')\n",
    "ax.errorbar(y=Alla2_M_KC_med, x=5, yerr = Alla2_M_KC_e, capsize=10, elinewidth=3, markeredgewidth=3, color='gray')\n",
    "ax.errorbar(y=Alla2_M_SP_med, x=7, yerr = Alla2_M_SP_e, capsize=10, elinewidth=3, markeredgewidth=3, color='orchid')\n",
    "ax.errorbar(y=Alla2_M_AK_med, x=1, yerr = Alla2_M_AK_e, capsize=10, elinewidth=3, markeredgewidth=3, color='limegreen')\n",
    "ax.errorbar(y=Alla2_M_ORC_med, x=8, yerr = Alla2_M_ORC_e, capsize=10, elinewidth=3, markeredgewidth=3, color='darkblue')\n",
    "ax.errorbar(y=Alla2_M_Bränsle_med, x=3, yerr = Alla2_M_Bränsle_e, capsize=10, elinewidth=3, markeredgewidth=3, color='red')\n",
    "\n",
    "ax.set_facecolor('white')\n",
    "ax.grid(color='silver')\n",
    "\n",
    "ax.hlines(y=0, xmin=0.5, xmax=6.5, linewidth=1, color='black')\n",
    "\n",
    "ax.set_title('Materialåtgång Norra Djurggårdsstaden')\n",
    "ax.set_xticks((1,2,3,4,5,6,7,8,9,10))\n",
    "ax.set_xticklabels(xlabels, fontsize=8)\n",
    "ax.set_ylabel(m_label)"
   ]
  },
  {
   "cell_type": "code",
   "execution_count": 40,
   "id": "0e22bddc",
   "metadata": {},
   "outputs": [],
   "source": [
    "fig.savefig('Material-May', dpi=600, bbox_inches='tight')"
   ]
  },
  {
   "cell_type": "code",
   "execution_count": null,
   "id": "a018bb55",
   "metadata": {},
   "outputs": [],
   "source": []
  },
  {
   "cell_type": "code",
   "execution_count": 41,
   "id": "2c0060a6",
   "metadata": {},
   "outputs": [],
   "source": [
    "Alla2_W_MLC_min, Alla2_W_MLC_max, Alla2_W_MLC_med, Alla2_W_MLC_e = calcMinMaxMedianError(Alla2_W_MLC_Y, w_string)\n",
    "Alla2_W_Transport_min, Alla2_W_Transport_max, Alla2_W_Transport_med, Alla2_W_Transport_e = calcMinMaxMedianError(Alla2_W_Transport_Y, w_string)\n",
    "Alla2_W_Schakt_min, Alla2_W_Schakt_max, Alla2_W_Schakt_med, Alla2_W_Schakt_e = calcMinMaxMedianError(Alla2_W_Schakt_Y, w_string)\n",
    "Alla2_W_Deponi_min, Alla2_W_Deponi_max, Alla2_W_Deponi_med, Alla2_W_Deponi_e = calcMinMaxMedianError(Alla2_W_Deponi_Y, w_string)\n",
    "Alla2_W_Bergskross_min, Alla2_W_Bergskross_max, Alla2_W_Bergskross_med, Alla2_W_Bergskross_e = calcMinMaxMedianError(Alla2_W_Bergskross_Y, w_string)\n",
    "Alla2_W_KC_min, Alla2_W_KC_max, Alla2_W_KC_med, Alla2_W_KC_e = calcMinMaxMedianError(Alla2_W_KC_Y, w_string)\n",
    "Alla2_W_SP_min, Alla2_W_SP_max, Alla2_W_SP_med, Alla2_W_SP_e = calcMinMaxMedianError(Alla2_W_SP_Y, w_string)\n",
    "Alla2_W_AK_min, Alla2_W_AK_max, Alla2_W_AK_med, Alla2_W_AK_e = calcMinMaxMedianError(Alla2_W_AK_Y, w_string)\n",
    "Alla2_W_ORC_min, Alla2_W_ORC_max, Alla2_W_ORC_med, Alla2_W_ORC_e = calcMinMaxMedianError(Alla2_W_ORC_Y, w_string)\n",
    "Alla2_W_Bränsle_min, Alla2_W_Bränsle_max, Alla2_W_Bränsle_med, Alla2_W_Bränsle_e = calcMinMaxMedianError(Alla2_W_Bränsle_Y, w_string)\n"
   ]
  },
  {
   "cell_type": "code",
   "execution_count": 42,
   "id": "96e9d51e",
   "metadata": {},
   "outputs": [
    {
     "data": {
      "text/plain": [
       "Text(0, 0.5, 'm$^{3}$ / m$^{2}$ behandlad yta')"
      ]
     },
     "execution_count": 42,
     "metadata": {},
     "output_type": "execute_result"
    },
    {
     "data": {
      "image/png": "[encoded data removed]",
      "text/plain": [
       "<Figure size 800x550 with 1 Axes>"
      ]
     },
     "metadata": {},
     "output_type": "display_data"
    }
   ],
   "source": [
    "# color: https://matplotlib.org/stable/gallery/color/named_colors.html \n",
    "xlabels = ('AK', 'Bergskross', 'Bränsle', 'Deponi', 'KC', 'MLC', 'NP', 'ORC', 'Schakt', 'Transport')\n",
    "\n",
    "fig, ax = plt.subplots()\n",
    "\n",
    "ax.errorbar(y=Alla2_W_MLC_med, x=6, yerr = Alla2_W_MLC_e, capsize=10, elinewidth=3, markeredgewidth=3, color='black')\n",
    "ax.errorbar(y=Alla2_W_Transport_med, x=10, yerr = Alla2_W_Transport_e, capsize=10, elinewidth=3, markeredgewidth=3, color='cornflowerblue')\n",
    "ax.errorbar(y=Alla2_W_Schakt_med, x=9, yerr = Alla2_W_Schakt_e, capsize=10, elinewidth=3, markeredgewidth=3, color='darkgreen')\n",
    "ax.errorbar(y=Alla2_W_Deponi_med, x=4, yerr = Alla2_W_Deponi_e, capsize=10, elinewidth=3, markeredgewidth=3, color='peru')\n",
    "ax.errorbar(y=Alla2_W_Bergskross_med, x=2, yerr = Alla2_W_Bergskross_e, capsize=10, elinewidth=3, markeredgewidth=3, color='teal')\n",
    "ax.errorbar(y=Alla2_W_KC_med, x=5, yerr = Alla2_W_KC_e, capsize=10, elinewidth=3, markeredgewidth=3, color='gray')\n",
    "ax.errorbar(y=Alla2_W_SP_med, x=7, yerr = Alla2_W_SP_e, capsize=10, elinewidth=3, markeredgewidth=3, color='orchid')\n",
    "ax.errorbar(y=Alla2_W_AK_med, x=1, yerr = Alla2_W_AK_e, capsize=10, elinewidth=3, markeredgewidth=3, color='limegreen')\n",
    "ax.errorbar(y=Alla2_W_ORC_med, x=8, yerr = Alla2_W_ORC_e, capsize=10, elinewidth=3, markeredgewidth=3, color='darkblue')\n",
    "ax.errorbar(y=Alla2_W_Bränsle_med, x=3, yerr = Alla2_W_Bränsle_e, capsize=10, elinewidth=3, markeredgewidth=3, color='red')\n",
    "\n",
    "ax.set_facecolor('white')\n",
    "ax.grid(color='silver')\n",
    "\n",
    "ax.hlines(y=0, xmin=0.5, xmax=6.5, linewidth=1, color='black')\n",
    "\n",
    "ax.set_title('Vattenanvändning Norra Djurgårdsstaden')\n",
    "ax.set_xticks((1,2,3,4,5,6,7,8,9,10))\n",
    "ax.set_xticklabels(xlabels, fontsize=8)\n",
    "ax.set_ylabel(w_label)"
   ]
  },
  {
   "cell_type": "code",
   "execution_count": 43,
   "id": "4c12a0d3",
   "metadata": {},
   "outputs": [],
   "source": [
    "fig.savefig('Wateruse-May', dpi=600, bbox_inches='tight')"
   ]
  },
  {
   "cell_type": "code",
   "execution_count": null,
   "id": "59a68122",
   "metadata": {},
   "outputs": [],
   "source": []
  },
  {
   "cell_type": "markdown",
   "id": "ed69352e",
   "metadata": {},
   "source": [
    "## Sobol"
   ]
  },
  {
   "cell_type": "code",
   "execution_count": 103,
   "id": "b730928f",
   "metadata": {},
   "outputs": [],
   "source": [
    "# Sobol\n",
    "from lca_algebraic.stats import incer_stochastic_matrix_return"
   ]
  },
  {
   "cell_type": "code",
   "execution_count": 104,
   "id": "2016ede2",
   "metadata": {},
   "outputs": [],
   "source": [
    "Ei_akt = findActivity(\"ALLA\", db_name=USER_DB)"
   ]
  },
  {
   "cell_type": "code",
   "execution_count": 105,
   "id": "0715700e",
   "metadata": {
    "scrolled": true
   },
   "outputs": [
    {
     "name": "stderr",
     "output_type": "stream",
     "text": [
      "Error while parsing formula '' : backing to amount\n",
      "Error while parsing formula '' : backing to amount\n",
      "Error while parsing formula '' : backing to amount\n",
      "Error while parsing formula '' : backing to amount\n",
      "Error while parsing formula '' : backing to amount\n",
      "Error while parsing formula '' : backing to amount\n",
      "Error while parsing formula '' : backing to amount\n",
      "Error while parsing formula '' : backing to amount\n",
      "Error while parsing formula '' : backing to amount\n",
      "Error while parsing formula '' : backing to amount\n",
      "Error while parsing formula '' : backing to amount\n",
      "Error while parsing formula '' : backing to amount\n",
      "Error while parsing formula '' : backing to amount\n",
      "Error while parsing formula '' : backing to amount\n",
      "Error while parsing formula '' : backing to amount\n",
      "Error while parsing formula '' : backing to amount\n",
      "Error while parsing formula '' : backing to amount\n",
      "Error while parsing formula '' : backing to amount\n",
      "Error while parsing formula '' : backing to amount\n",
      "Error while parsing formula '' : backing to amount\n",
      "Error while parsing formula '' : backing to amount\n",
      "Error while parsing formula '' : backing to amount\n",
      "Error while parsing formula '' : backing to amount\n",
      "Error while parsing formula '' : backing to amount\n",
      "Error while parsing formula '' : backing to amount\n",
      "Error while parsing formula '' : backing to amount\n",
      "Error while parsing formula '' : backing to amount\n",
      "Error while parsing formula '' : backing to amount\n",
      "Error while parsing formula '' : backing to amount\n",
      "Error while parsing formula '' : backing to amount\n",
      "Error while parsing formula '' : backing to amount\n",
      "Error while parsing formula '' : backing to amount\n",
      "Error while parsing formula '' : backing to amount\n",
      "Error while parsing formula '' : backing to amount\n",
      "Error while parsing formula '' : backing to amount\n",
      "Error while parsing formula '' : backing to amount\n"
     ]
    },
    {
     "name": "stdout",
     "output_type": "stream",
     "text": [
      "Generating samples ...\n"
     ]
    },
    {
     "name": "stderr",
     "output_type": "stream",
     "text": [
      "C:\\Users\\liza-\\anaconda3\\envs\\brightway\\Lib\\site-packages\\SALib\\sample\\saltelli.py:110: UserWarning: \n",
      "        Convergence properties of the Sobol' sequence is only valid if\n",
      "        `N` (5000) is equal to `2^n`.\n",
      "        \n",
      "  warnings.warn(msg)\n"
     ]
    },
    {
     "name": "stdout",
     "output_type": "stream",
     "text": [
      "Transforming samples ...\n",
      "Processing Sobol indices ...\n",
      "Processing sobol for ('IPCC 2021', 'climate change: total (excl. biogenic CO2)', 'global warming potential (GWP100)')\n"
     ]
    },
    {
     "name": "stderr",
     "output_type": "stream",
     "text": [
      "C:\\Users\\liza-\\anaconda3\\envs\\brightway\\Lib\\site-packages\\SALib\\util\\__init__.py:274: FutureWarning: unique with argument that is not not a Series, Index, ExtensionArray, or np.ndarray is deprecated and will raise in a future version.\n",
      "  names = list(pd.unique(groups))\n"
     ]
    },
    {
     "name": "stdout",
     "output_type": "stream",
     "text": [
      "Processing sobol for ('ReCiPe 2016 v1.03, midpoint (H) no LT', 'acidification: terrestrial no LT', 'terrestrial acidification potential (TAP) no LT')\n",
      "Processing sobol for ('ReCiPe 2016 v1.03, midpoint (H) no LT', 'eutrophication: freshwater no LT', 'freshwater eutrophication potential (FEP) no LT')\n",
      "Processing sobol for ('ReCiPe 2016 v1.03, midpoint (H) no LT', 'eutrophication: marine no LT', 'marine eutrophication potential (MEP) no LT')\n",
      "Processing sobol for ('ReCiPe 2016 v1.03, midpoint (H) no LT', 'material resources: metals/minerals no LT', 'surplus ore potential (SOP) no LT')\n",
      "Processing sobol for ('ReCiPe 2016 v1.03, midpoint (H) no LT', 'water use no LT', 'water consumption potential (WCP) no LT')\n"
     ]
    }
   ],
   "source": [
    "sob1, problem1 = incer_stochastic_matrix_return(Ei_akt, all_methods, n=5000)"
   ]
  },
  {
   "cell_type": "code",
   "execution_count": 106,
   "id": "82ecd849",
   "metadata": {},
   "outputs": [],
   "source": [
    "sob_df1 = pd.DataFrame()\n",
    "sob_df1_round = pd.DataFrame()"
   ]
  },
  {
   "cell_type": "code",
   "execution_count": 107,
   "id": "708144e1",
   "metadata": {},
   "outputs": [],
   "source": [
    "for s, name in zip(sob1.s1, problem1['names']): # and every sobol & name\n",
    "    sob_df1[name] = s"
   ]
  },
  {
   "cell_type": "code",
   "execution_count": 108,
   "id": "eae805f2",
   "metadata": {
    "scrolled": true
   },
   "outputs": [
    {
     "data": {
      "text/html": [
       "<div>\n",
       "<style scoped>\n",
       "    .dataframe tbody tr th:only-of-type {\n",
       "        vertical-align: middle;\n",
       "    }\n",
       "\n",
       "    .dataframe tbody tr th {\n",
       "        vertical-align: top;\n",
       "    }\n",
       "\n",
       "    .dataframe thead th {\n",
       "        text-align: right;\n",
       "    }\n",
       "</style>\n",
       "<table border=\"1\" class=\"dataframe\">\n",
       "  <thead>\n",
       "    <tr style=\"text-align: right;\">\n",
       "      <th></th>\n",
       "      <th>AmountAC</th>\n",
       "      <th>AmountH2O</th>\n",
       "      <th>AmountKC</th>\n",
       "      <th>AmountNaOH</th>\n",
       "      <th>AmountORC</th>\n",
       "      <th>AmountOxidering</th>\n",
       "      <th>AmountStone</th>\n",
       "      <th>Biodiesel_CH4</th>\n",
       "      <th>Biodiesel_CO</th>\n",
       "      <th>Biodiesel_N2O</th>\n",
       "      <th>...</th>\n",
       "      <th>TrDisTAM</th>\n",
       "      <th>Tr_Copper_WS</th>\n",
       "      <th>Tr_Rubber_WS</th>\n",
       "      <th>Tr_Steel_WS</th>\n",
       "      <th>Tr_VS_CA</th>\n",
       "      <th>WS_machine_weight</th>\n",
       "      <th>WeightOfLoader</th>\n",
       "      <th>WorkingDay</th>\n",
       "      <th>oxid_switch_param</th>\n",
       "      <th>sikt_switch_param</th>\n",
       "    </tr>\n",
       "  </thead>\n",
       "  <tbody>\n",
       "    <tr>\n",
       "      <th>0</th>\n",
       "      <td>0.001175</td>\n",
       "      <td>3.802398e-11</td>\n",
       "      <td>0.011541</td>\n",
       "      <td>0.000766</td>\n",
       "      <td>0.000124</td>\n",
       "      <td>0.043038</td>\n",
       "      <td>0.000014</td>\n",
       "      <td>2.707167e-08</td>\n",
       "      <td>0.0</td>\n",
       "      <td>-0.000003</td>\n",
       "      <td>...</td>\n",
       "      <td>3.287976e-07</td>\n",
       "      <td>-1.099485e-07</td>\n",
       "      <td>-1.221889e-07</td>\n",
       "      <td>-2.566850e-06</td>\n",
       "      <td>0.000022</td>\n",
       "      <td>0.000137</td>\n",
       "      <td>-3.364846e-07</td>\n",
       "      <td>0.000013</td>\n",
       "      <td>0.699177</td>\n",
       "      <td>0.065865</td>\n",
       "    </tr>\n",
       "    <tr>\n",
       "      <th>1</th>\n",
       "      <td>0.000431</td>\n",
       "      <td>-3.328602e-10</td>\n",
       "      <td>0.000580</td>\n",
       "      <td>0.000205</td>\n",
       "      <td>0.000273</td>\n",
       "      <td>0.057682</td>\n",
       "      <td>0.000015</td>\n",
       "      <td>0.000000e+00</td>\n",
       "      <td>0.0</td>\n",
       "      <td>0.000000</td>\n",
       "      <td>...</td>\n",
       "      <td>1.114380e-07</td>\n",
       "      <td>5.791216e-09</td>\n",
       "      <td>-1.227133e-08</td>\n",
       "      <td>-4.201543e-07</td>\n",
       "      <td>0.000002</td>\n",
       "      <td>0.000052</td>\n",
       "      <td>1.631067e-08</td>\n",
       "      <td>0.000007</td>\n",
       "      <td>0.327149</td>\n",
       "      <td>0.022777</td>\n",
       "    </tr>\n",
       "    <tr>\n",
       "      <th>2</th>\n",
       "      <td>0.001415</td>\n",
       "      <td>2.481431e-10</td>\n",
       "      <td>0.000471</td>\n",
       "      <td>0.001318</td>\n",
       "      <td>-0.000053</td>\n",
       "      <td>0.011598</td>\n",
       "      <td>0.000052</td>\n",
       "      <td>0.000000e+00</td>\n",
       "      <td>0.0</td>\n",
       "      <td>0.000000</td>\n",
       "      <td>...</td>\n",
       "      <td>8.484010e-08</td>\n",
       "      <td>-2.569827e-08</td>\n",
       "      <td>-2.080250e-08</td>\n",
       "      <td>-8.302335e-07</td>\n",
       "      <td>-0.000017</td>\n",
       "      <td>0.000417</td>\n",
       "      <td>-3.092337e-07</td>\n",
       "      <td>0.000012</td>\n",
       "      <td>0.960099</td>\n",
       "      <td>-0.000465</td>\n",
       "    </tr>\n",
       "    <tr>\n",
       "      <th>3</th>\n",
       "      <td>0.000162</td>\n",
       "      <td>-4.603524e-11</td>\n",
       "      <td>0.000154</td>\n",
       "      <td>0.020108</td>\n",
       "      <td>0.003835</td>\n",
       "      <td>0.164711</td>\n",
       "      <td>0.000038</td>\n",
       "      <td>0.000000e+00</td>\n",
       "      <td>0.0</td>\n",
       "      <td>0.000000</td>\n",
       "      <td>...</td>\n",
       "      <td>2.827029e-07</td>\n",
       "      <td>2.694198e-07</td>\n",
       "      <td>6.281435e-08</td>\n",
       "      <td>4.128555e-06</td>\n",
       "      <td>0.000247</td>\n",
       "      <td>0.000150</td>\n",
       "      <td>7.526238e-07</td>\n",
       "      <td>0.000090</td>\n",
       "      <td>0.390021</td>\n",
       "      <td>0.100847</td>\n",
       "    </tr>\n",
       "    <tr>\n",
       "      <th>4</th>\n",
       "      <td>0.000058</td>\n",
       "      <td>-1.797213e-09</td>\n",
       "      <td>0.003411</td>\n",
       "      <td>0.029307</td>\n",
       "      <td>0.013421</td>\n",
       "      <td>0.117441</td>\n",
       "      <td>-0.000004</td>\n",
       "      <td>0.000000e+00</td>\n",
       "      <td>0.0</td>\n",
       "      <td>0.000000</td>\n",
       "      <td>...</td>\n",
       "      <td>7.172774e-07</td>\n",
       "      <td>1.717610e-07</td>\n",
       "      <td>1.099427e-07</td>\n",
       "      <td>6.438643e-06</td>\n",
       "      <td>0.000457</td>\n",
       "      <td>-0.000043</td>\n",
       "      <td>3.011715e-06</td>\n",
       "      <td>0.000307</td>\n",
       "      <td>0.375635</td>\n",
       "      <td>0.274435</td>\n",
       "    </tr>\n",
       "    <tr>\n",
       "      <th>5</th>\n",
       "      <td>0.000014</td>\n",
       "      <td>9.708834e-10</td>\n",
       "      <td>0.000168</td>\n",
       "      <td>0.000367</td>\n",
       "      <td>0.000379</td>\n",
       "      <td>0.078989</td>\n",
       "      <td>0.000022</td>\n",
       "      <td>0.000000e+00</td>\n",
       "      <td>0.0</td>\n",
       "      <td>0.000000</td>\n",
       "      <td>...</td>\n",
       "      <td>8.828339e-08</td>\n",
       "      <td>3.007243e-08</td>\n",
       "      <td>5.395559e-09</td>\n",
       "      <td>8.933032e-07</td>\n",
       "      <td>0.000005</td>\n",
       "      <td>0.000022</td>\n",
       "      <td>2.472719e-07</td>\n",
       "      <td>0.000006</td>\n",
       "      <td>0.303683</td>\n",
       "      <td>0.441972</td>\n",
       "    </tr>\n",
       "  </tbody>\n",
       "</table>\n",
       "<p>6 rows × 61 columns</p>\n",
       "</div>"
      ],
      "text/plain": [
       "   AmountAC     AmountH2O  AmountKC  AmountNaOH  AmountORC  AmountOxidering  \\\n",
       "0  0.001175  3.802398e-11  0.011541    0.000766   0.000124         0.043038   \n",
       "1  0.000431 -3.328602e-10  0.000580    0.000205   0.000273         0.057682   \n",
       "2  0.001415  2.481431e-10  0.000471    0.001318  -0.000053         0.011598   \n",
       "3  0.000162 -4.603524e-11  0.000154    0.020108   0.003835         0.164711   \n",
       "4  0.000058 -1.797213e-09  0.003411    0.029307   0.013421         0.117441   \n",
       "5  0.000014  9.708834e-10  0.000168    0.000367   0.000379         0.078989   \n",
       "\n",
       "   AmountStone  Biodiesel_CH4  Biodiesel_CO  Biodiesel_N2O  ...      TrDisTAM  \\\n",
       "0     0.000014   2.707167e-08           0.0      -0.000003  ...  3.287976e-07   \n",
       "1     0.000015   0.000000e+00           0.0       0.000000  ...  1.114380e-07   \n",
       "2     0.000052   0.000000e+00           0.0       0.000000  ...  8.484010e-08   \n",
       "3     0.000038   0.000000e+00           0.0       0.000000  ...  2.827029e-07   \n",
       "4    -0.000004   0.000000e+00           0.0       0.000000  ...  7.172774e-07   \n",
       "5     0.000022   0.000000e+00           0.0       0.000000  ...  8.828339e-08   \n",
       "\n",
       "   Tr_Copper_WS  Tr_Rubber_WS   Tr_Steel_WS  Tr_VS_CA  WS_machine_weight  \\\n",
       "0 -1.099485e-07 -1.221889e-07 -2.566850e-06  0.000022           0.000137   \n",
       "1  5.791216e-09 -1.227133e-08 -4.201543e-07  0.000002           0.000052   \n",
       "2 -2.569827e-08 -2.080250e-08 -8.302335e-07 -0.000017           0.000417   \n",
       "3  2.694198e-07  6.281435e-08  4.128555e-06  0.000247           0.000150   \n",
       "4  1.717610e-07  1.099427e-07  6.438643e-06  0.000457          -0.000043   \n",
       "5  3.007243e-08  5.395559e-09  8.933032e-07  0.000005           0.000022   \n",
       "\n",
       "   WeightOfLoader  WorkingDay  oxid_switch_param  sikt_switch_param  \n",
       "0   -3.364846e-07    0.000013           0.699177           0.065865  \n",
       "1    1.631067e-08    0.000007           0.327149           0.022777  \n",
       "2   -3.092337e-07    0.000012           0.960099          -0.000465  \n",
       "3    7.526238e-07    0.000090           0.390021           0.100847  \n",
       "4    3.011715e-06    0.000307           0.375635           0.274435  \n",
       "5    2.472719e-07    0.000006           0.303683           0.441972  \n",
       "\n",
       "[6 rows x 61 columns]"
      ]
     },
     "execution_count": 108,
     "metadata": {},
     "output_type": "execute_result"
    }
   ],
   "source": [
    "sob_df1"
   ]
  },
  {
   "cell_type": "code",
   "execution_count": 109,
   "id": "3f32f530",
   "metadata": {},
   "outputs": [],
   "source": [
    "with pd.ExcelWriter('Sobol.xlsx') as writer:  \n",
    "    sob_df1.to_excel(writer, sheet_name='Alla')"
   ]
  },
  {
   "cell_type": "code",
   "execution_count": null,
   "id": "e640198f",
   "metadata": {},
   "outputs": [],
   "source": []
  },
  {
   "cell_type": "code",
   "execution_count": 157,
   "id": "8e01ebe2",
   "metadata": {
    "scrolled": true
   },
   "outputs": [
    {
     "name": "stdout",
     "output_type": "stream",
     "text": [
      "Generating samples ...\n"
     ]
    },
    {
     "name": "stderr",
     "output_type": "stream",
     "text": [
      "C:\\Users\\liza-\\anaconda3\\envs\\brightway\\Lib\\site-packages\\SALib\\sample\\saltelli.py:110: UserWarning: \n",
      "        Convergence properties of the Sobol' sequence is only valid if\n",
      "        `N` (5000) is equal to `2^n`.\n",
      "        \n",
      "  warnings.warn(msg)\n"
     ]
    },
    {
     "name": "stdout",
     "output_type": "stream",
     "text": [
      "Transforming samples ...\n"
     ]
    },
    {
     "name": "stderr",
     "output_type": "stream",
     "text": [
      "Error while parsing formula '' : backing to amount\n",
      "Error while parsing formula '' : backing to amount\n",
      "Error while parsing formula '' : backing to amount\n",
      "Error while parsing formula '' : backing to amount\n",
      "Error while parsing formula '' : backing to amount\n",
      "Error while parsing formula '' : backing to amount\n",
      "Error while parsing formula '' : backing to amount\n",
      "Error while parsing formula '' : backing to amount\n",
      "Error while parsing formula '' : backing to amount\n",
      "Error while parsing formula '' : backing to amount\n",
      "Error while parsing formula '' : backing to amount\n",
      "Error while parsing formula '' : backing to amount\n",
      "Error while parsing formula '' : backing to amount\n",
      "Error while parsing formula '' : backing to amount\n",
      "Error while parsing formula '' : backing to amount\n",
      "Error while parsing formula '' : backing to amount\n",
      "Error while parsing formula '' : backing to amount\n",
      "Error while parsing formula '' : backing to amount\n",
      "Error while parsing formula '' : backing to amount\n",
      "Error while parsing formula '' : backing to amount\n",
      "Error while parsing formula '' : backing to amount\n",
      "Error while parsing formula '' : backing to amount\n",
      "Error while parsing formula '' : backing to amount\n",
      "Error while parsing formula '' : backing to amount\n",
      "Error while parsing formula '' : backing to amount\n",
      "Error while parsing formula '' : backing to amount\n",
      "Error while parsing formula '' : backing to amount\n",
      "Error while parsing formula '' : backing to amount\n",
      "Error while parsing formula '' : backing to amount\n",
      "Error while parsing formula '' : backing to amount\n",
      "Error while parsing formula '' : backing to amount\n",
      "Error while parsing formula '' : backing to amount\n",
      "Error while parsing formula '' : backing to amount\n",
      "Error while parsing formula '' : backing to amount\n",
      "Error while parsing formula '' : backing to amount\n",
      "Error while parsing formula '' : backing to amount\n"
     ]
    }
   ],
   "source": [
    "problem1, params, Y2 = _stochastics(Ei_akt, all_methods, n=5000) #optimalt antal iterationer"
   ]
  },
  {
   "cell_type": "code",
   "execution_count": 158,
   "id": "2db497a9",
   "metadata": {
    "scrolled": true
   },
   "outputs": [
    {
     "data": {
      "text/plain": [
       "(       climate change: total (excl. biogenic CO2) - global warming potential (GWP100) [kg CO2-Eq / kWh]  \\\n",
       " median                                         885.369763                                                 \n",
       " std                                             79.319198                                                 \n",
       " p                 [764.9211114477547, 1023.6593317638457]                                                 \n",
       " mean                                           888.979879                                                 \n",
       " var                                              0.089225                                                 \n",
       " \n",
       "        acidification: terrestrial no LT - terrestrial acidification potential (TAP) no LT [kg SO2-Eq / kWh]  \\\n",
       " median                                           7.411896                                                     \n",
       " std                                              0.664408                                                     \n",
       " p                   [6.297324340016913, 8.50389227531182]                                                     \n",
       " mean                                             7.413377                                                     \n",
       " var                                              0.089623                                                     \n",
       " \n",
       "        eutrophication: freshwater no LT - freshwater eutrophication potential (FEP) no LT [kg P-Eq / kWh]  \\\n",
       " median                                           0.024862                                                   \n",
       " std                                              0.005126                                                   \n",
       " p             [0.021197224426821676, 0.03553198148283372]                                                   \n",
       " mean                                             0.027078                                                   \n",
       " var                                              0.189292                                                   \n",
       " \n",
       "        eutrophication: marine no LT - marine eutrophication potential (MEP) no LT [kg N-Eq / kWh]  \\\n",
       " median                                             0.0144                                           \n",
       " std                                              0.000944                                           \n",
       " p            [0.012840638726612862, 0.015939678780752926]                                           \n",
       " mean                                             0.014394                                           \n",
       " var                                              0.065592                                           \n",
       " \n",
       "        material resources: metals/minerals no LT - surplus ore potential (SOP) no LT [kg Cu-Eq / kWh]  \\\n",
       " median                                          44.715438                                               \n",
       " std                                              3.228745                                               \n",
       " p                  [39.08018783804624, 49.78652610217187]                                               \n",
       " mean                                             44.64639                                               \n",
       " var                                              0.072318                                               \n",
       " \n",
       "        water use no LT - water consumption potential (WCP) no LT [m3 / kWh]  \n",
       " median                                          16.800484                    \n",
       " std                                              0.965482                    \n",
       " p                [15.293626533102344, 18.435928399747542]                    \n",
       " mean                                            16.833634                    \n",
       " var                                              0.057354                    ,\n",
       " {'median': 16.8004839031954,\n",
       "  'std': 0.9654820543597208,\n",
       "  'p': [15.293626533102344, 18.435928399747542],\n",
       "  'mean': 16.833633664220198,\n",
       "  'var': 0.05735434628186355},\n",
       " 0         15.209022\n",
       " 1         15.209120\n",
       " 2         15.209022\n",
       " 3         15.815341\n",
       " 4         15.209022\n",
       "             ...    \n",
       " 709995    18.168087\n",
       " 709996    18.166683\n",
       " 709997    15.824233\n",
       " 709998    18.166683\n",
       " 709999    18.166683\n",
       " Name: water use no LT - water consumption potential (WCP) no LT, Length: 710000, dtype: float64)"
      ]
     },
     "execution_count": 158,
     "metadata": {},
     "output_type": "execute_result"
    },
    {
     "data": {
      "image/png": "[encoded data removed]",
      "text/plain": [
       "<Figure size 1500x2100 with 6 Axes>"
      ]
     },
     "metadata": {},
     "output_type": "display_data"
    }
   ],
   "source": [
    "distrib(\n",
    "    Ei_akt, all_methods, Y=Y2,\n",
    "    \n",
    "    # Optionnal layout parameters\n",
    "    height=7, width=15,\n",
    "    nb_cols=2)"
   ]
  },
  {
   "cell_type": "markdown",
   "id": "c0528979",
   "metadata": {},
   "source": [
    "## define switches"
   ]
  },
  {
   "cell_type": "code",
   "execution_count": null,
   "id": "69b777fb",
   "metadata": {},
   "outputs": [],
   "source": [
    "#DO NOT TOUCH"
   ]
  },
  {
   "cell_type": "code",
   "execution_count": null,
   "id": "e17ca4b5",
   "metadata": {},
   "outputs": [],
   "source": [
    "# just a random ei act for now, to be replaced later\n",
    "ei_act = getActByCode('ecoinvent-3.11-cutoff', '28c0797a4fe97dc50747cd39ad8508e5')"
   ]
  },
  {
   "cell_type": "code",
   "execution_count": 27,
   "id": "c4c6f3ef",
   "metadata": {},
   "outputs": [
    {
     "ename": "AttributeError",
     "evalue": "'str' object has no attribute 'new_activity'",
     "output_type": "error",
     "traceback": [
      "\u001b[1;31m---------------------------------------------------------------------------\u001b[0m",
      "\u001b[1;31mAttributeError\u001b[0m                            Traceback (most recent call last)",
      "Cell \u001b[1;32mIn[27], line 1\u001b[0m\n\u001b[1;32m----> 1\u001b[0m na\u001b[38;5;241m=\u001b[39mfg\u001b[38;5;241m.\u001b[39mnew_activity(\u001b[38;5;124m\"\u001b[39m\u001b[38;5;124mSiktning\u001b[39m\u001b[38;5;124m\"\u001b[39m)\n",
      "\u001b[1;31mAttributeError\u001b[0m: 'str' object has no attribute 'new_activity'"
     ]
    }
   ],
   "source": [
    "na=ag.new_activity(\"Siktning\") #Rör inte"
   ]
  },
  {
   "cell_type": "code",
   "execution_count": 19,
   "id": "7ba47ae1",
   "metadata": {},
   "outputs": [],
   "source": [
    "na['name'] = 'Siktning'\n",
    "na['unit'] = 'unit'\n",
    "na['reference product'] = \"Siktning\"\n",
    "na.save()"
   ]
  },
  {
   "cell_type": "code",
   "execution_count": null,
   "id": "498610f9",
   "metadata": {},
   "outputs": [],
   "source": [
    "ne3 = na.new_exchange(input=na, amount=1, type='production')\n",
    "ne3.save()"
   ]
  },
  {
   "cell_type": "code",
   "execution_count": 24,
   "id": "f98c1318",
   "metadata": {},
   "outputs": [],
   "source": [
    "na2=fg.new_activity(\"Deponi\")\n",
    "na2['name'] = 'Deponi'\n",
    "na2['unit'] = 'unit'\n",
    "na2['reference product'] = \"Deponi\"\n",
    "na2.save()"
   ]
  },
  {
   "cell_type": "code",
   "execution_count": 47,
   "id": "4256f3fa",
   "metadata": {},
   "outputs": [],
   "source": [
    "ne2=na2.new_exchange(input=na2, amount=1, type='production')\n",
    "ne2.save()"
   ]
  },
  {
   "cell_type": "code",
   "execution_count": 25,
   "id": "02af3b14",
   "metadata": {},
   "outputs": [],
   "source": [
    "ne4 = na2.new_exchange(input=ei_act, amount=1, type='technosphere')\n",
    "ne4.save()"
   ]
  },
  {
   "cell_type": "code",
   "execution_count": 29,
   "id": "9b7df074",
   "metadata": {},
   "outputs": [],
   "source": [
    "sikt_switch_param = newEnumParam(\n",
    "\n",
    "    'sikt_switch_param',\n",
    "\n",
    "    values=[\"siktning\", \"deponi\"], # If provided as list, all possibilities have te same probability\n",
    "\n",
    "    default=\"deponi\",\n",
    "\n",
    "    description=\"Switch on sikt\")"
   ]
  },
  {
   "cell_type": "code",
   "execution_count": 57,
   "id": "784f5d35",
   "metadata": {},
   "outputs": [],
   "source": [
    "sikt_act = getActByCode('Schakt Deponi', 'Siktning')\n",
    "deponi_act = getActByCode('Schakt Deponi', 'Deponi')"
   ]
  },
  {
   "cell_type": "code",
   "execution_count": 60,
   "id": "1e2561d3",
   "metadata": {},
   "outputs": [],
   "source": [
    "siktSwitch = newSwitchAct('Schakt Deponi',\n",
    "\n",
    "    \"siktSwitch\", # Name\n",
    "\n",
    "    sikt_switch_param, # Switch parameter\n",
    "\n",
    "    {\n",
    "\n",
    "        \"siktning\" : sikt_act,\n",
    "\n",
    "        \"deponi\": deponi_act\n",
    "\n",
    "    })\n",
    "\n",
    "siktSwitch.addExchanges({siktSwitch:1})"
   ]
  },
  {
   "cell_type": "code",
   "execution_count": 61,
   "id": "c126dd95",
   "metadata": {},
   "outputs": [],
   "source": [
    "oxid_switch_param = newEnumParam(\n",
    "\n",
    "    'oxid_switch_param',\n",
    "\n",
    "    values=[\"Oxidering\", \"OxideringKol\", \"OxideringORC\"], # If provided as list, all possibilities have te same probability\n",
    "\n",
    "    default=\"Oxidering\",\n",
    "\n",
    "    description=\"Switch on oxidering\")"
   ]
  },
  {
   "cell_type": "code",
   "execution_count": 62,
   "id": "5941e0b9",
   "metadata": {},
   "outputs": [],
   "source": [
    "oxidering_act = getActByCode('Schakt Deponi', '04365d8fc109487186b0e047653bcd05')\n",
    "oxideringKol_act = getActByCode('Schakt Deponi', 'ce54fac45bf24dc78d661c14456a3b64')\n",
    "oxideringORC_act = getActByCode('Schakt Deponi', '63fc21c25251460fb848340429c21aec')\n"
   ]
  },
  {
   "cell_type": "code",
   "execution_count": 63,
   "id": "81b5234b",
   "metadata": {},
   "outputs": [],
   "source": [
    "oxideringSwitch = newSwitchAct('Schakt Deponi',\n",
    "\n",
    "    \"oxideringSwitch\", #oxidering_act = getActByCode('Schakt Deponi', '04365d8fc109487186b0e047653bcd05')\n",
    "oxideringKol_act = getActByCode('Schakt Deponi', 'ce54fac45bf24dc78d661c14456a3b64')\n",
    "oxideringORC_act = getActByCode('Schakt Deponi', '63fc21c25251460fb848340429c21aec')\n",
    " Name\n",
    "\n",
    "    oxid_switch_param, # Switch parameter\n",
    "\n",
    "    {\n",
    "\n",
    "        \"Oxidering\" : oxidering_act,\n",
    "\n",
    "        \"OxideringKol\": oxideringKol_act,\n",
    "        \n",
    "        \"OxideringORC\": oxideringORC_act\n",
    "\n",
    "    })\n",
    "\n",
    "oxideringSwitch.addExchanges({oxideringSwitch:1})"
   ]
  },
  {
   "cell_type": "code",
   "execution_count": 35,
   "id": "71bb9697",
   "metadata": {
    "scrolled": true
   },
   "outputs": [],
   "source": [
    "activityDiesel=la.newActivity(USER_DB,\n",
    "    \"diesel\",\n",
    "    \"unit\",\n",
    "    )"
   ]
  },
  {
   "cell_type": "code",
   "execution_count": 36,
   "id": "6249e5f4",
   "metadata": {
    "scrolled": true
   },
   "outputs": [],
   "source": [
    "activityBiodiesel=la.newActivity(USER_DB,\n",
    "    \"biodiesel\",\n",
    "    \"unit\",\n",
    "    )"
   ]
  },
  {
   "cell_type": "code",
   "execution_count": 37,
   "id": "266b0a52",
   "metadata": {},
   "outputs": [],
   "source": [
    "diesel_switch_param = newEnumParam(\n",
    "\n",
    "    'diesel_switch_param',\n",
    "\n",
    "    values=[\"diesel\", \"biodiesel\"], # If provided as list, all possibilities have te same probability\n",
    "\n",
    "    default=\"diesel\",\n",
    "\n",
    "    description=\"Switch on diesel\")"
   ]
  },
  {
   "cell_type": "code",
   "execution_count": 38,
   "id": "f051926a",
   "metadata": {},
   "outputs": [],
   "source": [
    "diesel_act = getActByCode('Schakt Deponi', 'diesel')\n",
    "biodiesel_act = getActByCode('Schakt Deponi', 'biodiesel')"
   ]
  },
  {
   "cell_type": "code",
   "execution_count": 39,
   "id": "98606f69",
   "metadata": {},
   "outputs": [],
   "source": [
    "dieselSwitch = newSwitchAct('Schakt Deponi',\n",
    "\n",
    "    \"dieselSwitch\", \n",
    "\n",
    "    diesel_switch_param, # Switch parameter\n",
    "\n",
    "    {\n",
    "\n",
    "        \"diesel\" : diesel_act,\n",
    "\n",
    "        \"biodiesel\": biodiesel_act,\n",
    "\n",
    "    })\n",
    "dieselSwitch.addExchanges({dieselSwitch:1})"
   ]
  },
  {
   "cell_type": "markdown",
   "id": "5d224496",
   "metadata": {},
   "source": [
    "Utgångskod "
   ]
  },
  {
   "cell_type": "code",
   "execution_count": null,
   "id": "47db1178",
   "metadata": {},
   "outputs": [],
   "source": [
    "# steg 1: definiera diskret parameter\n",
    "\n",
    "sikt_switch_param = newEnumParam(\n",
    "\n",
    "    'sikt_switch_param',\n",
    "\n",
    "    values=[\"siktning\", \"deponi\"], # If provided as list, all possibilities have te same probability\n",
    "\n",
    "    default=\"deponi\",\n",
    "\n",
    "    description=\"Switch on sikt\")\n",
    "\n",
    "--\n",
    "\n",
    "# (steg 1.5: definiera aktiviteter vi vill ”switcha” mellan i ab om inte har gjort det)\n",
    "\n",
    "--\n",
    "\n",
    "# steg 2: hitta aktiviteterna i databasen så vi kan stoppa in dem i switch-aktiviteten, i exemplet aktiviteter i ecoinvent\n",
    "\n",
    "elecWindpower = getActByCode('cutoff391', '1d9be64d54b61ac64ba8a6f7ca220371')\n",
    "\n",
    "elecCoal = getActByCode('cutoff391', '7bea67942b5e008ee3dc5bafec8e1614')\n",
    "\n",
    "--\n",
    "\n",
    "# steg 3: definiera aktiviteten som kommer konsumera den diskreta parametern\n",
    "\n",
    "elecSwitch = newSwitchAct('wwt_db',\n",
    "\n",
    "    \"elecSwitch\", # Name\n",
    "\n",
    "    elec_switch_param, # Switch parameter\n",
    "\n",
    "    {\n",
    "\n",
    "        \"elecWindpower\" : elecWindpower,\n",
    "\n",
    "        \"elecCoal\": elecCoal\n",
    "\n",
    "    })\n",
    "\n",
    "elecSwitch.addExchanges({elecSwitch:1})"
   ]
  }
 ],
 "metadata": {
  "kernelspec": {
   "display_name": "Python 3 (ipykernel)",
   "language": "python",
   "name": "python3"
  },
  "language_info": {
   "codemirror_mode": {
    "name": "ipython",
    "version": 3
   },
   "file_extension": ".py",
   "mimetype": "text/x-python",
   "name": "python",
   "nbconvert_exporter": "python",
   "pygments_lexer": "ipython3",
   "version": "3.13.1"
  },
  "toc": {
   "base_numbering": 1,
   "nav_menu": {},
   "number_sections": true,
   "sideBar": true,
   "skip_h1_title": true,
   "title_cell": "Table of Contents",
   "title_sidebar": "Contents",
   "toc_cell": false,
   "toc_position": {
    "height": "calc(100% - 180px)",
    "left": "10px",
    "top": "150px",
    "width": "165px"
   },
   "toc_section_display": true,
   "toc_window_display": true
  }
 },
 "nbformat": 4,
 "nbformat_minor": 5
}
